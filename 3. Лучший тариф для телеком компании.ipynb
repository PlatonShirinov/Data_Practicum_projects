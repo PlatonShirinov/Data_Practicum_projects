{
 "cells": [
  {
   "cell_type": "markdown",
   "metadata": {},
   "source": [
    "# Определение перспективного тарифа для телеком компании\n"
   ]
  },
  {
   "cell_type": "markdown",
   "metadata": {},
   "source": [
    "Вы аналитик компании «Мегалайн» — федерального оператора сотовой связи. Клиентам предлагают два тарифных плана: «Смарт» и «Ультра». Чтобы скорректировать рекламный бюджет, коммерческий департамент хочет понять, какой тариф приносит больше денег.\n",
    "Вам предстоит сделать предварительный анализ тарифов на небольшой выборке клиентов. В вашем распоряжении данные 500 пользователей «Мегалайна»: кто они, откуда, каким тарифом пользуются, сколько звонков и сообщений каждый отправил за 2018 год. Нужно проанализировать поведение клиентов и сделать вывод — какой тариф лучше."
   ]
  },
  {
   "cell_type": "markdown",
   "metadata": {},
   "source": [
    "# Описание тарифов\n",
    "### Тариф «Смарт»\n",
    "1. Ежемесячная плата: 550 рублей\n",
    "2. Включено 500 минут разговора, 50 сообщений и 15 Гб интернет-трафика\n",
    "3. Стоимость услуг сверх тарифного пакета:\n",
    "* минута разговора: 3 рубля\n",
    "* сообщение: 3 рубля\n",
    "* 1 Гб интернет-трафика: 200 рублей"
   ]
  },
  {
   "cell_type": "markdown",
   "metadata": {},
   "source": [
    "### Тариф «Ультра»\n",
    "1. Ежемесячная плата: 1950 рублей\n",
    "2. Включено 3000 минут разговора, 1000 сообщений и 30 Гб интернет-трафика\n",
    "3. Стоимость услуг сверх тарифного пакета:\n",
    "* минута разговора: 1 рубль\n",
    "* сообщение: 1 рубль\n",
    "* 1 Гб интернет-трафика: 150 рублей"
   ]
  },
  {
   "cell_type": "markdown",
   "metadata": {},
   "source": [
    "# Описание данных\n",
    "\n",
    "##### Таблица users (информация о пользователях):\n",
    "* user_id — уникальный идентификатор пользователя\n",
    "* first_name — имя пользователя\n",
    "* last_name — фамилия пользователя\n",
    "* age — возраст пользователя (годы)\n",
    "* reg_date — дата подключения тарифа (день, месяц, год)\n",
    "* churn_date — дата прекращения пользования тарифом (если значение пропущено, то тариф ещё действовал на момент выгрузки данных)\n",
    "* city — город проживания пользователя\n",
    "* tariff — название тарифного плана\n",
    "##### Таблица calls (информация о звонках):\n",
    "* id — уникальный номер звонка\n",
    "* call_date — дата звонка\n",
    "* duration — длительность звонка в минутах\n",
    "* user_id — идентификатор пользователя, сделавшего звонок\n",
    "* Таблица messages (информация о сообщениях):\n",
    "* id — уникальный номер сообщения\n",
    "* message_date — дата сообщения\n",
    "* user_id — идентификатор пользователя, отправившего сообщение\n",
    "##### Таблица internet (информация об интернет-сессиях):\n",
    "* id — уникальный номер сессии\n",
    "* mb_used — объём потраченного за сессию интернет-трафика (в мегабайтах)\n",
    "* session_date — дата интернет-сессии\n",
    "* user_id — идентификатор пользователя\n",
    "##### Таблица tariffs (информация о тарифах):\n",
    "* tariff_name — название тарифа\n",
    "* rub_monthly_fee — ежемесячная абонентская плата в рублях\n",
    "* minutes_included — количество минут разговора в месяц, включённых в абонентскую плату\n",
    "* messages_included — количество сообщений в месяц, включённых в абонентскую плату\n",
    "* mb_per_month_included — объём интернет-трафика, включённого в абонентскую плату (в мегабайтах)\n",
    "* rub_per_minute — стоимость минуты разговора сверх тарифного пакета (например, если в тарифе 100 минут разговора в месяц, то со 101 минуты будет взиматься плата)\n",
    "* rub_per_message — стоимость отправки сообщения сверх тарифного пакета\n",
    "* rub_per_gb — стоимость дополнительного гигабайта интернет-трафика сверх тарифного пакета (1 гигабайт = 1024 мегабайта)Таблица users (информация о пользователях):\n",
    "* user_id — уникальный идентификатор пользователя\n",
    "* first_name — имя пользователя\n",
    "* last_name — фамилия пользователя\n",
    "* age — возраст пользователя (годы)\n",
    "* reg_date — дата подключения тарифа (день, месяц, год)\n",
    "* churn_date — дата прекращения пользования тарифом (если значение пропущено, то тариф ещё действовал на момент выгрузки данных)\n",
    "* city — город проживания пользователя\n",
    "* tariff — название тарифного плана"
   ]
  },
  {
   "cell_type": "markdown",
   "metadata": {},
   "source": [
    "# Шаг 1. Откройте файл с данными и изучите общую информацию"
   ]
  },
  {
   "cell_type": "code",
   "execution_count": 1,
   "metadata": {},
   "outputs": [],
   "source": [
    "#import pandas as pd\n",
    "#\n",
    "#from matplotlib import pyplot as plt\n",
    "#import warnings\n",
    "#warnings.filterwarnings (action = 'ignore')\n",
    "#import seaborn as sns\n",
    "#from functools import reduce"
   ]
  },
  {
   "cell_type": "code",
   "execution_count": 2,
   "metadata": {},
   "outputs": [],
   "source": [
    "import pandas as pd\n",
    "import numpy as np\n",
    "import matplotlib.pyplot as plt\n",
    "%matplotlib inline\n",
    "import seaborn as sns\n",
    "from scipy import stats as st\n",
    "from math import ceil as math\n",
    "from functools import reduce"
   ]
  },
  {
   "cell_type": "code",
   "execution_count": 3,
   "metadata": {},
   "outputs": [
    {
     "data": {
      "text/html": [
       "<div>\n",
       "<style scoped>\n",
       "    .dataframe tbody tr th:only-of-type {\n",
       "        vertical-align: middle;\n",
       "    }\n",
       "\n",
       "    .dataframe tbody tr th {\n",
       "        vertical-align: top;\n",
       "    }\n",
       "\n",
       "    .dataframe thead th {\n",
       "        text-align: right;\n",
       "    }\n",
       "</style>\n",
       "<table border=\"1\" class=\"dataframe\">\n",
       "  <thead>\n",
       "    <tr style=\"text-align: right;\">\n",
       "      <th></th>\n",
       "      <th>id</th>\n",
       "      <th>call_date</th>\n",
       "      <th>duration</th>\n",
       "      <th>user_id</th>\n",
       "    </tr>\n",
       "  </thead>\n",
       "  <tbody>\n",
       "    <tr>\n",
       "      <th>0</th>\n",
       "      <td>1000_0</td>\n",
       "      <td>2018-07-25</td>\n",
       "      <td>0.00</td>\n",
       "      <td>1000</td>\n",
       "    </tr>\n",
       "    <tr>\n",
       "      <th>1</th>\n",
       "      <td>1000_1</td>\n",
       "      <td>2018-08-17</td>\n",
       "      <td>0.00</td>\n",
       "      <td>1000</td>\n",
       "    </tr>\n",
       "    <tr>\n",
       "      <th>2</th>\n",
       "      <td>1000_2</td>\n",
       "      <td>2018-06-11</td>\n",
       "      <td>2.85</td>\n",
       "      <td>1000</td>\n",
       "    </tr>\n",
       "    <tr>\n",
       "      <th>3</th>\n",
       "      <td>1000_3</td>\n",
       "      <td>2018-09-21</td>\n",
       "      <td>13.80</td>\n",
       "      <td>1000</td>\n",
       "    </tr>\n",
       "    <tr>\n",
       "      <th>4</th>\n",
       "      <td>1000_4</td>\n",
       "      <td>2018-12-15</td>\n",
       "      <td>5.18</td>\n",
       "      <td>1000</td>\n",
       "    </tr>\n",
       "  </tbody>\n",
       "</table>\n",
       "</div>"
      ],
      "text/plain": [
       "       id   call_date  duration  user_id\n",
       "0  1000_0  2018-07-25      0.00     1000\n",
       "1  1000_1  2018-08-17      0.00     1000\n",
       "2  1000_2  2018-06-11      2.85     1000\n",
       "3  1000_3  2018-09-21     13.80     1000\n",
       "4  1000_4  2018-12-15      5.18     1000"
      ]
     },
     "execution_count": 3,
     "metadata": {},
     "output_type": "execute_result"
    }
   ],
   "source": [
    "# посмотрим на данные\n",
    "# проблемы только с звонками длительностью 0.00\n",
    "# пропусков нет\n",
    "data_calls = pd.read_csv('calls.csv')\n",
    "data_calls.head(5)\n",
    "#data_calls.isnull().sum(axis=0).sort_values()\n",
    "#(data_calls['duration'] == '0.00').count()"
   ]
  },
  {
   "cell_type": "code",
   "execution_count": 4,
   "metadata": {},
   "outputs": [
    {
     "data": {
      "text/html": [
       "<div>\n",
       "<style scoped>\n",
       "    .dataframe tbody tr th:only-of-type {\n",
       "        vertical-align: middle;\n",
       "    }\n",
       "\n",
       "    .dataframe tbody tr th {\n",
       "        vertical-align: top;\n",
       "    }\n",
       "\n",
       "    .dataframe thead th {\n",
       "        text-align: right;\n",
       "    }\n",
       "</style>\n",
       "<table border=\"1\" class=\"dataframe\">\n",
       "  <thead>\n",
       "    <tr style=\"text-align: right;\">\n",
       "      <th></th>\n",
       "      <th>Unnamed: 0</th>\n",
       "      <th>id</th>\n",
       "      <th>mb_used</th>\n",
       "      <th>session_date</th>\n",
       "      <th>user_id</th>\n",
       "    </tr>\n",
       "  </thead>\n",
       "  <tbody>\n",
       "    <tr>\n",
       "      <th>0</th>\n",
       "      <td>0</td>\n",
       "      <td>1000_0</td>\n",
       "      <td>112.95</td>\n",
       "      <td>2018-11-25</td>\n",
       "      <td>1000</td>\n",
       "    </tr>\n",
       "    <tr>\n",
       "      <th>1</th>\n",
       "      <td>1</td>\n",
       "      <td>1000_1</td>\n",
       "      <td>1052.81</td>\n",
       "      <td>2018-09-07</td>\n",
       "      <td>1000</td>\n",
       "    </tr>\n",
       "    <tr>\n",
       "      <th>2</th>\n",
       "      <td>2</td>\n",
       "      <td>1000_2</td>\n",
       "      <td>1197.26</td>\n",
       "      <td>2018-06-25</td>\n",
       "      <td>1000</td>\n",
       "    </tr>\n",
       "    <tr>\n",
       "      <th>3</th>\n",
       "      <td>3</td>\n",
       "      <td>1000_3</td>\n",
       "      <td>550.27</td>\n",
       "      <td>2018-08-22</td>\n",
       "      <td>1000</td>\n",
       "    </tr>\n",
       "    <tr>\n",
       "      <th>4</th>\n",
       "      <td>4</td>\n",
       "      <td>1000_4</td>\n",
       "      <td>302.56</td>\n",
       "      <td>2018-09-24</td>\n",
       "      <td>1000</td>\n",
       "    </tr>\n",
       "  </tbody>\n",
       "</table>\n",
       "</div>"
      ],
      "text/plain": [
       "   Unnamed: 0      id  mb_used session_date  user_id\n",
       "0           0  1000_0   112.95   2018-11-25     1000\n",
       "1           1  1000_1  1052.81   2018-09-07     1000\n",
       "2           2  1000_2  1197.26   2018-06-25     1000\n",
       "3           3  1000_3   550.27   2018-08-22     1000\n",
       "4           4  1000_4   302.56   2018-09-24     1000"
      ]
     },
     "execution_count": 4,
     "metadata": {},
     "output_type": "execute_result"
    }
   ],
   "source": [
    "# посмотрим на данные\n",
    "# пропусков нет\n",
    "data_internet = pd.read_csv('internet.csv')\n",
    "data_internet.head(5)\n",
    "#data_internet.isnull().sum(axis=0).sort_values()"
   ]
  },
  {
   "cell_type": "code",
   "execution_count": 5,
   "metadata": {},
   "outputs": [
    {
     "data": {
      "text/html": [
       "<div>\n",
       "<style scoped>\n",
       "    .dataframe tbody tr th:only-of-type {\n",
       "        vertical-align: middle;\n",
       "    }\n",
       "\n",
       "    .dataframe tbody tr th {\n",
       "        vertical-align: top;\n",
       "    }\n",
       "\n",
       "    .dataframe thead th {\n",
       "        text-align: right;\n",
       "    }\n",
       "</style>\n",
       "<table border=\"1\" class=\"dataframe\">\n",
       "  <thead>\n",
       "    <tr style=\"text-align: right;\">\n",
       "      <th></th>\n",
       "      <th>id</th>\n",
       "      <th>message_date</th>\n",
       "      <th>user_id</th>\n",
       "    </tr>\n",
       "  </thead>\n",
       "  <tbody>\n",
       "    <tr>\n",
       "      <th>0</th>\n",
       "      <td>1000_0</td>\n",
       "      <td>2018-06-27</td>\n",
       "      <td>1000</td>\n",
       "    </tr>\n",
       "    <tr>\n",
       "      <th>1</th>\n",
       "      <td>1000_1</td>\n",
       "      <td>2018-10-08</td>\n",
       "      <td>1000</td>\n",
       "    </tr>\n",
       "    <tr>\n",
       "      <th>2</th>\n",
       "      <td>1000_2</td>\n",
       "      <td>2018-08-04</td>\n",
       "      <td>1000</td>\n",
       "    </tr>\n",
       "    <tr>\n",
       "      <th>3</th>\n",
       "      <td>1000_3</td>\n",
       "      <td>2018-06-16</td>\n",
       "      <td>1000</td>\n",
       "    </tr>\n",
       "    <tr>\n",
       "      <th>4</th>\n",
       "      <td>1000_4</td>\n",
       "      <td>2018-12-05</td>\n",
       "      <td>1000</td>\n",
       "    </tr>\n",
       "  </tbody>\n",
       "</table>\n",
       "</div>"
      ],
      "text/plain": [
       "       id message_date  user_id\n",
       "0  1000_0   2018-06-27     1000\n",
       "1  1000_1   2018-10-08     1000\n",
       "2  1000_2   2018-08-04     1000\n",
       "3  1000_3   2018-06-16     1000\n",
       "4  1000_4   2018-12-05     1000"
      ]
     },
     "execution_count": 5,
     "metadata": {},
     "output_type": "execute_result"
    }
   ],
   "source": [
    "# посмотрим на данные\n",
    "# пропусков нет\n",
    "data_messages = pd.read_csv('messages.csv')\n",
    "data_messages.head(5)\n",
    "#data_messages.isnull().sum(axis=0).sort_values()"
   ]
  },
  {
   "cell_type": "code",
   "execution_count": 6,
   "metadata": {},
   "outputs": [
    {
     "data": {
      "text/html": [
       "<div>\n",
       "<style scoped>\n",
       "    .dataframe tbody tr th:only-of-type {\n",
       "        vertical-align: middle;\n",
       "    }\n",
       "\n",
       "    .dataframe tbody tr th {\n",
       "        vertical-align: top;\n",
       "    }\n",
       "\n",
       "    .dataframe thead th {\n",
       "        text-align: right;\n",
       "    }\n",
       "</style>\n",
       "<table border=\"1\" class=\"dataframe\">\n",
       "  <thead>\n",
       "    <tr style=\"text-align: right;\">\n",
       "      <th></th>\n",
       "      <th>messages_included</th>\n",
       "      <th>mb_per_month_included</th>\n",
       "      <th>minutes_included</th>\n",
       "      <th>rub_monthly_fee</th>\n",
       "      <th>rub_per_gb</th>\n",
       "      <th>rub_per_message</th>\n",
       "      <th>rub_per_minute</th>\n",
       "      <th>tariff</th>\n",
       "    </tr>\n",
       "  </thead>\n",
       "  <tbody>\n",
       "    <tr>\n",
       "      <th>0</th>\n",
       "      <td>50</td>\n",
       "      <td>15360</td>\n",
       "      <td>500</td>\n",
       "      <td>550</td>\n",
       "      <td>200</td>\n",
       "      <td>3</td>\n",
       "      <td>3</td>\n",
       "      <td>smart</td>\n",
       "    </tr>\n",
       "    <tr>\n",
       "      <th>1</th>\n",
       "      <td>1000</td>\n",
       "      <td>30720</td>\n",
       "      <td>3000</td>\n",
       "      <td>1950</td>\n",
       "      <td>150</td>\n",
       "      <td>1</td>\n",
       "      <td>1</td>\n",
       "      <td>ultra</td>\n",
       "    </tr>\n",
       "  </tbody>\n",
       "</table>\n",
       "</div>"
      ],
      "text/plain": [
       "   messages_included  mb_per_month_included  minutes_included  \\\n",
       "0                 50                  15360               500   \n",
       "1               1000                  30720              3000   \n",
       "\n",
       "   rub_monthly_fee  rub_per_gb  rub_per_message  rub_per_minute tariff  \n",
       "0              550         200                3               3  smart  \n",
       "1             1950         150                1               1  ultra  "
      ]
     },
     "execution_count": 6,
     "metadata": {},
     "output_type": "execute_result"
    }
   ],
   "source": [
    "# пропусков нет, просто описание двух тарифов\n",
    "data_tariffs = pd.read_csv('tariffs.csv')\n",
    "data_tariffs = data_tariffs.rename(columns={'tariff_name': 'tariff'})\n",
    "data_tariffs.head(10)\n",
    "\n",
    "#data_tariffs.isnull().sum(axis=0).sort_values()"
   ]
  },
  {
   "cell_type": "code",
   "execution_count": 7,
   "metadata": {},
   "outputs": [
    {
     "data": {
      "text/html": [
       "<div>\n",
       "<style scoped>\n",
       "    .dataframe tbody tr th:only-of-type {\n",
       "        vertical-align: middle;\n",
       "    }\n",
       "\n",
       "    .dataframe tbody tr th {\n",
       "        vertical-align: top;\n",
       "    }\n",
       "\n",
       "    .dataframe thead th {\n",
       "        text-align: right;\n",
       "    }\n",
       "</style>\n",
       "<table border=\"1\" class=\"dataframe\">\n",
       "  <thead>\n",
       "    <tr style=\"text-align: right;\">\n",
       "      <th></th>\n",
       "      <th>user_id</th>\n",
       "      <th>age</th>\n",
       "      <th>churn_date</th>\n",
       "      <th>city</th>\n",
       "      <th>first_name</th>\n",
       "      <th>last_name</th>\n",
       "      <th>reg_date</th>\n",
       "      <th>tariff</th>\n",
       "    </tr>\n",
       "  </thead>\n",
       "  <tbody>\n",
       "    <tr>\n",
       "      <th>50</th>\n",
       "      <td>1050</td>\n",
       "      <td>44</td>\n",
       "      <td>2018-10-03</td>\n",
       "      <td>Тюмень</td>\n",
       "      <td>Рузана</td>\n",
       "      <td>Аничкина</td>\n",
       "      <td>2018-06-16</td>\n",
       "      <td>ultra</td>\n",
       "    </tr>\n",
       "    <tr>\n",
       "      <th>487</th>\n",
       "      <td>1487</td>\n",
       "      <td>72</td>\n",
       "      <td>NaN</td>\n",
       "      <td>Кострома</td>\n",
       "      <td>Рудольф</td>\n",
       "      <td>Кириллов</td>\n",
       "      <td>2018-08-13</td>\n",
       "      <td>smart</td>\n",
       "    </tr>\n",
       "    <tr>\n",
       "      <th>210</th>\n",
       "      <td>1210</td>\n",
       "      <td>33</td>\n",
       "      <td>NaN</td>\n",
       "      <td>Севастополь</td>\n",
       "      <td>Евфросинья</td>\n",
       "      <td>Серебрякова</td>\n",
       "      <td>2018-07-29</td>\n",
       "      <td>smart</td>\n",
       "    </tr>\n",
       "    <tr>\n",
       "      <th>107</th>\n",
       "      <td>1107</td>\n",
       "      <td>45</td>\n",
       "      <td>NaN</td>\n",
       "      <td>Орёл</td>\n",
       "      <td>Руслан</td>\n",
       "      <td>Воронин</td>\n",
       "      <td>2018-07-20</td>\n",
       "      <td>smart</td>\n",
       "    </tr>\n",
       "    <tr>\n",
       "      <th>172</th>\n",
       "      <td>1172</td>\n",
       "      <td>40</td>\n",
       "      <td>NaN</td>\n",
       "      <td>Санкт-Петербург</td>\n",
       "      <td>Алан</td>\n",
       "      <td>Карасев</td>\n",
       "      <td>2018-05-05</td>\n",
       "      <td>smart</td>\n",
       "    </tr>\n",
       "    <tr>\n",
       "      <th>20</th>\n",
       "      <td>1020</td>\n",
       "      <td>59</td>\n",
       "      <td>2018-12-18</td>\n",
       "      <td>Чита</td>\n",
       "      <td>Тала</td>\n",
       "      <td>Костина</td>\n",
       "      <td>2018-10-22</td>\n",
       "      <td>smart</td>\n",
       "    </tr>\n",
       "    <tr>\n",
       "      <th>236</th>\n",
       "      <td>1236</td>\n",
       "      <td>30</td>\n",
       "      <td>NaN</td>\n",
       "      <td>Москва</td>\n",
       "      <td>Леон</td>\n",
       "      <td>Демидов</td>\n",
       "      <td>2018-12-22</td>\n",
       "      <td>smart</td>\n",
       "    </tr>\n",
       "    <tr>\n",
       "      <th>27</th>\n",
       "      <td>1027</td>\n",
       "      <td>62</td>\n",
       "      <td>NaN</td>\n",
       "      <td>Петрозаводск</td>\n",
       "      <td>Владислав</td>\n",
       "      <td>Авдеев</td>\n",
       "      <td>2018-04-10</td>\n",
       "      <td>smart</td>\n",
       "    </tr>\n",
       "    <tr>\n",
       "      <th>499</th>\n",
       "      <td>1499</td>\n",
       "      <td>35</td>\n",
       "      <td>NaN</td>\n",
       "      <td>Пермь</td>\n",
       "      <td>Гектор</td>\n",
       "      <td>Корнилов</td>\n",
       "      <td>2018-09-27</td>\n",
       "      <td>smart</td>\n",
       "    </tr>\n",
       "    <tr>\n",
       "      <th>447</th>\n",
       "      <td>1447</td>\n",
       "      <td>25</td>\n",
       "      <td>NaN</td>\n",
       "      <td>Москва</td>\n",
       "      <td>Александра</td>\n",
       "      <td>Алешина</td>\n",
       "      <td>2018-09-13</td>\n",
       "      <td>smart</td>\n",
       "    </tr>\n",
       "    <tr>\n",
       "      <th>347</th>\n",
       "      <td>1347</td>\n",
       "      <td>29</td>\n",
       "      <td>NaN</td>\n",
       "      <td>Москва</td>\n",
       "      <td>Лола</td>\n",
       "      <td>Фокина</td>\n",
       "      <td>2018-11-01</td>\n",
       "      <td>ultra</td>\n",
       "    </tr>\n",
       "    <tr>\n",
       "      <th>303</th>\n",
       "      <td>1303</td>\n",
       "      <td>36</td>\n",
       "      <td>NaN</td>\n",
       "      <td>Смоленск</td>\n",
       "      <td>Алевтина</td>\n",
       "      <td>Абакшина</td>\n",
       "      <td>2018-07-25</td>\n",
       "      <td>ultra</td>\n",
       "    </tr>\n",
       "    <tr>\n",
       "      <th>180</th>\n",
       "      <td>1180</td>\n",
       "      <td>27</td>\n",
       "      <td>NaN</td>\n",
       "      <td>Москва</td>\n",
       "      <td>Лев</td>\n",
       "      <td>Мишин</td>\n",
       "      <td>2018-02-02</td>\n",
       "      <td>ultra</td>\n",
       "    </tr>\n",
       "    <tr>\n",
       "      <th>437</th>\n",
       "      <td>1437</td>\n",
       "      <td>73</td>\n",
       "      <td>NaN</td>\n",
       "      <td>Казань</td>\n",
       "      <td>Лилия</td>\n",
       "      <td>Селезнева</td>\n",
       "      <td>2018-08-03</td>\n",
       "      <td>smart</td>\n",
       "    </tr>\n",
       "    <tr>\n",
       "      <th>144</th>\n",
       "      <td>1144</td>\n",
       "      <td>65</td>\n",
       "      <td>NaN</td>\n",
       "      <td>Улан-Удэ</td>\n",
       "      <td>Ефим</td>\n",
       "      <td>Ефремов</td>\n",
       "      <td>2018-04-29</td>\n",
       "      <td>smart</td>\n",
       "    </tr>\n",
       "  </tbody>\n",
       "</table>\n",
       "</div>"
      ],
      "text/plain": [
       "     user_id  age  churn_date             city  first_name    last_name  \\\n",
       "50      1050   44  2018-10-03           Тюмень      Рузана     Аничкина   \n",
       "487     1487   72         NaN         Кострома     Рудольф     Кириллов   \n",
       "210     1210   33         NaN      Севастополь  Евфросинья  Серебрякова   \n",
       "107     1107   45         NaN             Орёл      Руслан      Воронин   \n",
       "172     1172   40         NaN  Санкт-Петербург        Алан      Карасев   \n",
       "20      1020   59  2018-12-18             Чита        Тала      Костина   \n",
       "236     1236   30         NaN           Москва        Леон      Демидов   \n",
       "27      1027   62         NaN     Петрозаводск   Владислав       Авдеев   \n",
       "499     1499   35         NaN            Пермь      Гектор     Корнилов   \n",
       "447     1447   25         NaN           Москва  Александра      Алешина   \n",
       "347     1347   29         NaN           Москва        Лола       Фокина   \n",
       "303     1303   36         NaN         Смоленск    Алевтина     Абакшина   \n",
       "180     1180   27         NaN           Москва         Лев        Мишин   \n",
       "437     1437   73         NaN           Казань       Лилия    Селезнева   \n",
       "144     1144   65         NaN         Улан-Удэ        Ефим      Ефремов   \n",
       "\n",
       "       reg_date tariff  \n",
       "50   2018-06-16  ultra  \n",
       "487  2018-08-13  smart  \n",
       "210  2018-07-29  smart  \n",
       "107  2018-07-20  smart  \n",
       "172  2018-05-05  smart  \n",
       "20   2018-10-22  smart  \n",
       "236  2018-12-22  smart  \n",
       "27   2018-04-10  smart  \n",
       "499  2018-09-27  smart  \n",
       "447  2018-09-13  smart  \n",
       "347  2018-11-01  ultra  \n",
       "303  2018-07-25  ultra  \n",
       "180  2018-02-02  ultra  \n",
       "437  2018-08-03  smart  \n",
       "144  2018-04-29  smart  "
      ]
     },
     "execution_count": 7,
     "metadata": {},
     "output_type": "execute_result"
    }
   ],
   "source": [
    "# пропуски в 'churn_date', но это говорит о том, что клиент не прекращал пользоваться этим тарифом\n",
    "data_users = pd.read_csv('users.csv')\n",
    "data_users.sample(15)\n",
    "\n",
    "#data_users.isnull().sum(axis=0).sort_values()"
   ]
  },
  {
   "cell_type": "markdown",
   "metadata": {},
   "source": [
    "### Вывод: пропуски в dataframe 'data_users', но они связаны с тем, что на момент выгрузки данных клиент не прекращал пользоваться тарифом, можно заполнить эти пропуски днём выгрузки данных, но необязательно. Также есть звонки длительностью 0 секунд, скорее всего позвонить человеку просто не получилось."
   ]
  },
  {
   "cell_type": "markdown",
   "metadata": {},
   "source": [
    "# Шаг 2. Подготовьте данные"
   ]
  },
  {
   "cell_type": "code",
   "execution_count": 8,
   "metadata": {},
   "outputs": [
    {
     "name": "stdout",
     "output_type": "stream",
     "text": [
      "<class 'pandas.core.frame.DataFrame'>\n",
      "RangeIndex: 202607 entries, 0 to 202606\n",
      "Data columns (total 4 columns):\n",
      " #   Column     Non-Null Count   Dtype  \n",
      "---  ------     --------------   -----  \n",
      " 0   id         202607 non-null  object \n",
      " 1   call_date  202607 non-null  object \n",
      " 2   duration   202607 non-null  float64\n",
      " 3   user_id    202607 non-null  int64  \n",
      "dtypes: float64(1), int64(1), object(2)\n",
      "memory usage: 6.2+ MB\n"
     ]
    }
   ],
   "source": [
    "data_calls.info()\n",
    "from datetime import datetime\n",
    "from datetime import date"
   ]
  },
  {
   "cell_type": "markdown",
   "metadata": {},
   "source": [
    "#### Количество сделанных звонков и израсходованных минут разговора по месяцам для каждого пользователя:"
   ]
  },
  {
   "cell_type": "code",
   "execution_count": 9,
   "metadata": {},
   "outputs": [
    {
     "name": "stdout",
     "output_type": "stream",
     "text": [
      "Количество записей до удаления: 202607\n",
      "Количество записей после удаления: 162994\n"
     ]
    },
    {
     "data": {
      "text/html": [
       "<div>\n",
       "<style scoped>\n",
       "    .dataframe tbody tr th:only-of-type {\n",
       "        vertical-align: middle;\n",
       "    }\n",
       "\n",
       "    .dataframe tbody tr th {\n",
       "        vertical-align: top;\n",
       "    }\n",
       "\n",
       "    .dataframe thead th {\n",
       "        text-align: right;\n",
       "    }\n",
       "</style>\n",
       "<table border=\"1\" class=\"dataframe\">\n",
       "  <thead>\n",
       "    <tr style=\"text-align: right;\">\n",
       "      <th></th>\n",
       "      <th></th>\n",
       "      <th>calls_duration</th>\n",
       "      <th>calls_count</th>\n",
       "    </tr>\n",
       "    <tr>\n",
       "      <th>user_id</th>\n",
       "      <th>month</th>\n",
       "      <th></th>\n",
       "      <th></th>\n",
       "    </tr>\n",
       "  </thead>\n",
       "  <tbody>\n",
       "    <tr>\n",
       "      <th rowspan=\"5\" valign=\"top\">1000</th>\n",
       "      <th>5</th>\n",
       "      <td>159</td>\n",
       "      <td>17</td>\n",
       "    </tr>\n",
       "    <tr>\n",
       "      <th>6</th>\n",
       "      <td>172</td>\n",
       "      <td>28</td>\n",
       "    </tr>\n",
       "    <tr>\n",
       "      <th>7</th>\n",
       "      <td>340</td>\n",
       "      <td>41</td>\n",
       "    </tr>\n",
       "    <tr>\n",
       "      <th>8</th>\n",
       "      <td>408</td>\n",
       "      <td>42</td>\n",
       "    </tr>\n",
       "    <tr>\n",
       "      <th>9</th>\n",
       "      <td>466</td>\n",
       "      <td>46</td>\n",
       "    </tr>\n",
       "  </tbody>\n",
       "</table>\n",
       "</div>"
      ],
      "text/plain": [
       "               calls_duration  calls_count\n",
       "user_id month                             \n",
       "1000    5                 159           17\n",
       "        6                 172           28\n",
       "        7                 340           41\n",
       "        8                 408           42\n",
       "        9                 466           46"
      ]
     },
     "execution_count": 9,
     "metadata": {},
     "output_type": "execute_result"
    }
   ],
   "source": [
    "# Обработаем записи о звонках (calls)\n",
    "# Удалим записи с нулевой продолжительностью:\n",
    "print('Количество записей до удаления:', len(data_calls)) # 202607\n",
    "data_calls = data_calls.loc[data_calls['duration'] != 0]\n",
    "print('Количество записей после удаления:', len(data_calls)) # 162994\n",
    "# показателль минут округляем в большую сторону:\n",
    "data_calls['duration']=data_calls['duration'].apply(np.ceil).astype('int')\n",
    "\n",
    "##меняем типы данных для data_calls\n",
    "data_calls['id']=data_calls['id'].astype('int')\n",
    "##data_calls['call_date']=data_calls['call_date'].astype('Data')\n",
    "data_calls['call_date']=pd.to_datetime(data_calls['call_date'])\n",
    "## для того чтобы рассчитать по месяцам нужно добавить столбец 'month'\n",
    "data_calls['month'] = pd.to_datetime(data_calls['call_date']).dt.month\n",
    "#\n",
    "## делаем сводную таблицу с группировкой по \"user_id\" и \"month\"\n",
    "calls_pivot = data_calls.pivot_table(index=['user_id', 'month'], values=['duration'],  aggfunc=['sum', 'count'])\n",
    "#\n",
    "## Переименуем названия столбцов  \n",
    "calls_pivot.columns = ['calls_duration', 'calls_count']\n",
    "#\n",
    "## смотрим что получилось\n",
    "calls_pivot.head()"
   ]
  },
  {
   "cell_type": "code",
   "execution_count": 10,
   "metadata": {},
   "outputs": [
    {
     "name": "stdout",
     "output_type": "stream",
     "text": [
      "<class 'pandas.core.frame.DataFrame'>\n",
      "RangeIndex: 149396 entries, 0 to 149395\n",
      "Data columns (total 5 columns):\n",
      " #   Column        Non-Null Count   Dtype  \n",
      "---  ------        --------------   -----  \n",
      " 0   Unnamed: 0    149396 non-null  int64  \n",
      " 1   id            149396 non-null  object \n",
      " 2   mb_used       149396 non-null  float64\n",
      " 3   session_date  149396 non-null  object \n",
      " 4   user_id       149396 non-null  int64  \n",
      "dtypes: float64(1), int64(2), object(2)\n",
      "memory usage: 5.7+ MB\n"
     ]
    }
   ],
   "source": [
    "data_internet.info()"
   ]
  },
  {
   "cell_type": "markdown",
   "metadata": {},
   "source": [
    "### Объем израсходованного интернет-трафика по месяцам для каждого пользователя"
   ]
  },
  {
   "cell_type": "code",
   "execution_count": 11,
   "metadata": {},
   "outputs": [
    {
     "name": "stdout",
     "output_type": "stream",
     "text": [
      "Количество записей до удаления: 149396\n",
      "Количество записей после удаления: 129798\n"
     ]
    },
    {
     "data": {
      "text/html": [
       "<div>\n",
       "<style scoped>\n",
       "    .dataframe tbody tr th:only-of-type {\n",
       "        vertical-align: middle;\n",
       "    }\n",
       "\n",
       "    .dataframe tbody tr th {\n",
       "        vertical-align: top;\n",
       "    }\n",
       "\n",
       "    .dataframe thead th {\n",
       "        text-align: right;\n",
       "    }\n",
       "</style>\n",
       "<table border=\"1\" class=\"dataframe\">\n",
       "  <thead>\n",
       "    <tr style=\"text-align: right;\">\n",
       "      <th></th>\n",
       "      <th></th>\n",
       "      <th>mb_used</th>\n",
       "    </tr>\n",
       "    <tr>\n",
       "      <th>month</th>\n",
       "      <th>user_id</th>\n",
       "      <th></th>\n",
       "    </tr>\n",
       "  </thead>\n",
       "  <tbody>\n",
       "    <tr>\n",
       "      <th rowspan=\"5\" valign=\"top\">1</th>\n",
       "      <th>1005</th>\n",
       "      <td>2730</td>\n",
       "    </tr>\n",
       "    <tr>\n",
       "      <th>1032</th>\n",
       "      <td>24147</td>\n",
       "    </tr>\n",
       "    <tr>\n",
       "      <th>1045</th>\n",
       "      <td>2348</td>\n",
       "    </tr>\n",
       "    <tr>\n",
       "      <th>1055</th>\n",
       "      <td>17111</td>\n",
       "    </tr>\n",
       "    <tr>\n",
       "      <th>1071</th>\n",
       "      <td>15622</td>\n",
       "    </tr>\n",
       "    <tr>\n",
       "      <th>...</th>\n",
       "      <th>...</th>\n",
       "      <td>...</td>\n",
       "    </tr>\n",
       "    <tr>\n",
       "      <th rowspan=\"5\" valign=\"top\">12</th>\n",
       "      <th>1494</th>\n",
       "      <td>17645</td>\n",
       "    </tr>\n",
       "    <tr>\n",
       "      <th>1495</th>\n",
       "      <td>23450</td>\n",
       "    </tr>\n",
       "    <tr>\n",
       "      <th>1496</th>\n",
       "      <td>20757</td>\n",
       "    </tr>\n",
       "    <tr>\n",
       "      <th>1497</th>\n",
       "      <td>19940</td>\n",
       "    </tr>\n",
       "    <tr>\n",
       "      <th>1499</th>\n",
       "      <td>13077</td>\n",
       "    </tr>\n",
       "  </tbody>\n",
       "</table>\n",
       "<p>3201 rows × 1 columns</p>\n",
       "</div>"
      ],
      "text/plain": [
       "               mb_used\n",
       "month user_id         \n",
       "1     1005        2730\n",
       "      1032       24147\n",
       "      1045        2348\n",
       "      1055       17111\n",
       "      1071       15622\n",
       "...                ...\n",
       "12    1494       17645\n",
       "      1495       23450\n",
       "      1496       20757\n",
       "      1497       19940\n",
       "      1499       13077\n",
       "\n",
       "[3201 rows x 1 columns]"
      ]
     },
     "execution_count": 11,
     "metadata": {},
     "output_type": "execute_result"
    }
   ],
   "source": [
    "\n",
    "# Обработаем записи о сессиях в интернете (internet)\n",
    "# Исключим из рассмотрения сессии с нулевой продолжительностью:\n",
    "print('Количество записей до удаления:', len(data_internet)) # 149396\n",
    "data_internet = data_internet.loc[data_internet['mb_used'] != 0]\n",
    "print('Количество записей после удаления:', len(data_internet)) # 129798 \n",
    "\n",
    "# показателль mb_used округляем в большую сторону:\n",
    "data_internet['mb_used'] = data_internet['mb_used'].apply(np.ceil).astype('int')\n",
    "\n",
    "#меняем типы данных для data_internet\n",
    "data_internet['session_date']=pd.to_datetime(data_internet['session_date'])\n",
    "data_internet['id']=data_internet['id'].astype('int')\n",
    "data_internet['month'] = pd.to_datetime(data_internet['session_date']).dt.month\n",
    "# группируем таблицу таким образом, чтобы посмотреть какой пользователь в какой месяц сколько потратил интернета\n",
    "data_internet_grouped = data_internet.pivot_table(index=['month', 'user_id'], values='mb_used',\n",
    "                                                   aggfunc=['sum'])\n",
    "data_internet_grouped.columns = ['mb_used']\n",
    "data_internet_grouped"
   ]
  },
  {
   "cell_type": "code",
   "execution_count": 12,
   "metadata": {},
   "outputs": [
    {
     "name": "stdout",
     "output_type": "stream",
     "text": [
      "<class 'pandas.core.frame.DataFrame'>\n",
      "RangeIndex: 500 entries, 0 to 499\n",
      "Data columns (total 8 columns):\n",
      " #   Column      Non-Null Count  Dtype \n",
      "---  ------      --------------  ----- \n",
      " 0   user_id     500 non-null    int64 \n",
      " 1   age         500 non-null    int64 \n",
      " 2   churn_date  38 non-null     object\n",
      " 3   city        500 non-null    object\n",
      " 4   first_name  500 non-null    object\n",
      " 5   last_name   500 non-null    object\n",
      " 6   reg_date    500 non-null    object\n",
      " 7   tariff      500 non-null    object\n",
      "dtypes: int64(2), object(6)\n",
      "memory usage: 31.4+ KB\n"
     ]
    }
   ],
   "source": [
    "data_users.info()"
   ]
  },
  {
   "cell_type": "code",
   "execution_count": 13,
   "metadata": {},
   "outputs": [],
   "source": [
    "#меняем типы данных для users\n",
    "data_users['churn_date']=pd.to_datetime(data_users['churn_date'])\n",
    "data_users['reg_date']=pd.to_datetime(data_users['reg_date'])"
   ]
  },
  {
   "cell_type": "code",
   "execution_count": 14,
   "metadata": {},
   "outputs": [
    {
     "name": "stdout",
     "output_type": "stream",
     "text": [
      "<class 'pandas.core.frame.DataFrame'>\n",
      "RangeIndex: 2 entries, 0 to 1\n",
      "Data columns (total 8 columns):\n",
      " #   Column                 Non-Null Count  Dtype \n",
      "---  ------                 --------------  ----- \n",
      " 0   messages_included      2 non-null      int64 \n",
      " 1   mb_per_month_included  2 non-null      int64 \n",
      " 2   minutes_included       2 non-null      int64 \n",
      " 3   rub_monthly_fee        2 non-null      int64 \n",
      " 4   rub_per_gb             2 non-null      int64 \n",
      " 5   rub_per_message        2 non-null      int64 \n",
      " 6   rub_per_minute         2 non-null      int64 \n",
      " 7   tariff                 2 non-null      object\n",
      "dtypes: int64(7), object(1)\n",
      "memory usage: 256.0+ bytes\n"
     ]
    }
   ],
   "source": [
    "data_tariffs.info()"
   ]
  },
  {
   "cell_type": "code",
   "execution_count": 15,
   "metadata": {},
   "outputs": [
    {
     "name": "stdout",
     "output_type": "stream",
     "text": [
      "<class 'pandas.core.frame.DataFrame'>\n",
      "RangeIndex: 123036 entries, 0 to 123035\n",
      "Data columns (total 3 columns):\n",
      " #   Column        Non-Null Count   Dtype \n",
      "---  ------        --------------   ----- \n",
      " 0   id            123036 non-null  object\n",
      " 1   message_date  123036 non-null  object\n",
      " 2   user_id       123036 non-null  int64 \n",
      "dtypes: int64(1), object(2)\n",
      "memory usage: 2.8+ MB\n"
     ]
    }
   ],
   "source": [
    "data_messages.info()"
   ]
  },
  {
   "cell_type": "markdown",
   "metadata": {},
   "source": [
    "### количество отправленных сообщений по месяцам для каждого пользователя:"
   ]
  },
  {
   "cell_type": "code",
   "execution_count": 16,
   "metadata": {},
   "outputs": [
    {
     "data": {
      "text/html": [
       "<div>\n",
       "<style scoped>\n",
       "    .dataframe tbody tr th:only-of-type {\n",
       "        vertical-align: middle;\n",
       "    }\n",
       "\n",
       "    .dataframe tbody tr th {\n",
       "        vertical-align: top;\n",
       "    }\n",
       "\n",
       "    .dataframe thead th {\n",
       "        text-align: right;\n",
       "    }\n",
       "</style>\n",
       "<table border=\"1\" class=\"dataframe\">\n",
       "  <thead>\n",
       "    <tr style=\"text-align: right;\">\n",
       "      <th></th>\n",
       "      <th></th>\n",
       "      <th>sms_total_in_month</th>\n",
       "    </tr>\n",
       "    <tr>\n",
       "      <th>month</th>\n",
       "      <th>user_id</th>\n",
       "      <th></th>\n",
       "    </tr>\n",
       "  </thead>\n",
       "  <tbody>\n",
       "    <tr>\n",
       "      <th rowspan=\"5\" valign=\"top\">1</th>\n",
       "      <th>1005</th>\n",
       "      <td>7</td>\n",
       "    </tr>\n",
       "    <tr>\n",
       "      <th>1032</th>\n",
       "      <td>38</td>\n",
       "    </tr>\n",
       "    <tr>\n",
       "      <th>1045</th>\n",
       "      <td>5</td>\n",
       "    </tr>\n",
       "    <tr>\n",
       "      <th>1055</th>\n",
       "      <td>30</td>\n",
       "    </tr>\n",
       "    <tr>\n",
       "      <th>1071</th>\n",
       "      <td>16</td>\n",
       "    </tr>\n",
       "    <tr>\n",
       "      <th>...</th>\n",
       "      <th>...</th>\n",
       "      <td>...</td>\n",
       "    </tr>\n",
       "    <tr>\n",
       "      <th rowspan=\"5\" valign=\"top\">12</th>\n",
       "      <th>1493</th>\n",
       "      <td>78</td>\n",
       "    </tr>\n",
       "    <tr>\n",
       "      <th>1495</th>\n",
       "      <td>84</td>\n",
       "    </tr>\n",
       "    <tr>\n",
       "      <th>1496</th>\n",
       "      <td>51</td>\n",
       "    </tr>\n",
       "    <tr>\n",
       "      <th>1497</th>\n",
       "      <td>17</td>\n",
       "    </tr>\n",
       "    <tr>\n",
       "      <th>1499</th>\n",
       "      <td>66</td>\n",
       "    </tr>\n",
       "  </tbody>\n",
       "</table>\n",
       "<p>2717 rows × 1 columns</p>\n",
       "</div>"
      ],
      "text/plain": [
       "               sms_total_in_month\n",
       "month user_id                    \n",
       "1     1005                      7\n",
       "      1032                     38\n",
       "      1045                      5\n",
       "      1055                     30\n",
       "      1071                     16\n",
       "...                           ...\n",
       "12    1493                     78\n",
       "      1495                     84\n",
       "      1496                     51\n",
       "      1497                     17\n",
       "      1499                     66\n",
       "\n",
       "[2717 rows x 1 columns]"
      ]
     },
     "execution_count": 16,
     "metadata": {},
     "output_type": "execute_result"
    }
   ],
   "source": [
    "data_messages['id']=data_messages['id'].astype('int')\n",
    "data_messages['message_date']=pd.to_datetime(data_messages['message_date'])\n",
    "# для того чтобы рассчитать по месяцам нужно добавить столбец 'month'\n",
    "data_messages['month'] = pd.to_datetime(data_messages['message_date']).dt.month\n",
    "\n",
    "data_messages\n",
    "data_messages_grouped = data_messages.pivot_table(index=['month', 'user_id'], values='id', aggfunc=['count'])\n",
    "data_messages_grouped.columns= ['sms_total_in_month']                                \n",
    "data_messages_grouped"
   ]
  },
  {
   "cell_type": "code",
   "execution_count": 17,
   "metadata": {},
   "outputs": [
    {
     "data": {
      "text/html": [
       "<div>\n",
       "<style scoped>\n",
       "    .dataframe tbody tr th:only-of-type {\n",
       "        vertical-align: middle;\n",
       "    }\n",
       "\n",
       "    .dataframe tbody tr th {\n",
       "        vertical-align: top;\n",
       "    }\n",
       "\n",
       "    .dataframe thead th {\n",
       "        text-align: right;\n",
       "    }\n",
       "</style>\n",
       "<table border=\"1\" class=\"dataframe\">\n",
       "  <thead>\n",
       "    <tr style=\"text-align: right;\">\n",
       "      <th></th>\n",
       "      <th>messages_included</th>\n",
       "      <th>mb_per_month_included</th>\n",
       "      <th>minutes_included</th>\n",
       "      <th>rub_monthly_fee</th>\n",
       "      <th>rub_per_gb</th>\n",
       "      <th>rub_per_message</th>\n",
       "      <th>rub_per_minute</th>\n",
       "      <th>tariff</th>\n",
       "    </tr>\n",
       "  </thead>\n",
       "  <tbody>\n",
       "    <tr>\n",
       "      <th>0</th>\n",
       "      <td>50</td>\n",
       "      <td>15360</td>\n",
       "      <td>500</td>\n",
       "      <td>550</td>\n",
       "      <td>200</td>\n",
       "      <td>3</td>\n",
       "      <td>3</td>\n",
       "      <td>smart</td>\n",
       "    </tr>\n",
       "    <tr>\n",
       "      <th>1</th>\n",
       "      <td>1000</td>\n",
       "      <td>30720</td>\n",
       "      <td>3000</td>\n",
       "      <td>1950</td>\n",
       "      <td>150</td>\n",
       "      <td>1</td>\n",
       "      <td>1</td>\n",
       "      <td>ultra</td>\n",
       "    </tr>\n",
       "  </tbody>\n",
       "</table>\n",
       "</div>"
      ],
      "text/plain": [
       "   messages_included  mb_per_month_included  minutes_included  \\\n",
       "0                 50                  15360               500   \n",
       "1               1000                  30720              3000   \n",
       "\n",
       "   rub_monthly_fee  rub_per_gb  rub_per_message  rub_per_minute tariff  \n",
       "0              550         200                3               3  smart  \n",
       "1             1950         150                1               1  ultra  "
      ]
     },
     "execution_count": 17,
     "metadata": {},
     "output_type": "execute_result"
    }
   ],
   "source": [
    "data_tariffs\n",
    "#row2 = data_tariffs.iloc[1]\n",
    "#row2['messages_included']"
   ]
  },
  {
   "cell_type": "code",
   "execution_count": 18,
   "metadata": {},
   "outputs": [
    {
     "data": {
      "text/html": [
       "<div>\n",
       "<style scoped>\n",
       "    .dataframe tbody tr th:only-of-type {\n",
       "        vertical-align: middle;\n",
       "    }\n",
       "\n",
       "    .dataframe tbody tr th {\n",
       "        vertical-align: top;\n",
       "    }\n",
       "\n",
       "    .dataframe thead th {\n",
       "        text-align: right;\n",
       "    }\n",
       "</style>\n",
       "<table border=\"1\" class=\"dataframe\">\n",
       "  <thead>\n",
       "    <tr style=\"text-align: right;\">\n",
       "      <th></th>\n",
       "      <th>age</th>\n",
       "      <th>churn_date</th>\n",
       "      <th>city</th>\n",
       "      <th>first_name</th>\n",
       "      <th>last_name</th>\n",
       "      <th>reg_date</th>\n",
       "      <th>tariff</th>\n",
       "    </tr>\n",
       "    <tr>\n",
       "      <th>user_id</th>\n",
       "      <th></th>\n",
       "      <th></th>\n",
       "      <th></th>\n",
       "      <th></th>\n",
       "      <th></th>\n",
       "      <th></th>\n",
       "      <th></th>\n",
       "    </tr>\n",
       "  </thead>\n",
       "  <tbody>\n",
       "    <tr>\n",
       "      <th>1493</th>\n",
       "      <td>71</td>\n",
       "      <td>NaT</td>\n",
       "      <td>Красноярск</td>\n",
       "      <td>Таисия</td>\n",
       "      <td>Ахматулина</td>\n",
       "      <td>2018-11-24</td>\n",
       "      <td>ultra</td>\n",
       "    </tr>\n",
       "    <tr>\n",
       "      <th>1344</th>\n",
       "      <td>60</td>\n",
       "      <td>NaT</td>\n",
       "      <td>Воронеж</td>\n",
       "      <td>Илзе</td>\n",
       "      <td>Игнатьева</td>\n",
       "      <td>2018-04-03</td>\n",
       "      <td>ultra</td>\n",
       "    </tr>\n",
       "    <tr>\n",
       "      <th>1006</th>\n",
       "      <td>21</td>\n",
       "      <td>NaT</td>\n",
       "      <td>Ульяновск</td>\n",
       "      <td>Леонид</td>\n",
       "      <td>Ермолаев</td>\n",
       "      <td>2018-02-26</td>\n",
       "      <td>smart</td>\n",
       "    </tr>\n",
       "    <tr>\n",
       "      <th>1282</th>\n",
       "      <td>59</td>\n",
       "      <td>NaT</td>\n",
       "      <td>Ульяновск</td>\n",
       "      <td>Артём</td>\n",
       "      <td>Аракчеев</td>\n",
       "      <td>2018-01-21</td>\n",
       "      <td>smart</td>\n",
       "    </tr>\n",
       "    <tr>\n",
       "      <th>1255</th>\n",
       "      <td>40</td>\n",
       "      <td>2018-09-02</td>\n",
       "      <td>Саранск</td>\n",
       "      <td>Серафима</td>\n",
       "      <td>Пономарева</td>\n",
       "      <td>2018-02-19</td>\n",
       "      <td>ultra</td>\n",
       "    </tr>\n",
       "  </tbody>\n",
       "</table>\n",
       "</div>"
      ],
      "text/plain": [
       "         age churn_date        city first_name   last_name   reg_date tariff\n",
       "user_id                                                                     \n",
       "1493      71        NaT  Красноярск     Таисия  Ахматулина 2018-11-24  ultra\n",
       "1344      60        NaT     Воронеж       Илзе   Игнатьева 2018-04-03  ultra\n",
       "1006      21        NaT   Ульяновск     Леонид    Ермолаев 2018-02-26  smart\n",
       "1282      59        NaT   Ульяновск      Артём    Аракчеев 2018-01-21  smart\n",
       "1255      40 2018-09-02     Саранск   Серафима  Пономарева 2018-02-19  ultra"
      ]
     },
     "execution_count": 18,
     "metadata": {},
     "output_type": "execute_result"
    }
   ],
   "source": [
    "data_tariffs\n",
    "data_users.set_index('user_id', inplace=True)\n",
    "data_users.sample(5)"
   ]
  },
  {
   "cell_type": "code",
   "execution_count": 19,
   "metadata": {},
   "outputs": [],
   "source": [
    "#data_users_grouped_count =data_users.pivot_table(index=['tariff'], values='user_id',aggfunc=['count'])\n",
    "#data_users_grouped_count \n",
    "# тарифом смарт пользуются 351 пользователь, тарифом ультра 149"
   ]
  },
  {
   "cell_type": "code",
   "execution_count": 20,
   "metadata": {},
   "outputs": [],
   "source": [
    "#data_messages_grouped = data_messages.pivot_table(index=['month', 'user_id'], values='id',\n",
    "#                                                   aggfunc=['count'])\n",
    "#all_calls = calls_data_grouped_count['sum'].sum()\n",
    " "
   ]
  },
  {
   "cell_type": "code",
   "execution_count": 21,
   "metadata": {},
   "outputs": [
    {
     "data": {
      "text/html": [
       "<div>\n",
       "<style scoped>\n",
       "    .dataframe tbody tr th:only-of-type {\n",
       "        vertical-align: middle;\n",
       "    }\n",
       "\n",
       "    .dataframe tbody tr th {\n",
       "        vertical-align: top;\n",
       "    }\n",
       "\n",
       "    .dataframe thead th {\n",
       "        text-align: right;\n",
       "    }\n",
       "</style>\n",
       "<table border=\"1\" class=\"dataframe\">\n",
       "  <thead>\n",
       "    <tr style=\"text-align: right;\">\n",
       "      <th></th>\n",
       "      <th>user_id</th>\n",
       "      <th>month</th>\n",
       "      <th>churn_date</th>\n",
       "      <th>city</th>\n",
       "      <th>reg_date</th>\n",
       "      <th>tariff</th>\n",
       "      <th>calls_duration</th>\n",
       "      <th>calls_count</th>\n",
       "      <th>sms_total_in_month</th>\n",
       "      <th>mb_used</th>\n",
       "    </tr>\n",
       "  </thead>\n",
       "  <tbody>\n",
       "    <tr>\n",
       "      <th>0</th>\n",
       "      <td>1000</td>\n",
       "      <td>5</td>\n",
       "      <td>NaT</td>\n",
       "      <td>Краснодар</td>\n",
       "      <td>2018-05-25</td>\n",
       "      <td>ultra</td>\n",
       "      <td>159.0</td>\n",
       "      <td>17.0</td>\n",
       "      <td>22.0</td>\n",
       "      <td>2256.0</td>\n",
       "    </tr>\n",
       "    <tr>\n",
       "      <th>1</th>\n",
       "      <td>1000</td>\n",
       "      <td>6</td>\n",
       "      <td>NaT</td>\n",
       "      <td>Краснодар</td>\n",
       "      <td>2018-05-25</td>\n",
       "      <td>ultra</td>\n",
       "      <td>172.0</td>\n",
       "      <td>28.0</td>\n",
       "      <td>60.0</td>\n",
       "      <td>23257.0</td>\n",
       "    </tr>\n",
       "    <tr>\n",
       "      <th>2</th>\n",
       "      <td>1000</td>\n",
       "      <td>7</td>\n",
       "      <td>NaT</td>\n",
       "      <td>Краснодар</td>\n",
       "      <td>2018-05-25</td>\n",
       "      <td>ultra</td>\n",
       "      <td>340.0</td>\n",
       "      <td>41.0</td>\n",
       "      <td>75.0</td>\n",
       "      <td>14016.0</td>\n",
       "    </tr>\n",
       "    <tr>\n",
       "      <th>3</th>\n",
       "      <td>1000</td>\n",
       "      <td>8</td>\n",
       "      <td>NaT</td>\n",
       "      <td>Краснодар</td>\n",
       "      <td>2018-05-25</td>\n",
       "      <td>ultra</td>\n",
       "      <td>408.0</td>\n",
       "      <td>42.0</td>\n",
       "      <td>81.0</td>\n",
       "      <td>14070.0</td>\n",
       "    </tr>\n",
       "    <tr>\n",
       "      <th>4</th>\n",
       "      <td>1000</td>\n",
       "      <td>9</td>\n",
       "      <td>NaT</td>\n",
       "      <td>Краснодар</td>\n",
       "      <td>2018-05-25</td>\n",
       "      <td>ultra</td>\n",
       "      <td>466.0</td>\n",
       "      <td>46.0</td>\n",
       "      <td>57.0</td>\n",
       "      <td>14581.0</td>\n",
       "    </tr>\n",
       "    <tr>\n",
       "      <th>...</th>\n",
       "      <td>...</td>\n",
       "      <td>...</td>\n",
       "      <td>...</td>\n",
       "      <td>...</td>\n",
       "      <td>...</td>\n",
       "      <td>...</td>\n",
       "      <td>...</td>\n",
       "      <td>...</td>\n",
       "      <td>...</td>\n",
       "      <td>...</td>\n",
       "    </tr>\n",
       "    <tr>\n",
       "      <th>3209</th>\n",
       "      <td>1328</td>\n",
       "      <td>12</td>\n",
       "      <td>NaT</td>\n",
       "      <td>Мурманск</td>\n",
       "      <td>2018-10-16</td>\n",
       "      <td>ultra</td>\n",
       "      <td>NaN</td>\n",
       "      <td>NaN</td>\n",
       "      <td>7.0</td>\n",
       "      <td>39461.0</td>\n",
       "    </tr>\n",
       "    <tr>\n",
       "      <th>3210</th>\n",
       "      <td>1473</td>\n",
       "      <td>12</td>\n",
       "      <td>NaT</td>\n",
       "      <td>Красноярск</td>\n",
       "      <td>2018-08-05</td>\n",
       "      <td>ultra</td>\n",
       "      <td>NaN</td>\n",
       "      <td>NaN</td>\n",
       "      <td>20.0</td>\n",
       "      <td>18432.0</td>\n",
       "    </tr>\n",
       "    <tr>\n",
       "      <th>3211</th>\n",
       "      <td>1489</td>\n",
       "      <td>12</td>\n",
       "      <td>NaT</td>\n",
       "      <td>Санкт-Петербург</td>\n",
       "      <td>2018-08-15</td>\n",
       "      <td>smart</td>\n",
       "      <td>NaN</td>\n",
       "      <td>NaN</td>\n",
       "      <td>35.0</td>\n",
       "      <td>17341.0</td>\n",
       "    </tr>\n",
       "    <tr>\n",
       "      <th>3212</th>\n",
       "      <td>1240</td>\n",
       "      <td>2</td>\n",
       "      <td>NaT</td>\n",
       "      <td>Воронеж</td>\n",
       "      <td>2018-02-27</td>\n",
       "      <td>ultra</td>\n",
       "      <td>NaN</td>\n",
       "      <td>NaN</td>\n",
       "      <td>NaN</td>\n",
       "      <td>961.0</td>\n",
       "    </tr>\n",
       "    <tr>\n",
       "      <th>3213</th>\n",
       "      <td>1476</td>\n",
       "      <td>4</td>\n",
       "      <td>NaT</td>\n",
       "      <td>Москва</td>\n",
       "      <td>2018-04-30</td>\n",
       "      <td>ultra</td>\n",
       "      <td>NaN</td>\n",
       "      <td>NaN</td>\n",
       "      <td>NaN</td>\n",
       "      <td>531.0</td>\n",
       "    </tr>\n",
       "  </tbody>\n",
       "</table>\n",
       "<p>3214 rows × 10 columns</p>\n",
       "</div>"
      ],
      "text/plain": [
       "      user_id  month churn_date             city   reg_date tariff  \\\n",
       "0        1000      5        NaT        Краснодар 2018-05-25  ultra   \n",
       "1        1000      6        NaT        Краснодар 2018-05-25  ultra   \n",
       "2        1000      7        NaT        Краснодар 2018-05-25  ultra   \n",
       "3        1000      8        NaT        Краснодар 2018-05-25  ultra   \n",
       "4        1000      9        NaT        Краснодар 2018-05-25  ultra   \n",
       "...       ...    ...        ...              ...        ...    ...   \n",
       "3209     1328     12        NaT         Мурманск 2018-10-16  ultra   \n",
       "3210     1473     12        NaT       Красноярск 2018-08-05  ultra   \n",
       "3211     1489     12        NaT  Санкт-Петербург 2018-08-15  smart   \n",
       "3212     1240      2        NaT          Воронеж 2018-02-27  ultra   \n",
       "3213     1476      4        NaT           Москва 2018-04-30  ultra   \n",
       "\n",
       "      calls_duration  calls_count  sms_total_in_month  mb_used  \n",
       "0              159.0         17.0                22.0   2256.0  \n",
       "1              172.0         28.0                60.0  23257.0  \n",
       "2              340.0         41.0                75.0  14016.0  \n",
       "3              408.0         42.0                81.0  14070.0  \n",
       "4              466.0         46.0                57.0  14581.0  \n",
       "...              ...          ...                 ...      ...  \n",
       "3209             NaN          NaN                 7.0  39461.0  \n",
       "3210             NaN          NaN                20.0  18432.0  \n",
       "3211             NaN          NaN                35.0  17341.0  \n",
       "3212             NaN          NaN                 NaN    961.0  \n",
       "3213             NaN          NaN                 NaN    531.0  \n",
       "\n",
       "[3214 rows x 10 columns]"
      ]
     },
     "execution_count": 21,
     "metadata": {},
     "output_type": "execute_result"
    }
   ],
   "source": [
    "# записываем таблицы в массив\n",
    "total_group = [calls_pivot, data_messages_grouped, data_internet_grouped]\n",
    "total_group\n",
    "## группируем таблицы с помощью merge(), вызывая два аргумента в функции reduce()\n",
    "grouped_data = reduce(lambda left,right: pd.merge(left,right,on=['user_id', 'month'], how='outer'), total_group)\n",
    "grouped_data.sample(10)\n",
    "# присоединяем ещё одну таблицу с пользователями\n",
    "Data_analysis = data_users.join(grouped_data, how='outer')\n",
    "Data_analysis.reset_index(inplace = True)\n",
    "# удаляем столбцы, которые не нужны нам для аналитики\n",
    "Data_analysis.drop(['age', 'first_name', 'last_name',], axis='columns', inplace=True)\n",
    "Data_analysis.head()\n",
    "Data_analysis.duplicated().sum()\n",
    "Data_analysis"
   ]
  },
  {
   "cell_type": "code",
   "execution_count": 22,
   "metadata": {
    "scrolled": true
   },
   "outputs": [
    {
     "data": {
      "text/plain": [
       "user_id                  0\n",
       "month                    0\n",
       "city                     0\n",
       "reg_date                 0\n",
       "tariff                   0\n",
       "mb_used                 13\n",
       "calls_duration          46\n",
       "calls_count             46\n",
       "sms_total_in_month     497\n",
       "churn_date            3027\n",
       "dtype: int64"
      ]
     },
     "execution_count": 22,
     "metadata": {},
     "output_type": "execute_result"
    }
   ],
   "source": [
    "Data_analysis.isnull().sum(axis=0).sort_values()\n",
    "# пропуски в данных у тех пользователей, кто не пользуется сообщениями или интернетом, поэтому просто заполним 0"
   ]
  },
  {
   "cell_type": "code",
   "execution_count": 23,
   "metadata": {},
   "outputs": [
    {
     "data": {
      "text/plain": [
       "0"
      ]
     },
     "execution_count": 23,
     "metadata": {},
     "output_type": "execute_result"
    }
   ],
   "source": [
    "Data_analysis['mb_used'] = Data_analysis['mb_used'].fillna(0)\n",
    "Data_analysis['calls_duration'] = Data_analysis['calls_duration'].fillna(0)\n",
    "Data_analysis['calls_count'] = Data_analysis['calls_count'].fillna(0)\n",
    "Data_analysis['sms_total_in_month'] = Data_analysis['sms_total_in_month'].fillna(0)\n",
    "#data_tariffs\n",
    "Data_analysis.isnull().sum(axis=0).sort_values()\n",
    "Data_analysis.duplicated().sum()"
   ]
  },
  {
   "cell_type": "code",
   "execution_count": 24,
   "metadata": {},
   "outputs": [
    {
     "data": {
      "text/html": [
       "<div>\n",
       "<style scoped>\n",
       "    .dataframe tbody tr th:only-of-type {\n",
       "        vertical-align: middle;\n",
       "    }\n",
       "\n",
       "    .dataframe tbody tr th {\n",
       "        vertical-align: top;\n",
       "    }\n",
       "\n",
       "    .dataframe thead th {\n",
       "        text-align: right;\n",
       "    }\n",
       "</style>\n",
       "<table border=\"1\" class=\"dataframe\">\n",
       "  <thead>\n",
       "    <tr style=\"text-align: right;\">\n",
       "      <th></th>\n",
       "      <th>user_id</th>\n",
       "      <th>month</th>\n",
       "      <th>churn_date</th>\n",
       "      <th>city</th>\n",
       "      <th>reg_date</th>\n",
       "      <th>tariff</th>\n",
       "      <th>calls_duration</th>\n",
       "      <th>calls_count</th>\n",
       "      <th>sms_total_in_month</th>\n",
       "      <th>mb_used</th>\n",
       "    </tr>\n",
       "  </thead>\n",
       "  <tbody>\n",
       "    <tr>\n",
       "      <th>0</th>\n",
       "      <td>1000</td>\n",
       "      <td>5</td>\n",
       "      <td>NaT</td>\n",
       "      <td>Краснодар</td>\n",
       "      <td>2018-05-25</td>\n",
       "      <td>ultra</td>\n",
       "      <td>159.0</td>\n",
       "      <td>17.0</td>\n",
       "      <td>22.0</td>\n",
       "      <td>2256.0</td>\n",
       "    </tr>\n",
       "    <tr>\n",
       "      <th>1</th>\n",
       "      <td>1000</td>\n",
       "      <td>6</td>\n",
       "      <td>NaT</td>\n",
       "      <td>Краснодар</td>\n",
       "      <td>2018-05-25</td>\n",
       "      <td>ultra</td>\n",
       "      <td>172.0</td>\n",
       "      <td>28.0</td>\n",
       "      <td>60.0</td>\n",
       "      <td>23257.0</td>\n",
       "    </tr>\n",
       "    <tr>\n",
       "      <th>2</th>\n",
       "      <td>1000</td>\n",
       "      <td>7</td>\n",
       "      <td>NaT</td>\n",
       "      <td>Краснодар</td>\n",
       "      <td>2018-05-25</td>\n",
       "      <td>ultra</td>\n",
       "      <td>340.0</td>\n",
       "      <td>41.0</td>\n",
       "      <td>75.0</td>\n",
       "      <td>14016.0</td>\n",
       "    </tr>\n",
       "    <tr>\n",
       "      <th>3</th>\n",
       "      <td>1000</td>\n",
       "      <td>8</td>\n",
       "      <td>NaT</td>\n",
       "      <td>Краснодар</td>\n",
       "      <td>2018-05-25</td>\n",
       "      <td>ultra</td>\n",
       "      <td>408.0</td>\n",
       "      <td>42.0</td>\n",
       "      <td>81.0</td>\n",
       "      <td>14070.0</td>\n",
       "    </tr>\n",
       "    <tr>\n",
       "      <th>4</th>\n",
       "      <td>1000</td>\n",
       "      <td>9</td>\n",
       "      <td>NaT</td>\n",
       "      <td>Краснодар</td>\n",
       "      <td>2018-05-25</td>\n",
       "      <td>ultra</td>\n",
       "      <td>466.0</td>\n",
       "      <td>46.0</td>\n",
       "      <td>57.0</td>\n",
       "      <td>14581.0</td>\n",
       "    </tr>\n",
       "    <tr>\n",
       "      <th>...</th>\n",
       "      <td>...</td>\n",
       "      <td>...</td>\n",
       "      <td>...</td>\n",
       "      <td>...</td>\n",
       "      <td>...</td>\n",
       "      <td>...</td>\n",
       "      <td>...</td>\n",
       "      <td>...</td>\n",
       "      <td>...</td>\n",
       "      <td>...</td>\n",
       "    </tr>\n",
       "    <tr>\n",
       "      <th>3209</th>\n",
       "      <td>1328</td>\n",
       "      <td>12</td>\n",
       "      <td>NaT</td>\n",
       "      <td>Мурманск</td>\n",
       "      <td>2018-10-16</td>\n",
       "      <td>ultra</td>\n",
       "      <td>0.0</td>\n",
       "      <td>0.0</td>\n",
       "      <td>7.0</td>\n",
       "      <td>39461.0</td>\n",
       "    </tr>\n",
       "    <tr>\n",
       "      <th>3210</th>\n",
       "      <td>1473</td>\n",
       "      <td>12</td>\n",
       "      <td>NaT</td>\n",
       "      <td>Красноярск</td>\n",
       "      <td>2018-08-05</td>\n",
       "      <td>ultra</td>\n",
       "      <td>0.0</td>\n",
       "      <td>0.0</td>\n",
       "      <td>20.0</td>\n",
       "      <td>18432.0</td>\n",
       "    </tr>\n",
       "    <tr>\n",
       "      <th>3211</th>\n",
       "      <td>1489</td>\n",
       "      <td>12</td>\n",
       "      <td>NaT</td>\n",
       "      <td>Санкт-Петербург</td>\n",
       "      <td>2018-08-15</td>\n",
       "      <td>smart</td>\n",
       "      <td>0.0</td>\n",
       "      <td>0.0</td>\n",
       "      <td>35.0</td>\n",
       "      <td>17341.0</td>\n",
       "    </tr>\n",
       "    <tr>\n",
       "      <th>3212</th>\n",
       "      <td>1240</td>\n",
       "      <td>2</td>\n",
       "      <td>NaT</td>\n",
       "      <td>Воронеж</td>\n",
       "      <td>2018-02-27</td>\n",
       "      <td>ultra</td>\n",
       "      <td>0.0</td>\n",
       "      <td>0.0</td>\n",
       "      <td>0.0</td>\n",
       "      <td>961.0</td>\n",
       "    </tr>\n",
       "    <tr>\n",
       "      <th>3213</th>\n",
       "      <td>1476</td>\n",
       "      <td>4</td>\n",
       "      <td>NaT</td>\n",
       "      <td>Москва</td>\n",
       "      <td>2018-04-30</td>\n",
       "      <td>ultra</td>\n",
       "      <td>0.0</td>\n",
       "      <td>0.0</td>\n",
       "      <td>0.0</td>\n",
       "      <td>531.0</td>\n",
       "    </tr>\n",
       "  </tbody>\n",
       "</table>\n",
       "<p>3214 rows × 10 columns</p>\n",
       "</div>"
      ],
      "text/plain": [
       "      user_id  month churn_date             city   reg_date tariff  \\\n",
       "0        1000      5        NaT        Краснодар 2018-05-25  ultra   \n",
       "1        1000      6        NaT        Краснодар 2018-05-25  ultra   \n",
       "2        1000      7        NaT        Краснодар 2018-05-25  ultra   \n",
       "3        1000      8        NaT        Краснодар 2018-05-25  ultra   \n",
       "4        1000      9        NaT        Краснодар 2018-05-25  ultra   \n",
       "...       ...    ...        ...              ...        ...    ...   \n",
       "3209     1328     12        NaT         Мурманск 2018-10-16  ultra   \n",
       "3210     1473     12        NaT       Красноярск 2018-08-05  ultra   \n",
       "3211     1489     12        NaT  Санкт-Петербург 2018-08-15  smart   \n",
       "3212     1240      2        NaT          Воронеж 2018-02-27  ultra   \n",
       "3213     1476      4        NaT           Москва 2018-04-30  ultra   \n",
       "\n",
       "      calls_duration  calls_count  sms_total_in_month  mb_used  \n",
       "0              159.0         17.0                22.0   2256.0  \n",
       "1              172.0         28.0                60.0  23257.0  \n",
       "2              340.0         41.0                75.0  14016.0  \n",
       "3              408.0         42.0                81.0  14070.0  \n",
       "4              466.0         46.0                57.0  14581.0  \n",
       "...              ...          ...                 ...      ...  \n",
       "3209             0.0          0.0                 7.0  39461.0  \n",
       "3210             0.0          0.0                20.0  18432.0  \n",
       "3211             0.0          0.0                35.0  17341.0  \n",
       "3212             0.0          0.0                 0.0    961.0  \n",
       "3213             0.0          0.0                 0.0    531.0  \n",
       "\n",
       "[3214 rows x 10 columns]"
      ]
     },
     "execution_count": 24,
     "metadata": {},
     "output_type": "execute_result"
    }
   ],
   "source": [
    "Data_analysis"
   ]
  },
  {
   "cell_type": "code",
   "execution_count": 25,
   "metadata": {},
   "outputs": [],
   "source": [
    "Data_analysis = Data_analysis.merge(data_tariffs, on='tariff', how='left')"
   ]
  },
  {
   "cell_type": "raw",
   "metadata": {},
   "source": [
    "# функция для подсчета прибыли по тарифу 'smart'\n",
    "smart_minutes_included = data_tariffs[data_tariffs['tariff'] == 'smart']['minutes_included'].reset_index()\n",
    "smart_minutes_included= smart_minutes_included.iloc[0]\n",
    "smart_minutes_included = smart_minutes_included['minutes_included']\n",
    "\n",
    "smart_messages_included = data_tariffs[data_tariffs['tariff'] == 'smart']['messages_included'].reset_index()\n",
    "smart_messages_included= smart_messages_included.iloc[0]\n",
    "smart_messages_included = smart_messages_included['messages_included']\n",
    "\n",
    "smart_mb_per_month_included =data_tariffs[data_tariffs['tariff'] == 'smart']['mb_per_month_included'].reset_index()\n",
    "smart_mb_per_month_included= smart_mb_per_month_included.iloc[0]\n",
    "smart_mb_per_month_included = smart_mb_per_month_included['mb_per_month_included']\n",
    "\n",
    "smart_gb = data_tariffs[data_tariffs['tariff'] == 'smart']['rub_per_gb'].reset_index()\n",
    "smart_gb= smart_gb.iloc[0]\n",
    "smart_gb = smart_gb['rub_per_gb']\n",
    "\n",
    "smart_message =data_tariffs[data_tariffs['tariff'] == 'smart']['rub_per_message'].reset_index()\n",
    "smart_message= smart_message.iloc[0]\n",
    "smart_message = smart_message['rub_per_message']\n",
    "\n",
    "smart_minute = data_tariffs[data_tariffs['tariff'] == 'smart']['rub_per_minute'].reset_index()\n",
    "smart_minute= smart_minute.iloc[0]\n",
    "smart_minute = smart_minute['rub_per_minute']\n",
    "\n",
    "\n",
    "\n",
    "smart_rub_monthly_fee = data_tariffs[data_tariffs['tariff'] == 'smart']['rub_monthly_fee'].reset_index()\n",
    "smart_rub_monthly_fee= smart_rub_monthly_fee.iloc[0]\n",
    "smart_rub_monthly_fee = smart_rub_monthly_fee['rub_monthly_fee']\n",
    "\n",
    "\n",
    "\n",
    "ultra_messages_included=data_tariffs[data_tariffs['tariff'] == 'ultra']['messages_included'].reset_index()\n",
    "ultra_messages_included= ultra_messages_included.iloc[0]\n",
    "ultra_messages_included = ultra_messages_included['messages_included']\n",
    "\n",
    "ultra_mb_per_month_included = data_tariffs[data_tariffs['tariff'] == 'ultra']['mb_per_month_included'].reset_index()\n",
    "ultra_mb_per_month_included= ultra_mb_per_month_included.iloc[0]\n",
    "ultra_mb_per_month_included = ultra_mb_per_month_included['mb_per_month_included']\n",
    "\n",
    "ultra_minutes_included = data_tariffs[data_tariffs['tariff'] == 'ultra']['minutes_included'].reset_index()\n",
    "ultra_minutes_included= ultra_minutes_included.iloc[0]\n",
    "ultra_minutes_included = ultra_minutes_included['minutes_included']\n",
    "\n",
    "ultra_gb = data_tariffs[data_tariffs['tariff'] == 'ultra']['rub_per_gb'].reset_index()\n",
    "ultra_gb= ultra_gb.iloc[0]\n",
    "ultra_gb = ultra_gb['rub_per_gb']\n",
    "\n",
    "ultra_message = data_tariffs[data_tariffs['tariff'] == 'ultra']['rub_per_message'].reset_index()\n",
    "ultra_message= ultra_message.iloc[0]\n",
    "ultra_message = ultra_message['rub_per_message']\n",
    "\n",
    "\n",
    "ultra_minute = data_tariffs[data_tariffs['tariff'] == 'ultra']['rub_per_minute'].reset_index()\n",
    "ultra_minute= ultra_minute.iloc[0]\n",
    "ultra_minute = ultra_minute['rub_per_minute']\n",
    "\n",
    "\n",
    "ultra_rub_monthly_fee = data_tariffs[data_tariffs['tariff'] == 'ultra']['rub_monthly_fee'].reset_index()\n",
    "ultra_rub_monthly_fee= ultra_rub_monthly_fee.iloc[0]\n",
    "ultra_rub_monthly_fee = ultra_rub_monthly_fee['rub_monthly_fee']\n",
    "\n",
    "def profit_Megaline(data):\n",
    "    calls_duration = data['calls_duration']    \n",
    "    sms_total_in_month = data['sms_total_in_month']\n",
    "    mb_used = data['mb_used']\n",
    "    tariff = data['tariff']\n",
    "    profit_sms_total_in_month=0\n",
    "    profit_mb_used = 0\n",
    "    profit_calls_duration = 0\n",
    "    if tariff == 'smart':\n",
    "        if calls_duration > smart_minutes_included:\n",
    "            profit_calls_duration = (calls_duration - smart_minutes_included) * smart_minute\n",
    "        if sms_total_in_month > smart_messages_included:\n",
    "            profit_sms_total_in_month = (sms_total_in_month - smart_messages_included) * smart_message\n",
    "        if mb_used > smart_mb_per_month_included:\n",
    "            profit_mb_used = (mb_used -smart_mb_per_month_included)/1024 # * smart_gb\n",
    "            #profit_mb_used = profit_mb_used.apply(np.ceil)\n",
    "            profit_mb_used = profit_mb_used * smart_gb\n",
    "            profit_mb_used = np.ceil(profit_mb_used)\n",
    "        return profit_calls_duration +profit_sms_total_in_month +  profit_mb_used + smart_rub_monthly_fee\n",
    "    if tariff == 'ultra':\n",
    "        if calls_duration > ultra_minutes_included:\n",
    "            profit_calls_duration = (calls_duration - ultra_minutes_included) * ultra_minute\n",
    "        if sms_total_in_month > ultra_messages_included:\n",
    "            profit_sms_total_in_month = (sms_total_in_month - smart_messages_included) * ultra_message\n",
    "        if mb_used > ultra_mb_per_month_included:\n",
    "            profit_mb_used = (mb_used - ultra_mb_per_month_included)/1024 #* ultra_gb\n",
    "            profit_mb_used = profit_mb_used * ultra_gb\n",
    "            profit_mb_used = np.ceil(profit_mb_used)\n",
    "        return profit_calls_duration + profit_sms_total_in_month +  profit_mb_used + ultra_rub_monthly_fee\n",
    "#Data_analysis = Data_analysis.merge(data_tariffs, on='tariff', how='left')        \n",
    "#Data_analysis\n",
    "ultra_mb_per_month_included"
   ]
  },
  {
   "cell_type": "code",
   "execution_count": 26,
   "metadata": {},
   "outputs": [],
   "source": [
    "def  revenue(row):\n",
    "    \n",
    "    # создаем базу, абонентскую плату, клиент ее в любом случае платит\n",
    "    # при наличии перерасхода к абонентской плате прибавляется плата за перерасход\n",
    "    \n",
    "    revenue = row['rub_monthly_fee']\n",
    "    \n",
    "    # далее бежим по условиям и в случае, когда они срабатывают положительно, то считается плата за перерасход и прибавляется\n",
    "    # к абонентской плате\n",
    "    \n",
    "    if row['calls_duration'] > row['minutes_included']:\n",
    "        \n",
    "        revenue +=  (row['calls_duration'] - row['minutes_included']) * row['rub_per_minute']\n",
    "        \n",
    "    if row['sms_total_in_month']>row['messages_included']:\n",
    "        \n",
    "        revenue += (row['sms_total_in_month'] - row['messages_included']) * row['rub_per_message']\n",
    "        \n",
    "    if row['mb_used'] > row['mb_per_month_included']:\n",
    "        \n",
    "        #переводим мегабайты в гигабайты и округляем в большую сторону\n",
    "        revenue += np.ceil((row['mb_used'] - row['mb_per_month_included']) / 1024) * row['rub_per_gb']\n",
    "        \n",
    "        \n",
    "    return revenue\n",
    "        \n",
    "# применяем функцию\n",
    "\n",
    "Data_analysis['profit'] = Data_analysis.apply(revenue, axis=1)"
   ]
  },
  {
   "cell_type": "code",
   "execution_count": 27,
   "metadata": {},
   "outputs": [
    {
     "data": {
      "text/html": [
       "<div>\n",
       "<style scoped>\n",
       "    .dataframe tbody tr th:only-of-type {\n",
       "        vertical-align: middle;\n",
       "    }\n",
       "\n",
       "    .dataframe tbody tr th {\n",
       "        vertical-align: top;\n",
       "    }\n",
       "\n",
       "    .dataframe thead th {\n",
       "        text-align: right;\n",
       "    }\n",
       "</style>\n",
       "<table border=\"1\" class=\"dataframe\">\n",
       "  <thead>\n",
       "    <tr style=\"text-align: right;\">\n",
       "      <th></th>\n",
       "      <th>user_id</th>\n",
       "      <th>month</th>\n",
       "      <th>churn_date</th>\n",
       "      <th>city</th>\n",
       "      <th>reg_date</th>\n",
       "      <th>tariff</th>\n",
       "      <th>calls_duration</th>\n",
       "      <th>calls_count</th>\n",
       "      <th>sms_total_in_month</th>\n",
       "      <th>mb_used</th>\n",
       "      <th>messages_included</th>\n",
       "      <th>mb_per_month_included</th>\n",
       "      <th>minutes_included</th>\n",
       "      <th>rub_monthly_fee</th>\n",
       "      <th>rub_per_gb</th>\n",
       "      <th>rub_per_message</th>\n",
       "      <th>rub_per_minute</th>\n",
       "      <th>profit</th>\n",
       "    </tr>\n",
       "  </thead>\n",
       "  <tbody>\n",
       "    <tr>\n",
       "      <th>0</th>\n",
       "      <td>1000</td>\n",
       "      <td>5</td>\n",
       "      <td>NaT</td>\n",
       "      <td>Краснодар</td>\n",
       "      <td>2018-05-25</td>\n",
       "      <td>ultra</td>\n",
       "      <td>159.0</td>\n",
       "      <td>17.0</td>\n",
       "      <td>22.0</td>\n",
       "      <td>2256.0</td>\n",
       "      <td>1000</td>\n",
       "      <td>30720</td>\n",
       "      <td>3000</td>\n",
       "      <td>1950</td>\n",
       "      <td>150</td>\n",
       "      <td>1</td>\n",
       "      <td>1</td>\n",
       "      <td>1950.0</td>\n",
       "    </tr>\n",
       "    <tr>\n",
       "      <th>1</th>\n",
       "      <td>1000</td>\n",
       "      <td>6</td>\n",
       "      <td>NaT</td>\n",
       "      <td>Краснодар</td>\n",
       "      <td>2018-05-25</td>\n",
       "      <td>ultra</td>\n",
       "      <td>172.0</td>\n",
       "      <td>28.0</td>\n",
       "      <td>60.0</td>\n",
       "      <td>23257.0</td>\n",
       "      <td>1000</td>\n",
       "      <td>30720</td>\n",
       "      <td>3000</td>\n",
       "      <td>1950</td>\n",
       "      <td>150</td>\n",
       "      <td>1</td>\n",
       "      <td>1</td>\n",
       "      <td>1950.0</td>\n",
       "    </tr>\n",
       "    <tr>\n",
       "      <th>2</th>\n",
       "      <td>1000</td>\n",
       "      <td>7</td>\n",
       "      <td>NaT</td>\n",
       "      <td>Краснодар</td>\n",
       "      <td>2018-05-25</td>\n",
       "      <td>ultra</td>\n",
       "      <td>340.0</td>\n",
       "      <td>41.0</td>\n",
       "      <td>75.0</td>\n",
       "      <td>14016.0</td>\n",
       "      <td>1000</td>\n",
       "      <td>30720</td>\n",
       "      <td>3000</td>\n",
       "      <td>1950</td>\n",
       "      <td>150</td>\n",
       "      <td>1</td>\n",
       "      <td>1</td>\n",
       "      <td>1950.0</td>\n",
       "    </tr>\n",
       "    <tr>\n",
       "      <th>3</th>\n",
       "      <td>1000</td>\n",
       "      <td>8</td>\n",
       "      <td>NaT</td>\n",
       "      <td>Краснодар</td>\n",
       "      <td>2018-05-25</td>\n",
       "      <td>ultra</td>\n",
       "      <td>408.0</td>\n",
       "      <td>42.0</td>\n",
       "      <td>81.0</td>\n",
       "      <td>14070.0</td>\n",
       "      <td>1000</td>\n",
       "      <td>30720</td>\n",
       "      <td>3000</td>\n",
       "      <td>1950</td>\n",
       "      <td>150</td>\n",
       "      <td>1</td>\n",
       "      <td>1</td>\n",
       "      <td>1950.0</td>\n",
       "    </tr>\n",
       "    <tr>\n",
       "      <th>4</th>\n",
       "      <td>1000</td>\n",
       "      <td>9</td>\n",
       "      <td>NaT</td>\n",
       "      <td>Краснодар</td>\n",
       "      <td>2018-05-25</td>\n",
       "      <td>ultra</td>\n",
       "      <td>466.0</td>\n",
       "      <td>46.0</td>\n",
       "      <td>57.0</td>\n",
       "      <td>14581.0</td>\n",
       "      <td>1000</td>\n",
       "      <td>30720</td>\n",
       "      <td>3000</td>\n",
       "      <td>1950</td>\n",
       "      <td>150</td>\n",
       "      <td>1</td>\n",
       "      <td>1</td>\n",
       "      <td>1950.0</td>\n",
       "    </tr>\n",
       "    <tr>\n",
       "      <th>5</th>\n",
       "      <td>1000</td>\n",
       "      <td>10</td>\n",
       "      <td>NaT</td>\n",
       "      <td>Краснодар</td>\n",
       "      <td>2018-05-25</td>\n",
       "      <td>ultra</td>\n",
       "      <td>350.0</td>\n",
       "      <td>44.0</td>\n",
       "      <td>73.0</td>\n",
       "      <td>14717.0</td>\n",
       "      <td>1000</td>\n",
       "      <td>30720</td>\n",
       "      <td>3000</td>\n",
       "      <td>1950</td>\n",
       "      <td>150</td>\n",
       "      <td>1</td>\n",
       "      <td>1</td>\n",
       "      <td>1950.0</td>\n",
       "    </tr>\n",
       "    <tr>\n",
       "      <th>6</th>\n",
       "      <td>1000</td>\n",
       "      <td>11</td>\n",
       "      <td>NaT</td>\n",
       "      <td>Краснодар</td>\n",
       "      <td>2018-05-25</td>\n",
       "      <td>ultra</td>\n",
       "      <td>338.0</td>\n",
       "      <td>37.0</td>\n",
       "      <td>58.0</td>\n",
       "      <td>14768.0</td>\n",
       "      <td>1000</td>\n",
       "      <td>30720</td>\n",
       "      <td>3000</td>\n",
       "      <td>1950</td>\n",
       "      <td>150</td>\n",
       "      <td>1</td>\n",
       "      <td>1</td>\n",
       "      <td>1950.0</td>\n",
       "    </tr>\n",
       "    <tr>\n",
       "      <th>7</th>\n",
       "      <td>1000</td>\n",
       "      <td>12</td>\n",
       "      <td>NaT</td>\n",
       "      <td>Краснодар</td>\n",
       "      <td>2018-05-25</td>\n",
       "      <td>ultra</td>\n",
       "      <td>333.0</td>\n",
       "      <td>38.0</td>\n",
       "      <td>70.0</td>\n",
       "      <td>9827.0</td>\n",
       "      <td>1000</td>\n",
       "      <td>30720</td>\n",
       "      <td>3000</td>\n",
       "      <td>1950</td>\n",
       "      <td>150</td>\n",
       "      <td>1</td>\n",
       "      <td>1</td>\n",
       "      <td>1950.0</td>\n",
       "    </tr>\n",
       "    <tr>\n",
       "      <th>8</th>\n",
       "      <td>1001</td>\n",
       "      <td>11</td>\n",
       "      <td>NaT</td>\n",
       "      <td>Москва</td>\n",
       "      <td>2018-11-01</td>\n",
       "      <td>smart</td>\n",
       "      <td>430.0</td>\n",
       "      <td>45.0</td>\n",
       "      <td>0.0</td>\n",
       "      <td>18452.0</td>\n",
       "      <td>50</td>\n",
       "      <td>15360</td>\n",
       "      <td>500</td>\n",
       "      <td>550</td>\n",
       "      <td>200</td>\n",
       "      <td>3</td>\n",
       "      <td>3</td>\n",
       "      <td>1350.0</td>\n",
       "    </tr>\n",
       "    <tr>\n",
       "      <th>9</th>\n",
       "      <td>1001</td>\n",
       "      <td>12</td>\n",
       "      <td>NaT</td>\n",
       "      <td>Москва</td>\n",
       "      <td>2018-11-01</td>\n",
       "      <td>smart</td>\n",
       "      <td>414.0</td>\n",
       "      <td>47.0</td>\n",
       "      <td>0.0</td>\n",
       "      <td>14053.0</td>\n",
       "      <td>50</td>\n",
       "      <td>15360</td>\n",
       "      <td>500</td>\n",
       "      <td>550</td>\n",
       "      <td>200</td>\n",
       "      <td>3</td>\n",
       "      <td>3</td>\n",
       "      <td>550.0</td>\n",
       "    </tr>\n",
       "  </tbody>\n",
       "</table>\n",
       "</div>"
      ],
      "text/plain": [
       "   user_id  month churn_date       city   reg_date tariff  calls_duration  \\\n",
       "0     1000      5        NaT  Краснодар 2018-05-25  ultra           159.0   \n",
       "1     1000      6        NaT  Краснодар 2018-05-25  ultra           172.0   \n",
       "2     1000      7        NaT  Краснодар 2018-05-25  ultra           340.0   \n",
       "3     1000      8        NaT  Краснодар 2018-05-25  ultra           408.0   \n",
       "4     1000      9        NaT  Краснодар 2018-05-25  ultra           466.0   \n",
       "5     1000     10        NaT  Краснодар 2018-05-25  ultra           350.0   \n",
       "6     1000     11        NaT  Краснодар 2018-05-25  ultra           338.0   \n",
       "7     1000     12        NaT  Краснодар 2018-05-25  ultra           333.0   \n",
       "8     1001     11        NaT     Москва 2018-11-01  smart           430.0   \n",
       "9     1001     12        NaT     Москва 2018-11-01  smart           414.0   \n",
       "\n",
       "   calls_count  sms_total_in_month  mb_used  messages_included  \\\n",
       "0         17.0                22.0   2256.0               1000   \n",
       "1         28.0                60.0  23257.0               1000   \n",
       "2         41.0                75.0  14016.0               1000   \n",
       "3         42.0                81.0  14070.0               1000   \n",
       "4         46.0                57.0  14581.0               1000   \n",
       "5         44.0                73.0  14717.0               1000   \n",
       "6         37.0                58.0  14768.0               1000   \n",
       "7         38.0                70.0   9827.0               1000   \n",
       "8         45.0                 0.0  18452.0                 50   \n",
       "9         47.0                 0.0  14053.0                 50   \n",
       "\n",
       "   mb_per_month_included  minutes_included  rub_monthly_fee  rub_per_gb  \\\n",
       "0                  30720              3000             1950         150   \n",
       "1                  30720              3000             1950         150   \n",
       "2                  30720              3000             1950         150   \n",
       "3                  30720              3000             1950         150   \n",
       "4                  30720              3000             1950         150   \n",
       "5                  30720              3000             1950         150   \n",
       "6                  30720              3000             1950         150   \n",
       "7                  30720              3000             1950         150   \n",
       "8                  15360               500              550         200   \n",
       "9                  15360               500              550         200   \n",
       "\n",
       "   rub_per_message  rub_per_minute  profit  \n",
       "0                1               1  1950.0  \n",
       "1                1               1  1950.0  \n",
       "2                1               1  1950.0  \n",
       "3                1               1  1950.0  \n",
       "4                1               1  1950.0  \n",
       "5                1               1  1950.0  \n",
       "6                1               1  1950.0  \n",
       "7                1               1  1950.0  \n",
       "8                3               3  1350.0  \n",
       "9                3               3   550.0  "
      ]
     },
     "execution_count": 27,
     "metadata": {},
     "output_type": "execute_result"
    }
   ],
   "source": [
    "#Data_analysis['profit'] = Data_analysis.apply(profit_Megaline, axis=1)\n",
    "Data_analysis.head(10)"
   ]
  },
  {
   "cell_type": "code",
   "execution_count": 28,
   "metadata": {},
   "outputs": [
    {
     "name": "stdout",
     "output_type": "stream",
     "text": [
      "<class 'pandas.core.frame.DataFrame'>\n",
      "Int64Index: 3214 entries, 0 to 3213\n",
      "Data columns (total 18 columns):\n",
      " #   Column                 Non-Null Count  Dtype         \n",
      "---  ------                 --------------  -----         \n",
      " 0   user_id                3214 non-null   int64         \n",
      " 1   month                  3214 non-null   int64         \n",
      " 2   churn_date             187 non-null    datetime64[ns]\n",
      " 3   city                   3214 non-null   object        \n",
      " 4   reg_date               3214 non-null   datetime64[ns]\n",
      " 5   tariff                 3214 non-null   object        \n",
      " 6   calls_duration         3214 non-null   float64       \n",
      " 7   calls_count            3214 non-null   float64       \n",
      " 8   sms_total_in_month     3214 non-null   float64       \n",
      " 9   mb_used                3214 non-null   float64       \n",
      " 10  messages_included      3214 non-null   int64         \n",
      " 11  mb_per_month_included  3214 non-null   int64         \n",
      " 12  minutes_included       3214 non-null   int64         \n",
      " 13  rub_monthly_fee        3214 non-null   int64         \n",
      " 14  rub_per_gb             3214 non-null   int64         \n",
      " 15  rub_per_message        3214 non-null   int64         \n",
      " 16  rub_per_minute         3214 non-null   int64         \n",
      " 17  profit                 3214 non-null   float64       \n",
      "dtypes: datetime64[ns](2), float64(5), int64(9), object(2)\n",
      "memory usage: 477.1+ KB\n"
     ]
    }
   ],
   "source": [
    "Data_analysis.info()\n",
    "Data_analysis['profit']=Data_analysis['profit'].astype('int')"
   ]
  },
  {
   "cell_type": "code",
   "execution_count": 29,
   "metadata": {},
   "outputs": [],
   "source": [
    "#Data_analysis = Data_analysis.query(\"profit != 0\")"
   ]
  },
  {
   "cell_type": "code",
   "execution_count": 30,
   "metadata": {},
   "outputs": [
    {
     "data": {
      "text/plain": [
       "3214"
      ]
     },
     "execution_count": 30,
     "metadata": {},
     "output_type": "execute_result"
    }
   ],
   "source": [
    "Data_analysis.shape[0]"
   ]
  },
  {
   "cell_type": "code",
   "execution_count": 31,
   "metadata": {},
   "outputs": [
    {
     "data": {
      "text/plain": [
       "2899     550\n",
       "447      550\n",
       "448      550\n",
       "450      550\n",
       "453      550\n",
       "        ... \n",
       "1789    5321\n",
       "1618    5672\n",
       "3099    5680\n",
       "260     5709\n",
       "3100    6770\n",
       "Name: profit, Length: 3214, dtype: int32"
      ]
     },
     "execution_count": 31,
     "metadata": {},
     "output_type": "execute_result"
    }
   ],
   "source": [
    "Data_analysis['profit'].sort_values()"
   ]
  },
  {
   "cell_type": "code",
   "execution_count": 32,
   "metadata": {},
   "outputs": [
    {
     "data": {
      "text/html": [
       "<div>\n",
       "<style scoped>\n",
       "    .dataframe tbody tr th:only-of-type {\n",
       "        vertical-align: middle;\n",
       "    }\n",
       "\n",
       "    .dataframe tbody tr th {\n",
       "        vertical-align: top;\n",
       "    }\n",
       "\n",
       "    .dataframe thead tr th {\n",
       "        text-align: left;\n",
       "    }\n",
       "\n",
       "    .dataframe thead tr:last-of-type th {\n",
       "        text-align: right;\n",
       "    }\n",
       "</style>\n",
       "<table border=\"1\" class=\"dataframe\">\n",
       "  <thead>\n",
       "    <tr>\n",
       "      <th></th>\n",
       "      <th>mean</th>\n",
       "    </tr>\n",
       "    <tr>\n",
       "      <th></th>\n",
       "      <th>profit</th>\n",
       "    </tr>\n",
       "    <tr>\n",
       "      <th>tariff</th>\n",
       "      <th></th>\n",
       "    </tr>\n",
       "  </thead>\n",
       "  <tbody>\n",
       "    <tr>\n",
       "      <th>smart</th>\n",
       "      <td>1294.63930</td>\n",
       "    </tr>\n",
       "    <tr>\n",
       "      <th>ultra</th>\n",
       "      <td>2071.06599</td>\n",
       "    </tr>\n",
       "  </tbody>\n",
       "</table>\n",
       "</div>"
      ],
      "text/plain": [
       "              mean\n",
       "            profit\n",
       "tariff            \n",
       "smart   1294.63930\n",
       "ultra   2071.06599"
      ]
     },
     "execution_count": 32,
     "metadata": {},
     "output_type": "execute_result"
    }
   ],
   "source": [
    "profit_smart = Data_analysis.pivot_table(index=['tariff'], values='profit', aggfunc=['mean'])\n",
    "profit_smart"
   ]
  },
  {
   "cell_type": "code",
   "execution_count": 33,
   "metadata": {},
   "outputs": [
    {
     "name": "stdout",
     "output_type": "stream",
     "text": [
      "mean  profit    1.599724\n",
      "dtype: float64\n"
     ]
    }
   ],
   "source": [
    "k_profit_smart= profit_smart.iloc[0]\n",
    "k_profit_ultra= profit_smart.iloc[1]\n",
    "A = k_profit_ultra/k_profit_smart\n",
    "print(A)"
   ]
  },
  {
   "cell_type": "code",
   "execution_count": 34,
   "metadata": {},
   "outputs": [
    {
     "data": {
      "text/plain": [
       "user_id                     0\n",
       "rub_per_message             0\n",
       "rub_per_gb                  0\n",
       "rub_monthly_fee             0\n",
       "minutes_included            0\n",
       "mb_per_month_included       0\n",
       "messages_included           0\n",
       "mb_used                     0\n",
       "sms_total_in_month          0\n",
       "calls_count                 0\n",
       "calls_duration              0\n",
       "tariff                      0\n",
       "reg_date                    0\n",
       "city                        0\n",
       "month                       0\n",
       "rub_per_minute              0\n",
       "profit                      0\n",
       "churn_date               3027\n",
       "dtype: int64"
      ]
     },
     "execution_count": 34,
     "metadata": {},
     "output_type": "execute_result"
    }
   ],
   "source": [
    "Data_analysis.isnull().sum(axis=0).sort_values()"
   ]
  },
  {
   "cell_type": "markdown",
   "metadata": {},
   "source": [
    "### Вывод: Мы рассчитали  прибыль с каждого пользователя с учетом абонентской платы. По среднему значению тариф ultra приносит на 67% больше прибыли, чем тариф smart. "
   ]
  },
  {
   "cell_type": "code",
   "execution_count": 35,
   "metadata": {},
   "outputs": [
    {
     "name": "stdout",
     "output_type": "stream",
     "text": [
      "mean  profit    37.48923\n",
      "dtype: float64\n"
     ]
    }
   ],
   "source": [
    "# КОД РЕВЬЮВЕРА\n",
    "\n",
    "# проще наверное посмотреть % разницу\n",
    "\n",
    "k_profit_smart= profit_smart.iloc[0]\n",
    "k_profit_ultra= profit_smart.iloc[1]\n",
    "A = ((k_profit_ultra - k_profit_smart) / k_profit_ultra) * 100\n",
    "print(A)"
   ]
  },
  {
   "cell_type": "markdown",
   "metadata": {},
   "source": [
    "# Шаг 3. Проанализируйте данные\n"
   ]
  },
  {
   "cell_type": "markdown",
   "metadata": {},
   "source": [
    "## Сколько минут разговора, сколько сообщений и какой объём интернет-трафика требуется пользователям каждого тарифа в месяц?"
   ]
  },
  {
   "cell_type": "code",
   "execution_count": 36,
   "metadata": {},
   "outputs": [],
   "source": [
    "# разделяем таблицу по тарифам\n",
    "smart_tariff = Data_analysis[Data_analysis['tariff'] == 'smart']\n",
    "ultra_tariff = Data_analysis[Data_analysis['tariff'] == 'ultra']"
   ]
  },
  {
   "cell_type": "code",
   "execution_count": 37,
   "metadata": {},
   "outputs": [
    {
     "data": {
      "text/html": [
       "<div>\n",
       "<style scoped>\n",
       "    .dataframe tbody tr th:only-of-type {\n",
       "        vertical-align: middle;\n",
       "    }\n",
       "\n",
       "    .dataframe tbody tr th {\n",
       "        vertical-align: top;\n",
       "    }\n",
       "\n",
       "    .dataframe thead th {\n",
       "        text-align: right;\n",
       "    }\n",
       "</style>\n",
       "<table border=\"1\" class=\"dataframe\">\n",
       "  <thead>\n",
       "    <tr style=\"text-align: right;\">\n",
       "      <th></th>\n",
       "      <th>calls_duration</th>\n",
       "      <th>mb_used</th>\n",
       "      <th>profit</th>\n",
       "      <th>sms_total_in_month</th>\n",
       "    </tr>\n",
       "    <tr>\n",
       "      <th>month</th>\n",
       "      <th></th>\n",
       "      <th></th>\n",
       "      <th></th>\n",
       "      <th></th>\n",
       "    </tr>\n",
       "  </thead>\n",
       "  <tbody>\n",
       "    <tr>\n",
       "      <th>1</th>\n",
       "      <td>162.5</td>\n",
       "      <td>7107.0</td>\n",
       "      <td>550.0</td>\n",
       "      <td>15.0</td>\n",
       "    </tr>\n",
       "    <tr>\n",
       "      <th>2</th>\n",
       "      <td>258.0</td>\n",
       "      <td>12572.5</td>\n",
       "      <td>550.0</td>\n",
       "      <td>20.0</td>\n",
       "    </tr>\n",
       "    <tr>\n",
       "      <th>3</th>\n",
       "      <td>409.0</td>\n",
       "      <td>15690.0</td>\n",
       "      <td>886.0</td>\n",
       "      <td>23.0</td>\n",
       "    </tr>\n",
       "    <tr>\n",
       "      <th>4</th>\n",
       "      <td>368.5</td>\n",
       "      <td>14104.5</td>\n",
       "      <td>620.5</td>\n",
       "      <td>28.0</td>\n",
       "    </tr>\n",
       "    <tr>\n",
       "      <th>5</th>\n",
       "      <td>433.0</td>\n",
       "      <td>16343.0</td>\n",
       "      <td>986.0</td>\n",
       "      <td>30.0</td>\n",
       "    </tr>\n",
       "    <tr>\n",
       "      <th>6</th>\n",
       "      <td>400.0</td>\n",
       "      <td>16095.5</td>\n",
       "      <td>950.0</td>\n",
       "      <td>28.0</td>\n",
       "    </tr>\n",
       "    <tr>\n",
       "      <th>7</th>\n",
       "      <td>414.0</td>\n",
       "      <td>15948.0</td>\n",
       "      <td>992.0</td>\n",
       "      <td>29.0</td>\n",
       "    </tr>\n",
       "    <tr>\n",
       "      <th>8</th>\n",
       "      <td>432.0</td>\n",
       "      <td>16855.0</td>\n",
       "      <td>1093.0</td>\n",
       "      <td>27.0</td>\n",
       "    </tr>\n",
       "    <tr>\n",
       "      <th>9</th>\n",
       "      <td>435.0</td>\n",
       "      <td>16050.0</td>\n",
       "      <td>958.5</td>\n",
       "      <td>30.0</td>\n",
       "    </tr>\n",
       "    <tr>\n",
       "      <th>10</th>\n",
       "      <td>427.5</td>\n",
       "      <td>17248.5</td>\n",
       "      <td>1150.0</td>\n",
       "      <td>30.0</td>\n",
       "    </tr>\n",
       "    <tr>\n",
       "      <th>11</th>\n",
       "      <td>428.5</td>\n",
       "      <td>17036.5</td>\n",
       "      <td>1156.5</td>\n",
       "      <td>28.0</td>\n",
       "    </tr>\n",
       "    <tr>\n",
       "      <th>12</th>\n",
       "      <td>471.0</td>\n",
       "      <td>17741.0</td>\n",
       "      <td>1350.0</td>\n",
       "      <td>29.0</td>\n",
       "    </tr>\n",
       "  </tbody>\n",
       "</table>\n",
       "</div>"
      ],
      "text/plain": [
       "       calls_duration  mb_used  profit  sms_total_in_month\n",
       "month                                                     \n",
       "1               162.5   7107.0   550.0                15.0\n",
       "2               258.0  12572.5   550.0                20.0\n",
       "3               409.0  15690.0   886.0                23.0\n",
       "4               368.5  14104.5   620.5                28.0\n",
       "5               433.0  16343.0   986.0                30.0\n",
       "6               400.0  16095.5   950.0                28.0\n",
       "7               414.0  15948.0   992.0                29.0\n",
       "8               432.0  16855.0  1093.0                27.0\n",
       "9               435.0  16050.0   958.5                30.0\n",
       "10              427.5  17248.5  1150.0                30.0\n",
       "11              428.5  17036.5  1156.5                28.0\n",
       "12              471.0  17741.0  1350.0                29.0"
      ]
     },
     "execution_count": 37,
     "metadata": {},
     "output_type": "execute_result"
    }
   ],
   "source": [
    "# считаем потраченное в среднем пользователем за каждым месяц \n",
    "smart_tariff_median = smart_tariff.pivot_table(index=['month'], values=['calls_duration','sms_total_in_month', 'mb_used', 'profit'],\n",
    "                                                    aggfunc='median')\n",
    "smart_tariff_pd = pd.DataFrame(smart_tariff_median.to_records())\n",
    "smart_tariff_pd.set_index(['month'], inplace = True)\n",
    "smart_tariff_pd"
   ]
  },
  {
   "cell_type": "code",
   "execution_count": 38,
   "metadata": {},
   "outputs": [
    {
     "data": {
      "text/plain": [
       "[387.0, 15232.625, 26.0]"
      ]
     },
     "execution_count": 38,
     "metadata": {},
     "output_type": "execute_result"
    }
   ],
   "source": [
    "# считаем сколько в среднем в месяц нужно смс, количество минут, интернета пользователю по тарифу smart\n",
    "mean_in_month_calls_smart = (smart_tariff_pd['calls_duration'].sum() / 12).round()\n",
    "mean_in_month_mb_smart = smart_tariff_pd['mb_used'].sum() / 12\n",
    "mean_in_month_sms_smart = (smart_tariff_pd['sms_total_in_month'].sum() / 12).round()\n",
    "mean_in_month_smart = [mean_in_month_calls_smart, mean_in_month_mb_smart, mean_in_month_sms_smart]\n",
    "mean_in_month_smart"
   ]
  },
  {
   "cell_type": "code",
   "execution_count": 39,
   "metadata": {},
   "outputs": [
    {
     "data": {
      "text/html": [
       "<div>\n",
       "<style scoped>\n",
       "    .dataframe tbody tr th:only-of-type {\n",
       "        vertical-align: middle;\n",
       "    }\n",
       "\n",
       "    .dataframe tbody tr th {\n",
       "        vertical-align: top;\n",
       "    }\n",
       "\n",
       "    .dataframe thead th {\n",
       "        text-align: right;\n",
       "    }\n",
       "</style>\n",
       "<table border=\"1\" class=\"dataframe\">\n",
       "  <thead>\n",
       "    <tr style=\"text-align: right;\">\n",
       "      <th></th>\n",
       "      <th>mean_in_month_calls</th>\n",
       "      <th>mean_in_month_mb</th>\n",
       "      <th>mean_in_month_sms</th>\n",
       "    </tr>\n",
       "  </thead>\n",
       "  <tbody>\n",
       "    <tr>\n",
       "      <th>0</th>\n",
       "      <td>387.0</td>\n",
       "      <td>15232.625</td>\n",
       "      <td>26.0</td>\n",
       "    </tr>\n",
       "  </tbody>\n",
       "</table>\n",
       "</div>"
      ],
      "text/plain": [
       "   mean_in_month_calls  mean_in_month_mb  mean_in_month_sms\n",
       "0                387.0         15232.625               26.0"
      ]
     },
     "execution_count": 39,
     "metadata": {},
     "output_type": "execute_result"
    }
   ],
   "source": [
    "# преобразовал в DataFrame, чтобы красивее выглядело\n",
    "mean_in_month_smart = pd.DataFrame([mean_in_month_smart])\n",
    "mean_in_month_smart.columns = ['mean_in_month_calls', 'mean_in_month_mb','mean_in_month_sms']\n",
    "mean_in_month_smart"
   ]
  },
  {
   "cell_type": "code",
   "execution_count": 40,
   "metadata": {},
   "outputs": [
    {
     "data": {
      "text/html": [
       "<div>\n",
       "<style scoped>\n",
       "    .dataframe tbody tr th:only-of-type {\n",
       "        vertical-align: middle;\n",
       "    }\n",
       "\n",
       "    .dataframe tbody tr th {\n",
       "        vertical-align: top;\n",
       "    }\n",
       "\n",
       "    .dataframe thead th {\n",
       "        text-align: right;\n",
       "    }\n",
       "</style>\n",
       "<table border=\"1\" class=\"dataframe\">\n",
       "  <thead>\n",
       "    <tr style=\"text-align: right;\">\n",
       "      <th></th>\n",
       "      <th>user_id</th>\n",
       "      <th>month</th>\n",
       "      <th>churn_date</th>\n",
       "      <th>city</th>\n",
       "      <th>reg_date</th>\n",
       "      <th>tariff</th>\n",
       "      <th>calls_duration</th>\n",
       "      <th>calls_count</th>\n",
       "      <th>sms_total_in_month</th>\n",
       "      <th>mb_used</th>\n",
       "      <th>messages_included</th>\n",
       "      <th>mb_per_month_included</th>\n",
       "      <th>minutes_included</th>\n",
       "      <th>rub_monthly_fee</th>\n",
       "      <th>rub_per_gb</th>\n",
       "      <th>rub_per_message</th>\n",
       "      <th>rub_per_minute</th>\n",
       "      <th>profit</th>\n",
       "    </tr>\n",
       "  </thead>\n",
       "  <tbody>\n",
       "    <tr>\n",
       "      <th>8</th>\n",
       "      <td>1001</td>\n",
       "      <td>11</td>\n",
       "      <td>NaT</td>\n",
       "      <td>Москва</td>\n",
       "      <td>2018-11-01</td>\n",
       "      <td>smart</td>\n",
       "      <td>430.0</td>\n",
       "      <td>45.0</td>\n",
       "      <td>0.0</td>\n",
       "      <td>18452.0</td>\n",
       "      <td>50</td>\n",
       "      <td>15360</td>\n",
       "      <td>500</td>\n",
       "      <td>550</td>\n",
       "      <td>200</td>\n",
       "      <td>3</td>\n",
       "      <td>3</td>\n",
       "      <td>1350</td>\n",
       "    </tr>\n",
       "  </tbody>\n",
       "</table>\n",
       "</div>"
      ],
      "text/plain": [
       "   user_id  month churn_date    city   reg_date tariff  calls_duration  \\\n",
       "8     1001     11        NaT  Москва 2018-11-01  smart           430.0   \n",
       "\n",
       "   calls_count  sms_total_in_month  mb_used  messages_included  \\\n",
       "8         45.0                 0.0  18452.0                 50   \n",
       "\n",
       "   mb_per_month_included  minutes_included  rub_monthly_fee  rub_per_gb  \\\n",
       "8                  15360               500              550         200   \n",
       "\n",
       "   rub_per_message  rub_per_minute  profit  \n",
       "8                3               3    1350  "
      ]
     },
     "execution_count": 40,
     "metadata": {},
     "output_type": "execute_result"
    }
   ],
   "source": [
    "smart_tariff.head(1)\n",
    "#smart_tariff['profit'] = smart_tariff['profit'].astype('int')\n",
    "#smart_tariff.info()"
   ]
  },
  {
   "cell_type": "code",
   "execution_count": 41,
   "metadata": {},
   "outputs": [
    {
     "name": "stdout",
     "output_type": "stream",
     "text": [
      "mean calls_duration: 418\n",
      "median calls_duration: 422\n",
      "Дисперсия calls_duration: 36203\n",
      "Среднее отклонение calls_duration: 190 \n",
      "\n",
      "mean sms_total_in_month: 33\n",
      "median sms_total_in_month: 28\n",
      "Дисперсия sms_total_in_month: 796\n",
      "Среднее отклонение sms_total_in_month: 28 \n",
      "\n",
      "mean mb_used: 16229\n",
      "median mb_used: 16531\n",
      "Дисперсия mb_used: 34530413\n",
      "Среднее отклонение mb_used: 5876 \n",
      "\n",
      "mean profit: 1295\n",
      "median profit: 1038\n",
      "Дисперсия profit: 673629\n",
      "Среднее отклонение profit: 821 \n",
      "\n"
     ]
    }
   ],
   "source": [
    "\n",
    "#Посчитаем среднее, медиану, дисперсию и среднее отклонение для тарифа Smart\n",
    "#for column in smart_tariff[['calls_duration','sms_total_in_month','mb_used','profit']]:\n",
    "#    print('Среднее {}: {:.0f}'.format(column,smart_tariff[column].mean()))\n",
    "#    print('Медиана {}: {:.0f}'.format(column,smart_tariff[column].median()))\n",
    "#    print('Дисперсия {}: {:.0f}'.format(column,np.var(smart_tariff[column])))\n",
    "#    print('Среднее отклонение {}: {:.0f} \\n'.format(column, np.std(smart_tariff[column])))\n",
    "    \n",
    "\n",
    "\n",
    "\n",
    "for column in smart_tariff[['calls_duration','sms_total_in_month', 'mb_used', 'profit']]:\n",
    "\n",
    "    print('mean {}: {:.0f}'.format(column,smart_tariff[column].mean()))\n",
    "    print('median {}: {:.0f}'.format(column,smart_tariff[column].median()))\n",
    "    print('Дисперсия {}: {:.0f}'.format(column,np.var(smart_tariff[column]), ddoff = 1))\n",
    "    print('Среднее отклонение {}: {:.0f} \\n'.format(column, np.std(smart_tariff[column]), ddoff = 1))\n",
    "    \n",
    "    \n",
    "    \n",
    "    \n",
    "    \n",
    "    \n",
    "    \n",
    "    ## Рассчитываю дисперсию по тарифу smart\n",
    "#row_smart = smart_tariff_pd.describe().round().iloc[2]\n",
    "#row_smart_pd_σ = pd.DataFrame([row_smart])\n",
    "#row_smart_pd_σ**2"
   ]
  },
  {
   "cell_type": "code",
   "execution_count": 42,
   "metadata": {},
   "outputs": [],
   "source": [
    "## Стандартное отклонение по тарифу smart\n",
    "#row_smart_pd_std = pd.DataFrame([row_smart])\n",
    "#row_smart_pd_std"
   ]
  },
  {
   "cell_type": "code",
   "execution_count": 43,
   "metadata": {},
   "outputs": [
    {
     "data": {
      "text/html": [
       "<div>\n",
       "<style scoped>\n",
       "    .dataframe tbody tr th:only-of-type {\n",
       "        vertical-align: middle;\n",
       "    }\n",
       "\n",
       "    .dataframe tbody tr th {\n",
       "        vertical-align: top;\n",
       "    }\n",
       "\n",
       "    .dataframe thead th {\n",
       "        text-align: right;\n",
       "    }\n",
       "</style>\n",
       "<table border=\"1\" class=\"dataframe\">\n",
       "  <thead>\n",
       "    <tr style=\"text-align: right;\">\n",
       "      <th></th>\n",
       "      <th>calls_duration</th>\n",
       "      <th>mb_used</th>\n",
       "      <th>profit</th>\n",
       "      <th>sms_total_in_month</th>\n",
       "    </tr>\n",
       "  </thead>\n",
       "  <tbody>\n",
       "    <tr>\n",
       "      <th>count</th>\n",
       "      <td>12.0</td>\n",
       "      <td>12.0</td>\n",
       "      <td>12.0</td>\n",
       "      <td>12.0</td>\n",
       "    </tr>\n",
       "    <tr>\n",
       "      <th>mean</th>\n",
       "      <td>387.0</td>\n",
       "      <td>15233.0</td>\n",
       "      <td>937.0</td>\n",
       "      <td>26.0</td>\n",
       "    </tr>\n",
       "    <tr>\n",
       "      <th>std</th>\n",
       "      <td>88.0</td>\n",
       "      <td>2923.0</td>\n",
       "      <td>252.0</td>\n",
       "      <td>5.0</td>\n",
       "    </tr>\n",
       "    <tr>\n",
       "      <th>min</th>\n",
       "      <td>162.0</td>\n",
       "      <td>7107.0</td>\n",
       "      <td>550.0</td>\n",
       "      <td>15.0</td>\n",
       "    </tr>\n",
       "    <tr>\n",
       "      <th>25%</th>\n",
       "      <td>392.0</td>\n",
       "      <td>15294.0</td>\n",
       "      <td>820.0</td>\n",
       "      <td>26.0</td>\n",
       "    </tr>\n",
       "    <tr>\n",
       "      <th>50%</th>\n",
       "      <td>421.0</td>\n",
       "      <td>16073.0</td>\n",
       "      <td>972.0</td>\n",
       "      <td>28.0</td>\n",
       "    </tr>\n",
       "    <tr>\n",
       "      <th>75%</th>\n",
       "      <td>432.0</td>\n",
       "      <td>16900.0</td>\n",
       "      <td>1107.0</td>\n",
       "      <td>29.0</td>\n",
       "    </tr>\n",
       "    <tr>\n",
       "      <th>max</th>\n",
       "      <td>471.0</td>\n",
       "      <td>17741.0</td>\n",
       "      <td>1350.0</td>\n",
       "      <td>30.0</td>\n",
       "    </tr>\n",
       "  </tbody>\n",
       "</table>\n",
       "</div>"
      ],
      "text/plain": [
       "       calls_duration  mb_used  profit  sms_total_in_month\n",
       "count            12.0     12.0    12.0                12.0\n",
       "mean            387.0  15233.0   937.0                26.0\n",
       "std              88.0   2923.0   252.0                 5.0\n",
       "min             162.0   7107.0   550.0                15.0\n",
       "25%             392.0  15294.0   820.0                26.0\n",
       "50%             421.0  16073.0   972.0                28.0\n",
       "75%             432.0  16900.0  1107.0                29.0\n",
       "max             471.0  17741.0  1350.0                30.0"
      ]
     },
     "execution_count": 43,
     "metadata": {},
     "output_type": "execute_result"
    }
   ],
   "source": [
    "smart_tariff_pd.describe().round()"
   ]
  },
  {
   "cell_type": "code",
   "execution_count": 44,
   "metadata": {},
   "outputs": [
    {
     "data": {
      "text/html": [
       "<div>\n",
       "<style scoped>\n",
       "    .dataframe tbody tr th:only-of-type {\n",
       "        vertical-align: middle;\n",
       "    }\n",
       "\n",
       "    .dataframe tbody tr th {\n",
       "        vertical-align: top;\n",
       "    }\n",
       "\n",
       "    .dataframe thead th {\n",
       "        text-align: right;\n",
       "    }\n",
       "</style>\n",
       "<table border=\"1\" class=\"dataframe\">\n",
       "  <thead>\n",
       "    <tr style=\"text-align: right;\">\n",
       "      <th></th>\n",
       "      <th>calls_duration</th>\n",
       "      <th>mb_used</th>\n",
       "      <th>profit</th>\n",
       "      <th>sms_total_in_month</th>\n",
       "    </tr>\n",
       "    <tr>\n",
       "      <th>month</th>\n",
       "      <th></th>\n",
       "      <th></th>\n",
       "      <th></th>\n",
       "      <th></th>\n",
       "    </tr>\n",
       "  </thead>\n",
       "  <tbody>\n",
       "    <tr>\n",
       "      <th>1</th>\n",
       "      <td>382.0</td>\n",
       "      <td>14808.0</td>\n",
       "      <td>1950</td>\n",
       "      <td>32.0</td>\n",
       "    </tr>\n",
       "    <tr>\n",
       "      <th>2</th>\n",
       "      <td>168.0</td>\n",
       "      <td>7335.5</td>\n",
       "      <td>1950</td>\n",
       "      <td>5.5</td>\n",
       "    </tr>\n",
       "    <tr>\n",
       "      <th>3</th>\n",
       "      <td>403.0</td>\n",
       "      <td>17513.0</td>\n",
       "      <td>1950</td>\n",
       "      <td>20.0</td>\n",
       "    </tr>\n",
       "    <tr>\n",
       "      <th>4</th>\n",
       "      <td>453.0</td>\n",
       "      <td>16662.0</td>\n",
       "      <td>1950</td>\n",
       "      <td>17.0</td>\n",
       "    </tr>\n",
       "    <tr>\n",
       "      <th>5</th>\n",
       "      <td>519.0</td>\n",
       "      <td>18717.0</td>\n",
       "      <td>1950</td>\n",
       "      <td>25.0</td>\n",
       "    </tr>\n",
       "    <tr>\n",
       "      <th>6</th>\n",
       "      <td>479.0</td>\n",
       "      <td>19495.5</td>\n",
       "      <td>1950</td>\n",
       "      <td>27.5</td>\n",
       "    </tr>\n",
       "    <tr>\n",
       "      <th>7</th>\n",
       "      <td>542.0</td>\n",
       "      <td>20034.0</td>\n",
       "      <td>1950</td>\n",
       "      <td>38.0</td>\n",
       "    </tr>\n",
       "    <tr>\n",
       "      <th>8</th>\n",
       "      <td>500.0</td>\n",
       "      <td>18945.0</td>\n",
       "      <td>1950</td>\n",
       "      <td>40.0</td>\n",
       "    </tr>\n",
       "    <tr>\n",
       "      <th>9</th>\n",
       "      <td>520.0</td>\n",
       "      <td>19675.0</td>\n",
       "      <td>1950</td>\n",
       "      <td>43.0</td>\n",
       "    </tr>\n",
       "    <tr>\n",
       "      <th>10</th>\n",
       "      <td>533.0</td>\n",
       "      <td>20359.0</td>\n",
       "      <td>1950</td>\n",
       "      <td>49.0</td>\n",
       "    </tr>\n",
       "    <tr>\n",
       "      <th>11</th>\n",
       "      <td>546.0</td>\n",
       "      <td>18398.0</td>\n",
       "      <td>1950</td>\n",
       "      <td>43.0</td>\n",
       "    </tr>\n",
       "    <tr>\n",
       "      <th>12</th>\n",
       "      <td>584.0</td>\n",
       "      <td>21994.0</td>\n",
       "      <td>1950</td>\n",
       "      <td>51.0</td>\n",
       "    </tr>\n",
       "  </tbody>\n",
       "</table>\n",
       "</div>"
      ],
      "text/plain": [
       "       calls_duration  mb_used  profit  sms_total_in_month\n",
       "month                                                     \n",
       "1               382.0  14808.0    1950                32.0\n",
       "2               168.0   7335.5    1950                 5.5\n",
       "3               403.0  17513.0    1950                20.0\n",
       "4               453.0  16662.0    1950                17.0\n",
       "5               519.0  18717.0    1950                25.0\n",
       "6               479.0  19495.5    1950                27.5\n",
       "7               542.0  20034.0    1950                38.0\n",
       "8               500.0  18945.0    1950                40.0\n",
       "9               520.0  19675.0    1950                43.0\n",
       "10              533.0  20359.0    1950                49.0\n",
       "11              546.0  18398.0    1950                43.0\n",
       "12              584.0  21994.0    1950                51.0"
      ]
     },
     "execution_count": 44,
     "metadata": {},
     "output_type": "execute_result"
    }
   ],
   "source": [
    "ultra_tariff_median = ultra_tariff.pivot_table(index=['month'], values=['calls_duration','sms_total_in_month', 'mb_used', 'profit'],\n",
    "                                                    aggfunc='median')\n",
    "ultra_tariff_pd = pd.DataFrame(ultra_tariff_median.to_records())\n",
    "ultra_tariff_pd.set_index(['month'], inplace = True)\n",
    "ultra_tariff_pd.describe().round()\n",
    "ultra_tariff_pd"
   ]
  },
  {
   "cell_type": "code",
   "execution_count": 45,
   "metadata": {},
   "outputs": [
    {
     "data": {
      "text/plain": [
       "[512.0, 19449.0, 36.0]"
      ]
     },
     "execution_count": 45,
     "metadata": {},
     "output_type": "execute_result"
    }
   ],
   "source": [
    "# считаем сколько в среднем в месяц нужно смс, количество минут, интернета пользователю по тарифу ultra\n",
    "mean_in_month_calls_ultra = (ultra_tariff_pd['calls_duration'].sum() / 11).round()\n",
    "mean_in_month_mb_ultra = (ultra_tariff_pd['mb_used'].sum() / 11).round()\n",
    "mean_in_month_sms_ultra = (ultra_tariff_pd['sms_total_in_month'].sum() / 11).round()\n",
    "mean_in_month_ultra = [mean_in_month_calls_ultra, mean_in_month_mb_ultra, mean_in_month_sms_ultra]\n",
    "mean_in_month_ultra"
   ]
  },
  {
   "cell_type": "code",
   "execution_count": 46,
   "metadata": {},
   "outputs": [
    {
     "data": {
      "text/html": [
       "<div>\n",
       "<style scoped>\n",
       "    .dataframe tbody tr th:only-of-type {\n",
       "        vertical-align: middle;\n",
       "    }\n",
       "\n",
       "    .dataframe tbody tr th {\n",
       "        vertical-align: top;\n",
       "    }\n",
       "\n",
       "    .dataframe thead th {\n",
       "        text-align: right;\n",
       "    }\n",
       "</style>\n",
       "<table border=\"1\" class=\"dataframe\">\n",
       "  <thead>\n",
       "    <tr style=\"text-align: right;\">\n",
       "      <th></th>\n",
       "      <th>mean_in_month_calls</th>\n",
       "      <th>mean_in_month_mb</th>\n",
       "      <th>mean_in_month_sms</th>\n",
       "    </tr>\n",
       "  </thead>\n",
       "  <tbody>\n",
       "    <tr>\n",
       "      <th>0</th>\n",
       "      <td>512.0</td>\n",
       "      <td>19449.0</td>\n",
       "      <td>36.0</td>\n",
       "    </tr>\n",
       "  </tbody>\n",
       "</table>\n",
       "</div>"
      ],
      "text/plain": [
       "   mean_in_month_calls  mean_in_month_mb  mean_in_month_sms\n",
       "0                512.0           19449.0               36.0"
      ]
     },
     "execution_count": 46,
     "metadata": {},
     "output_type": "execute_result"
    }
   ],
   "source": [
    "# преобразовал в DataFrame, чтобы красивее выглядело\n",
    "mean_in_month_ultra = pd.DataFrame([mean_in_month_ultra])\n",
    "mean_in_month_ultra.columns = ['mean_in_month_calls', 'mean_in_month_mb','mean_in_month_sms']\n",
    "mean_in_month_ultra"
   ]
  },
  {
   "cell_type": "code",
   "execution_count": 47,
   "metadata": {},
   "outputs": [
    {
     "name": "stdout",
     "output_type": "stream",
     "text": [
      "mean calls_duration: 527\n",
      "median calls_duration: 518\n",
      "Дисперсия calls_duration: 100771\n",
      "Среднее отклонение calls_duration: 317 \n",
      "\n",
      "mean sms_total_in_month: 49\n",
      "median sms_total_in_month: 38\n",
      "Дисперсия sms_total_in_month: 2283\n",
      "Среднее отклонение sms_total_in_month: 48 \n",
      "\n",
      "mean mb_used: 19487\n",
      "median mb_used: 19324\n",
      "Дисперсия mb_used: 101832133\n",
      "Среднее отклонение mb_used: 10091 \n",
      "\n",
      "mean profit: 2071\n",
      "median profit: 1950\n",
      "Дисперсия profit: 143346\n",
      "Среднее отклонение profit: 379 \n",
      "\n"
     ]
    }
   ],
   "source": [
    "for column in ultra_tariff[['calls_duration','sms_total_in_month', 'mb_used', 'profit']]:\n",
    "\n",
    "    print('mean {}: {:.0f}'.format(column,ultra_tariff[column].mean()))\n",
    "    print('median {}: {:.0f}'.format(column,ultra_tariff[column].median()))\n",
    "    print('Дисперсия {}: {:.0f}'.format(column,np.var(ultra_tariff[column]), ddoff = 1))\n",
    "    print('Среднее отклонение {}: {:.0f} \\n'.format(column, np.std(ultra_tariff[column]), ddoff = 1))\n",
    "\n",
    "\n",
    "\n",
    "\n",
    "\n",
    "\n",
    "## Рассчитываю дисперсию по тарифу ultra\n",
    "#row_ultra = ultra_tariff_pd.describe().round().iloc[2]\n",
    "#row_ultra_pd_σ = pd.DataFrame([row_ultra])\n",
    "#row_ultra_pd_σ**2"
   ]
  },
  {
   "cell_type": "code",
   "execution_count": 48,
   "metadata": {},
   "outputs": [
    {
     "data": {
      "text/html": [
       "<div>\n",
       "<style scoped>\n",
       "    .dataframe tbody tr th:only-of-type {\n",
       "        vertical-align: middle;\n",
       "    }\n",
       "\n",
       "    .dataframe tbody tr th {\n",
       "        vertical-align: top;\n",
       "    }\n",
       "\n",
       "    .dataframe thead th {\n",
       "        text-align: right;\n",
       "    }\n",
       "</style>\n",
       "<table border=\"1\" class=\"dataframe\">\n",
       "  <thead>\n",
       "    <tr style=\"text-align: right;\">\n",
       "      <th></th>\n",
       "      <th>calls_duration</th>\n",
       "      <th>mb_used</th>\n",
       "      <th>profit</th>\n",
       "      <th>sms_total_in_month</th>\n",
       "    </tr>\n",
       "  </thead>\n",
       "  <tbody>\n",
       "    <tr>\n",
       "      <th>count</th>\n",
       "      <td>12.0</td>\n",
       "      <td>12.0</td>\n",
       "      <td>12.0</td>\n",
       "      <td>12.0</td>\n",
       "    </tr>\n",
       "    <tr>\n",
       "      <th>mean</th>\n",
       "      <td>469.0</td>\n",
       "      <td>17828.0</td>\n",
       "      <td>1950.0</td>\n",
       "      <td>33.0</td>\n",
       "    </tr>\n",
       "    <tr>\n",
       "      <th>std</th>\n",
       "      <td>112.0</td>\n",
       "      <td>3788.0</td>\n",
       "      <td>0.0</td>\n",
       "      <td>14.0</td>\n",
       "    </tr>\n",
       "    <tr>\n",
       "      <th>min</th>\n",
       "      <td>168.0</td>\n",
       "      <td>7336.0</td>\n",
       "      <td>1950.0</td>\n",
       "      <td>6.0</td>\n",
       "    </tr>\n",
       "    <tr>\n",
       "      <th>25%</th>\n",
       "      <td>440.0</td>\n",
       "      <td>17300.0</td>\n",
       "      <td>1950.0</td>\n",
       "      <td>24.0</td>\n",
       "    </tr>\n",
       "    <tr>\n",
       "      <th>50%</th>\n",
       "      <td>510.0</td>\n",
       "      <td>18831.0</td>\n",
       "      <td>1950.0</td>\n",
       "      <td>35.0</td>\n",
       "    </tr>\n",
       "    <tr>\n",
       "      <th>75%</th>\n",
       "      <td>535.0</td>\n",
       "      <td>19765.0</td>\n",
       "      <td>1950.0</td>\n",
       "      <td>43.0</td>\n",
       "    </tr>\n",
       "    <tr>\n",
       "      <th>max</th>\n",
       "      <td>584.0</td>\n",
       "      <td>21994.0</td>\n",
       "      <td>1950.0</td>\n",
       "      <td>51.0</td>\n",
       "    </tr>\n",
       "  </tbody>\n",
       "</table>\n",
       "</div>"
      ],
      "text/plain": [
       "       calls_duration  mb_used  profit  sms_total_in_month\n",
       "count            12.0     12.0    12.0                12.0\n",
       "mean            469.0  17828.0  1950.0                33.0\n",
       "std             112.0   3788.0     0.0                14.0\n",
       "min             168.0   7336.0  1950.0                 6.0\n",
       "25%             440.0  17300.0  1950.0                24.0\n",
       "50%             510.0  18831.0  1950.0                35.0\n",
       "75%             535.0  19765.0  1950.0                43.0\n",
       "max             584.0  21994.0  1950.0                51.0"
      ]
     },
     "execution_count": 48,
     "metadata": {},
     "output_type": "execute_result"
    }
   ],
   "source": [
    "ultra_tariff_pd.describe().round()"
   ]
  },
  {
   "cell_type": "code",
   "execution_count": 49,
   "metadata": {},
   "outputs": [],
   "source": [
    "## Стандартное отклонение по тарифу ultra\n",
    "#row_ultra_pd_std = pd.DataFrame([row_ultra])\n",
    "#row_ultra_pd_std"
   ]
  },
  {
   "cell_type": "code",
   "execution_count": 50,
   "metadata": {},
   "outputs": [],
   "source": [
    "# Стандартное отклонение по тарифу smart\n",
    "#row_smart_pd_std"
   ]
  },
  {
   "cell_type": "code",
   "execution_count": 51,
   "metadata": {},
   "outputs": [
    {
     "data": {
      "text/html": [
       "<div>\n",
       "<style scoped>\n",
       "    .dataframe tbody tr th:only-of-type {\n",
       "        vertical-align: middle;\n",
       "    }\n",
       "\n",
       "    .dataframe tbody tr th {\n",
       "        vertical-align: top;\n",
       "    }\n",
       "\n",
       "    .dataframe thead th {\n",
       "        text-align: right;\n",
       "    }\n",
       "</style>\n",
       "<table border=\"1\" class=\"dataframe\">\n",
       "  <thead>\n",
       "    <tr style=\"text-align: right;\">\n",
       "      <th></th>\n",
       "      <th>mean_in_month_calls</th>\n",
       "      <th>mean_in_month_mb</th>\n",
       "      <th>mean_in_month_sms</th>\n",
       "    </tr>\n",
       "  </thead>\n",
       "  <tbody>\n",
       "    <tr>\n",
       "      <th>0</th>\n",
       "      <td>387.0</td>\n",
       "      <td>15232.625</td>\n",
       "      <td>26.0</td>\n",
       "    </tr>\n",
       "  </tbody>\n",
       "</table>\n",
       "</div>"
      ],
      "text/plain": [
       "   mean_in_month_calls  mean_in_month_mb  mean_in_month_sms\n",
       "0                387.0         15232.625               26.0"
      ]
     },
     "execution_count": 51,
     "metadata": {},
     "output_type": "execute_result"
    }
   ],
   "source": [
    "# среднее по месяцам по тарифу смарт\n",
    "mean_in_month_smart"
   ]
  },
  {
   "cell_type": "code",
   "execution_count": 52,
   "metadata": {},
   "outputs": [
    {
     "data": {
      "text/html": [
       "<div>\n",
       "<style scoped>\n",
       "    .dataframe tbody tr th:only-of-type {\n",
       "        vertical-align: middle;\n",
       "    }\n",
       "\n",
       "    .dataframe tbody tr th {\n",
       "        vertical-align: top;\n",
       "    }\n",
       "\n",
       "    .dataframe thead th {\n",
       "        text-align: right;\n",
       "    }\n",
       "</style>\n",
       "<table border=\"1\" class=\"dataframe\">\n",
       "  <thead>\n",
       "    <tr style=\"text-align: right;\">\n",
       "      <th></th>\n",
       "      <th>mean_in_month_calls</th>\n",
       "      <th>mean_in_month_mb</th>\n",
       "      <th>mean_in_month_sms</th>\n",
       "    </tr>\n",
       "  </thead>\n",
       "  <tbody>\n",
       "    <tr>\n",
       "      <th>0</th>\n",
       "      <td>512.0</td>\n",
       "      <td>19449.0</td>\n",
       "      <td>36.0</td>\n",
       "    </tr>\n",
       "  </tbody>\n",
       "</table>\n",
       "</div>"
      ],
      "text/plain": [
       "   mean_in_month_calls  mean_in_month_mb  mean_in_month_sms\n",
       "0                512.0           19449.0               36.0"
      ]
     },
     "execution_count": 52,
     "metadata": {},
     "output_type": "execute_result"
    }
   ],
   "source": [
    "# среднее по месяцам по тарифу ultra\n",
    "mean_in_month_ultra"
   ]
  },
  {
   "cell_type": "markdown",
   "metadata": {},
   "source": [
    "<a name=\"stage_1\"></a>\n",
    " ##### [Выручка на клиента и средняя по тарифам](#stage_1)\n",
    " \n",
    " [обратно к комментарию Андрея](#contents)"
   ]
  },
  {
   "cell_type": "code",
   "execution_count": 53,
   "metadata": {},
   "outputs": [
    {
     "data": {
      "text/html": [
       "<div>\n",
       "<style scoped>\n",
       "    .dataframe tbody tr th:only-of-type {\n",
       "        vertical-align: middle;\n",
       "    }\n",
       "\n",
       "    .dataframe tbody tr th {\n",
       "        vertical-align: top;\n",
       "    }\n",
       "\n",
       "    .dataframe thead tr th {\n",
       "        text-align: left;\n",
       "    }\n",
       "\n",
       "    .dataframe thead tr:last-of-type th {\n",
       "        text-align: right;\n",
       "    }\n",
       "</style>\n",
       "<table border=\"1\" class=\"dataframe\">\n",
       "  <thead>\n",
       "    <tr>\n",
       "      <th></th>\n",
       "      <th>mean</th>\n",
       "    </tr>\n",
       "    <tr>\n",
       "      <th></th>\n",
       "      <th>profit</th>\n",
       "    </tr>\n",
       "    <tr>\n",
       "      <th>tariff</th>\n",
       "      <th></th>\n",
       "    </tr>\n",
       "  </thead>\n",
       "  <tbody>\n",
       "    <tr>\n",
       "      <th>smart</th>\n",
       "      <td>1294.63930</td>\n",
       "    </tr>\n",
       "    <tr>\n",
       "      <th>ultra</th>\n",
       "      <td>2071.06599</td>\n",
       "    </tr>\n",
       "  </tbody>\n",
       "</table>\n",
       "</div>"
      ],
      "text/plain": [
       "              mean\n",
       "            profit\n",
       "tariff            \n",
       "smart   1294.63930\n",
       "ultra   2071.06599"
      ]
     },
     "metadata": {},
     "output_type": "display_data"
    }
   ],
   "source": [
    "# средняя выручка по тарифам:\n",
    "profit_pivot = Data_analysis.pivot_table(index = 'tariff', values = 'profit', aggfunc = ['mean'])\n",
    "display(profit_pivot)"
   ]
  },
  {
   "cell_type": "code",
   "execution_count": 54,
   "metadata": {},
   "outputs": [
    {
     "data": {
      "text/html": [
       "<div>\n",
       "<style scoped>\n",
       "    .dataframe tbody tr th:only-of-type {\n",
       "        vertical-align: middle;\n",
       "    }\n",
       "\n",
       "    .dataframe tbody tr th {\n",
       "        vertical-align: top;\n",
       "    }\n",
       "\n",
       "    .dataframe thead tr th {\n",
       "        text-align: left;\n",
       "    }\n",
       "\n",
       "    .dataframe thead tr:last-of-type th {\n",
       "        text-align: right;\n",
       "    }\n",
       "</style>\n",
       "<table border=\"1\" class=\"dataframe\">\n",
       "  <thead>\n",
       "    <tr>\n",
       "      <th></th>\n",
       "      <th>sum</th>\n",
       "    </tr>\n",
       "    <tr>\n",
       "      <th></th>\n",
       "      <th>profit</th>\n",
       "    </tr>\n",
       "    <tr>\n",
       "      <th>user_id</th>\n",
       "      <th></th>\n",
       "    </tr>\n",
       "  </thead>\n",
       "  <tbody>\n",
       "    <tr>\n",
       "      <th>1000</th>\n",
       "      <td>15600</td>\n",
       "    </tr>\n",
       "    <tr>\n",
       "      <th>1001</th>\n",
       "      <td>1900</td>\n",
       "    </tr>\n",
       "    <tr>\n",
       "      <th>1002</th>\n",
       "      <td>7250</td>\n",
       "    </tr>\n",
       "    <tr>\n",
       "      <th>1003</th>\n",
       "      <td>9750</td>\n",
       "    </tr>\n",
       "    <tr>\n",
       "      <th>1004</th>\n",
       "      <td>15600</td>\n",
       "    </tr>\n",
       "    <tr>\n",
       "      <th>...</th>\n",
       "      <td>...</td>\n",
       "    </tr>\n",
       "    <tr>\n",
       "      <th>1495</th>\n",
       "      <td>11550</td>\n",
       "    </tr>\n",
       "    <tr>\n",
       "      <th>1496</th>\n",
       "      <td>28551</td>\n",
       "    </tr>\n",
       "    <tr>\n",
       "      <th>1497</th>\n",
       "      <td>2785</td>\n",
       "    </tr>\n",
       "    <tr>\n",
       "      <th>1498</th>\n",
       "      <td>6636</td>\n",
       "    </tr>\n",
       "    <tr>\n",
       "      <th>1499</th>\n",
       "      <td>3811</td>\n",
       "    </tr>\n",
       "  </tbody>\n",
       "</table>\n",
       "<p>498 rows × 1 columns</p>\n",
       "</div>"
      ],
      "text/plain": [
       "           sum\n",
       "        profit\n",
       "user_id       \n",
       "1000     15600\n",
       "1001      1900\n",
       "1002      7250\n",
       "1003      9750\n",
       "1004     15600\n",
       "...        ...\n",
       "1495     11550\n",
       "1496     28551\n",
       "1497      2785\n",
       "1498      6636\n",
       "1499      3811\n",
       "\n",
       "[498 rows x 1 columns]"
      ]
     },
     "execution_count": 54,
     "metadata": {},
     "output_type": "execute_result"
    }
   ],
   "source": [
    "# выручка на одного уникального клиента\n",
    "pivot_profit_user_id=Data_analysis.pivot_table(index=('user_id'), values = 'profit', aggfunc = ['sum'])\n",
    "pivot_profit_user_id"
   ]
  },
  {
   "cell_type": "code",
   "execution_count": 55,
   "metadata": {},
   "outputs": [
    {
     "data": {
      "text/html": [
       "<div>\n",
       "<style scoped>\n",
       "    .dataframe tbody tr th:only-of-type {\n",
       "        vertical-align: middle;\n",
       "    }\n",
       "\n",
       "    .dataframe tbody tr th {\n",
       "        vertical-align: top;\n",
       "    }\n",
       "\n",
       "    .dataframe thead th {\n",
       "        text-align: right;\n",
       "    }\n",
       "</style>\n",
       "<table border=\"1\" class=\"dataframe\">\n",
       "  <thead>\n",
       "    <tr style=\"text-align: right;\">\n",
       "      <th></th>\n",
       "      <th>sum_revenue</th>\n",
       "      <th>unique_users</th>\n",
       "      <th>revenue_per_user</th>\n",
       "    </tr>\n",
       "    <tr>\n",
       "      <th>tariff</th>\n",
       "      <th></th>\n",
       "      <th></th>\n",
       "      <th></th>\n",
       "    </tr>\n",
       "  </thead>\n",
       "  <tbody>\n",
       "    <tr>\n",
       "      <th>smart</th>\n",
       "      <td>2885751</td>\n",
       "      <td>350</td>\n",
       "      <td>8245</td>\n",
       "    </tr>\n",
       "    <tr>\n",
       "      <th>ultra</th>\n",
       "      <td>2040000</td>\n",
       "      <td>148</td>\n",
       "      <td>13783</td>\n",
       "    </tr>\n",
       "  </tbody>\n",
       "</table>\n",
       "</div>"
      ],
      "text/plain": [
       "        sum_revenue  unique_users  revenue_per_user\n",
       "tariff                                             \n",
       "smart       2885751           350              8245\n",
       "ultra       2040000           148             13783"
      ]
     },
     "metadata": {},
     "output_type": "display_data"
    }
   ],
   "source": [
    "# КОД РЕВЬЮВЕРА\n",
    "\n",
    "pivot_revenue = Data_analysis.pivot_table(index = 'tariff', values = ['profit', 'user_id'], aggfunc = {'profit': np.sum, 'user_id': lambda x: x.nunique()})\n",
    "pivot_revenue.columns = ['sum_revenue', 'unique_users']\n",
    "pivot_revenue['revenue_per_user'] = pivot_revenue['sum_revenue'] // pivot_revenue['unique_users']\n",
    "display(pivot_revenue)"
   ]
  },
  {
   "cell_type": "code",
   "execution_count": 56,
   "metadata": {},
   "outputs": [
    {
     "data": {
      "text/html": [
       "<div>\n",
       "<style scoped>\n",
       "    .dataframe tbody tr th:only-of-type {\n",
       "        vertical-align: middle;\n",
       "    }\n",
       "\n",
       "    .dataframe tbody tr th {\n",
       "        vertical-align: top;\n",
       "    }\n",
       "\n",
       "    .dataframe thead tr th {\n",
       "        text-align: left;\n",
       "    }\n",
       "\n",
       "    .dataframe thead tr:last-of-type th {\n",
       "        text-align: right;\n",
       "    }\n",
       "</style>\n",
       "<table border=\"1\" class=\"dataframe\">\n",
       "  <thead>\n",
       "    <tr>\n",
       "      <th></th>\n",
       "      <th>mean</th>\n",
       "      <th>median</th>\n",
       "      <th>var</th>\n",
       "      <th>std</th>\n",
       "    </tr>\n",
       "    <tr>\n",
       "      <th></th>\n",
       "      <th>calls_duration</th>\n",
       "      <th>calls_duration</th>\n",
       "      <th>calls_duration</th>\n",
       "      <th>calls_duration</th>\n",
       "    </tr>\n",
       "    <tr>\n",
       "      <th>tariff</th>\n",
       "      <th></th>\n",
       "      <th></th>\n",
       "      <th></th>\n",
       "      <th></th>\n",
       "    </tr>\n",
       "  </thead>\n",
       "  <tbody>\n",
       "    <tr>\n",
       "      <th>smart</th>\n",
       "      <td>417.934948</td>\n",
       "      <td>422.0</td>\n",
       "      <td>36219.315784</td>\n",
       "      <td>190.313730</td>\n",
       "    </tr>\n",
       "    <tr>\n",
       "      <th>ultra</th>\n",
       "      <td>526.623350</td>\n",
       "      <td>518.0</td>\n",
       "      <td>100873.633397</td>\n",
       "      <td>317.606098</td>\n",
       "    </tr>\n",
       "  </tbody>\n",
       "</table>\n",
       "</div>"
      ],
      "text/plain": [
       "                 mean         median            var            std\n",
       "       calls_duration calls_duration calls_duration calls_duration\n",
       "tariff                                                            \n",
       "smart      417.934948          422.0   36219.315784     190.313730\n",
       "ultra      526.623350          518.0  100873.633397     317.606098"
      ]
     },
     "metadata": {},
     "output_type": "display_data"
    }
   ],
   "source": [
    "# КОД РЕВЬЮВЕРА\n",
    "\n",
    "# по сути я бы вообще свел к чему то такому\n",
    "\n",
    "calls_pivot = Data_analysis.pivot_table(index = 'tariff', values = 'calls_duration', aggfunc = ['mean', 'median', 'var', 'std'])\n",
    "display(calls_pivot)"
   ]
  },
  {
   "cell_type": "markdown",
   "metadata": {},
   "source": [
    "### Вывод:  \n",
    "* Стандартное отклонение по прибыли между пользователями с тарифами smart и ultra отличается чуть больше чем в два раза, что нормально, потому что пользователей с тарифом смарт в два раза больше, следовательно и отклонение меньше.\n",
    "* Пользователям обоих тарифом в среднем достаточно количество минут по тарифу смарт - 500, хотя в ultra входит гораздо больше - 3000.\n",
    "*  Пользователи тарифа ультра не писали смс в 4 месяце - апреле по случайному стечению обстоятельств), нам важно это отметить, потому что среднюю в гистрограмме мы будем строить по всем пользователям, а значит среднее количество смс пользователей по тарифу ultra должно увеличиться. Но в любом случае сообщений очень мало, что логично, благодаря мессенджерам. Сейчас мы видим, что в среднем за месяц пользователи обоих тарифов укладываются в включенные сообщения по тарифу смарт - 50, хотя в тариф ultra включено - 1000.\n",
    "*  Пользователи обоих тарифов используют больше интернета, чем у них включено. Надо передать в отдел, отвечающий за ценовую политику тарифом с целью перерасмотреть и увеличить количество включенных гигабайт, потому что пользователю некофмортно платить сверхурочные по тарифу, наша цель проработать с клиентом как можно дольше."
   ]
  },
  {
   "cell_type": "markdown",
   "metadata": {},
   "source": [
    "### Гистрограммы буду строить по всем пользователям"
   ]
  },
  {
   "cell_type": "code",
   "execution_count": 57,
   "metadata": {},
   "outputs": [],
   "source": [
    "#Напишем функцию для построения гистограмм\n",
    "def histogram_drawing(column, title):\n",
    "    sns.set_style('darkgrid',\n",
    "              {'axes.facecolor': '0.9',\n",
    "               'grid.color': '0.5',\n",
    "               'figure.facecolor': '0.99'})\n",
    "    plt.figure(figsize=(20,12))\n",
    "    plt.title(title, fontsize=30)\n",
    "    sns.distplot(smart_tariff[column], label='Тариф Smart', kde=False, color=\"y\")\n",
    "    sns.distplot(ultra_tariff[column], label='Тариф Ultra', kde=False)\n",
    "    plt.axvline(np.mean(smart_tariff[column]),color='green', linestyle='dashed', label='Smart среднее')\n",
    "    plt.axvline(np.mean(ultra_tariff[column]),color= 'red', linestyle='-', label='Ultra среднее')\n",
    "    plt.legend()"
   ]
  },
  {
   "cell_type": "code",
   "execution_count": 58,
   "metadata": {},
   "outputs": [
    {
     "name": "stderr",
     "output_type": "stream",
     "text": [
      "C:\\Users\\list2\\anaconda3.0\\lib\\site-packages\\seaborn\\distributions.py:2551: FutureWarning: `distplot` is a deprecated function and will be removed in a future version. Please adapt your code to use either `displot` (a figure-level function with similar flexibility) or `histplot` (an axes-level function for histograms).\n",
      "  warnings.warn(msg, FutureWarning)\n"
     ]
    },
    {
     "data": {
      "image/png": "[encoded data removed]",
      "text/plain": [
       "<Figure size 1440x864 with 1 Axes>"
      ]
     },
     "metadata": {},
     "output_type": "display_data"
    }
   ],
   "source": [
    "#Построим гистограммы для mb_used тарифов ultra и smart\n",
    "histogram_drawing('mb_used', 'Распределение по мегабайтам у тарифов Ultra и Smart')"
   ]
  },
  {
   "cell_type": "code",
   "execution_count": 59,
   "metadata": {},
   "outputs": [
    {
     "data": {
      "image/png": "[encoded data removed]",
      "text/plain": [
       "<Figure size 1440x864 with 1 Axes>"
      ]
     },
     "metadata": {},
     "output_type": "display_data"
    }
   ],
   "source": [
    "#Построим гистограммы для minutes тарифов ultra и smart\n",
    "histogram_drawing('calls_duration','Распределение по минутам у тарифов Ultra и Smart')"
   ]
  },
  {
   "cell_type": "code",
   "execution_count": 60,
   "metadata": {},
   "outputs": [
    {
     "data": {
      "image/png": "[encoded data removed]",
      "text/plain": [
       "<Figure size 1440x864 with 1 Axes>"
      ]
     },
     "metadata": {},
     "output_type": "display_data"
    }
   ],
   "source": [
    "#Построим гистограммы для messages тарифов ultra и smart\n",
    "histogram_drawing('sms_total_in_month','Распределение по сообщениям у тарифов Ultra и Smart')"
   ]
  },
  {
   "cell_type": "code",
   "execution_count": 61,
   "metadata": {},
   "outputs": [
    {
     "data": {
      "text/html": [
       "<div>\n",
       "<style scoped>\n",
       "    .dataframe tbody tr th:only-of-type {\n",
       "        vertical-align: middle;\n",
       "    }\n",
       "\n",
       "    .dataframe tbody tr th {\n",
       "        vertical-align: top;\n",
       "    }\n",
       "\n",
       "    .dataframe thead th {\n",
       "        text-align: right;\n",
       "    }\n",
       "</style>\n",
       "<table border=\"1\" class=\"dataframe\">\n",
       "  <thead>\n",
       "    <tr style=\"text-align: right;\">\n",
       "      <th></th>\n",
       "      <th>messages_included</th>\n",
       "      <th>mb_per_month_included</th>\n",
       "      <th>minutes_included</th>\n",
       "      <th>rub_monthly_fee</th>\n",
       "      <th>rub_per_gb</th>\n",
       "      <th>rub_per_message</th>\n",
       "      <th>rub_per_minute</th>\n",
       "      <th>tariff</th>\n",
       "    </tr>\n",
       "  </thead>\n",
       "  <tbody>\n",
       "    <tr>\n",
       "      <th>0</th>\n",
       "      <td>50</td>\n",
       "      <td>15360</td>\n",
       "      <td>500</td>\n",
       "      <td>550</td>\n",
       "      <td>200</td>\n",
       "      <td>3</td>\n",
       "      <td>3</td>\n",
       "      <td>smart</td>\n",
       "    </tr>\n",
       "    <tr>\n",
       "      <th>1</th>\n",
       "      <td>1000</td>\n",
       "      <td>30720</td>\n",
       "      <td>3000</td>\n",
       "      <td>1950</td>\n",
       "      <td>150</td>\n",
       "      <td>1</td>\n",
       "      <td>1</td>\n",
       "      <td>ultra</td>\n",
       "    </tr>\n",
       "  </tbody>\n",
       "</table>\n",
       "</div>"
      ],
      "text/plain": [
       "   messages_included  mb_per_month_included  minutes_included  \\\n",
       "0                 50                  15360               500   \n",
       "1               1000                  30720              3000   \n",
       "\n",
       "   rub_monthly_fee  rub_per_gb  rub_per_message  rub_per_minute tariff  \n",
       "0              550         200                3               3  smart  \n",
       "1             1950         150                1               1  ultra  "
      ]
     },
     "execution_count": 61,
     "metadata": {},
     "output_type": "execute_result"
    }
   ],
   "source": [
    "#Data_analysis['profit']= Data_analysis[Data_analysis['tariff'] == 'smart']['profit'] + 550\n",
    "#\n",
    "##Data_analysis = pd.DataFrame([Data_analysis])\n",
    "#Data_analysis['profit'] = Data_analysis[Data_analysis['tariff'] == 'ultra']['profit'] + 1950\n",
    "#Data_analysis\n",
    "#Data_analysis.boxplot('profit', by='tariff', figsize=(10,10)).set_ylim(0,7000)\n",
    "\n",
    "#data_tariffs.rename(columns = {\"tariff_name\":\"tariff\"}, inplace = True)\n",
    "#data_tariffs = data_tariffs.rename(columns={'tariff_name': 'tariff'}) - важно\n",
    "data_tariffs\n",
    "#Data_analysis = Data_analysis.merge(data_tariffs, on='tariff', how='outer') - важно"
   ]
  },
  {
   "cell_type": "code",
   "execution_count": 62,
   "metadata": {},
   "outputs": [
    {
     "name": "stdout",
     "output_type": "stream",
     "text": [
      "<class 'pandas.core.frame.DataFrame'>\n",
      "Int64Index: 3214 entries, 0 to 3213\n",
      "Data columns (total 18 columns):\n",
      " #   Column                 Non-Null Count  Dtype         \n",
      "---  ------                 --------------  -----         \n",
      " 0   user_id                3214 non-null   int64         \n",
      " 1   month                  3214 non-null   int64         \n",
      " 2   churn_date             187 non-null    datetime64[ns]\n",
      " 3   city                   3214 non-null   object        \n",
      " 4   reg_date               3214 non-null   datetime64[ns]\n",
      " 5   tariff                 3214 non-null   object        \n",
      " 6   calls_duration         3214 non-null   float64       \n",
      " 7   calls_count            3214 non-null   float64       \n",
      " 8   sms_total_in_month     3214 non-null   float64       \n",
      " 9   mb_used                3214 non-null   float64       \n",
      " 10  messages_included      3214 non-null   int64         \n",
      " 11  mb_per_month_included  3214 non-null   int64         \n",
      " 12  minutes_included       3214 non-null   int64         \n",
      " 13  rub_monthly_fee        3214 non-null   int64         \n",
      " 14  rub_per_gb             3214 non-null   int64         \n",
      " 15  rub_per_message        3214 non-null   int64         \n",
      " 16  rub_per_minute         3214 non-null   int64         \n",
      " 17  profit                 3214 non-null   int32         \n",
      "dtypes: datetime64[ns](2), float64(4), int32(1), int64(9), object(2)\n",
      "memory usage: 464.5+ KB\n"
     ]
    }
   ],
   "source": [
    "Data_analysis.info()"
   ]
  },
  {
   "cell_type": "code",
   "execution_count": 63,
   "metadata": {},
   "outputs": [
    {
     "data": {
      "text/plain": [
       "(0.0, 7000.0)"
      ]
     },
     "execution_count": 63,
     "metadata": {},
     "output_type": "execute_result"
    },
    {
     "data": {
      "image/png": "[encoded data removed]",
      "text/plain": [
       "<Figure size 720x720 with 1 Axes>"
      ]
     },
     "metadata": {},
     "output_type": "display_data"
    }
   ],
   "source": [
    "#Data_analysis['rub_monthly_fee']=Data_analysis['rub_monthly_fee'].astype('float')\n",
    "#Data_analysis['profit'] = Data_analysis['profit'] + Data_analysis['rub_monthly_fee'] \n",
    "Data_analysis.boxplot('profit', by='tariff', figsize=(10,10)).set_ylim(0,7000)"
   ]
  },
  {
   "cell_type": "raw",
   "metadata": {},
   "source": [
    "difference_profit = Data_analysis[Data_analysis['tariff'] == 'ultra']['profit'].median() / Data_analysis[Data_analysis['tariff'] == 'smart']['profit'].median()\n",
    "print(\"соотношение:{:.3f}\".format(difference_profit))"
   ]
  },
  {
   "cell_type": "code",
   "execution_count": 64,
   "metadata": {},
   "outputs": [
    {
     "name": "stdout",
     "output_type": "stream",
     "text": [
      "соотношение:46.769\n"
     ]
    }
   ],
   "source": [
    "# КОД РЕВЬЮВЕРА\n",
    "\n",
    "difference_profit = (Data_analysis[Data_analysis['tariff'] == 'ultra']['profit'].median() - Data_analysis[Data_analysis['tariff'] == 'smart']['profit'].median()) / Data_analysis[Data_analysis['tariff'] == 'ultra']['profit'].median() * 100 \n",
    "print(\"соотношение:{:.3f}\".format(difference_profit))"
   ]
  },
  {
   "cell_type": "markdown",
   "metadata": {},
   "source": [
    "### Вывод: по медианным значениям profit тарифa ультра на 258% прибыльнее тарифа smart"
   ]
  },
  {
   "cell_type": "markdown",
   "metadata": {},
   "source": [
    "<a name=\"stage_1\"></a>\n",
    "##### [Выручка на клиента и средняя по тарифам](#stage_1)\n",
    "#####  <a name=\"contents\">обратно к комментарию Андрея</a>"
   ]
  },
  {
   "cell_type": "markdown",
   "metadata": {},
   "source": [
    "# Проверка гипотез"
   ]
  },
  {
   "cell_type": "markdown",
   "metadata": {},
   "source": [
    "__первая гипотеза: средняя выручка пользователей тарифов «Ультра» и «Смарт» различается__  \n",
    "__вторая гипотеза:  __"
   ]
  },
  {
   "cell_type": "markdown",
   "metadata": {},
   "source": [
    "* нулевая гипотеза:  выручка пользователей по тарифам не отличается \n",
    "* альтернативная гипотеза: средняя выручка пользователей тарифов «Ультра» и «Смарт» различается"
   ]
  },
  {
   "cell_type": "code",
   "execution_count": 65,
   "metadata": {},
   "outputs": [
    {
     "name": "stdout",
     "output_type": "stream",
     "text": [
      "p-значение: 2.7240946993530846e-246\n",
      "Отвергаем нулевую гипотезу\n"
     ]
    }
   ],
   "source": [
    "smart_tariff_value = Data_analysis[Data_analysis['tariff'] == 'smart']['profit']\n",
    "ultra_tariff_value = Data_analysis[Data_analysis['tariff'] == 'ultra']['profit']\n",
    "#проверяем первую гипотезу\n",
    "\n",
    "alpha = .05\n",
    "\n",
    "results = st.ttest_ind(ultra_tariff_value, smart_tariff_value, equal_var=False)\n",
    "\n",
    "print('p-значение:', results.pvalue)\n",
    "\n",
    "\n",
    "if (results.pvalue < alpha):\n",
    "    print(\"Отвергаем нулевую гипотезу\")\n",
    "else:\n",
    "    print(\"Не получилось отвергнуть нулевую гипотезу\")"
   ]
  },
  {
   "cell_type": "markdown",
   "metadata": {},
   "source": [
    "### Вывод: Ранее мы получили, что выручка пользователей 'Ultra' и 'Smart' отличалась. В данном случае мы также отвергаем нулевую гипотезу"
   ]
  },
  {
   "cell_type": "code",
   "execution_count": 66,
   "metadata": {},
   "outputs": [],
   "source": [
    "data_users.sample(5)\n",
    "data_users['city'] = data_users['city'].str.lower()"
   ]
  },
  {
   "cell_type": "raw",
   "metadata": {},
   "source": [
    "Data_analysis\n",
    "Data_analysis = Data_analysis.merge(data_users['city'], on='user_id', how='outer')\n",
    "Data_analysis"
   ]
  },
  {
   "cell_type": "code",
   "execution_count": 67,
   "metadata": {},
   "outputs": [],
   "source": [
    "moscow = Data_analysis[Data_analysis['city'] == 'Москва']['profit']\n",
    "other_cities = Data_analysis[Data_analysis['city'] != 'Москва']['profit']"
   ]
  },
  {
   "cell_type": "code",
   "execution_count": 68,
   "metadata": {},
   "outputs": [
    {
     "data": {
      "text/plain": [
       "0"
      ]
     },
     "execution_count": 68,
     "metadata": {},
     "output_type": "execute_result"
    }
   ],
   "source": [
    "moscow = moscow.dropna()\n",
    "moscow.isnull().sum(axis=0)\n"
   ]
  },
  {
   "cell_type": "code",
   "execution_count": 69,
   "metadata": {},
   "outputs": [
    {
     "data": {
      "text/plain": [
       "0"
      ]
     },
     "execution_count": 69,
     "metadata": {},
     "output_type": "execute_result"
    }
   ],
   "source": [
    "other_cities = other_cities.dropna()\n",
    "other_cities.isnull().sum(axis=0)\n"
   ]
  },
  {
   "cell_type": "code",
   "execution_count": 70,
   "metadata": {},
   "outputs": [],
   "source": [
    "#Data_analysis[Data_analysis['city_y'] == 'москва']"
   ]
  },
  {
   "cell_type": "markdown",
   "metadata": {},
   "source": [
    "* нулевая гипотеза: средняя выручка пользователей из Москвы не отличается от выручки пользователей из других регионов\n",
    "* альтернаятивная гипотеза: средняя выручка пользователей из Москвы отличается от выручки пользователей из других регионов"
   ]
  },
  {
   "cell_type": "code",
   "execution_count": 71,
   "metadata": {},
   "outputs": [
    {
     "name": "stdout",
     "output_type": "stream",
     "text": [
      "p-значение: 0.5126564657748214\n",
      "Не получилось отвергнуть нулевую гипотезу\n"
     ]
    }
   ],
   "source": [
    "#проверяем вторую гипотезу\n",
    "\n",
    "alpha = .05\n",
    "\n",
    "results = st.ttest_ind(moscow, other_cities, equal_var=False, nan_policy = 'omit')\n",
    "\n",
    "print('p-значение:', results.pvalue)\n",
    "\n",
    "\n",
    "if (results.pvalue < alpha):\n",
    "    print(\"Отвергаем нулевую гипотезу\")\n",
    "else:\n",
    "    print(\"Не получилось отвергнуть нулевую гипотезу\")"
   ]
  },
  {
   "cell_type": "markdown",
   "metadata": {},
   "source": [
    "### Вывод: Исходя из нашего теста мы видим, что средняя выручка пользователей с Москвы не отличается от пользователей из других регионов. Проведя тест мы не смогли отвергнуть нулевую гипотезу"
   ]
  },
  {
   "cell_type": "markdown",
   "metadata": {},
   "source": [
    "## Общий вывод: \n",
    "1. Пользователям обоих тарифов в среднем не хватает интернета, включенного в тариф.\n",
    "2. В тариф ultra включено слишком много минут на разговоры и смс\n",
    "3. Проверив гипотезу выяснилось, что с 84% вероятностью выручка пользователей из Москвы не отличается от выручки пользователей из других регионов\n",
    "4. Несмотря на то что пользователи тарифа 'smart' чаще переплачивают по тарифу, чем пользователи тарифа 'ultra'.  В конечном итоге тариф 'ultra' выходит пользователю гораздо дороже\n",
    "5. В первую очередь надо оптимизировать тариф 'ultra', потому что тариф хуже покрывает потребности клиента, чем тариф 'smart'"
   ]
  }
 ],
 "metadata": {
  "ExecuteTimeLog": [
   {
    "duration": 1394,
    "start_time": "2021-06-12T10:56:16.845Z"
   },
   {
    "duration": 9,
    "start_time": "2021-06-12T10:56:18.242Z"
   },
   {
    "duration": 1860,
    "start_time": "2021-06-12T10:56:18.254Z"
   },
   {
    "duration": -910,
    "start_time": "2021-06-12T10:56:21.028Z"
   },
   {
    "duration": -915,
    "start_time": "2021-06-12T10:56:21.035Z"
   },
   {
    "duration": -917,
    "start_time": "2021-06-12T10:56:21.039Z"
   },
   {
    "duration": -918,
    "start_time": "2021-06-12T10:56:21.042Z"
   },
   {
    "duration": 202,
    "start_time": "2021-06-12T10:57:18.604Z"
   },
   {
    "duration": 163,
    "start_time": "2021-06-12T10:57:22.295Z"
   },
   {
    "duration": 147,
    "start_time": "2021-06-12T10:57:25.783Z"
   },
   {
    "duration": 26,
    "start_time": "2021-06-12T10:57:29.964Z"
   },
   {
    "duration": 43,
    "start_time": "2021-06-12T10:57:33.454Z"
   },
   {
    "duration": 81,
    "start_time": "2021-06-12T11:02:15.882Z"
   },
   {
    "duration": 4,
    "start_time": "2021-06-12T11:18:08.294Z"
   },
   {
    "duration": 8,
    "start_time": "2021-06-12T11:18:08.301Z"
   },
   {
    "duration": 234,
    "start_time": "2021-06-12T11:18:08.312Z"
   },
   {
    "duration": 183,
    "start_time": "2021-06-12T11:18:08.549Z"
   },
   {
    "duration": 122,
    "start_time": "2021-06-12T11:18:08.735Z"
   },
   {
    "duration": 25,
    "start_time": "2021-06-12T11:18:08.859Z"
   },
   {
    "duration": 53,
    "start_time": "2021-06-12T11:18:08.887Z"
   },
   {
    "duration": 27,
    "start_time": "2021-06-12T11:18:08.943Z"
   },
   {
    "duration": 181,
    "start_time": "2021-06-12T11:18:08.973Z"
   },
   {
    "duration": 33,
    "start_time": "2021-06-12T11:18:09.157Z"
   },
   {
    "duration": 124,
    "start_time": "2021-06-12T11:18:09.193Z"
   },
   {
    "duration": 8,
    "start_time": "2021-06-12T11:18:09.319Z"
   },
   {
    "duration": 10,
    "start_time": "2021-06-12T11:18:09.330Z"
   },
   {
    "duration": 10,
    "start_time": "2021-06-12T11:18:09.342Z"
   },
   {
    "duration": 45,
    "start_time": "2021-06-12T11:18:09.354Z"
   },
   {
    "duration": 103,
    "start_time": "2021-06-12T11:18:09.402Z"
   },
   {
    "duration": 11,
    "start_time": "2021-06-12T11:18:09.507Z"
   },
   {
    "duration": 19,
    "start_time": "2021-06-12T11:18:09.520Z"
   },
   {
    "duration": 4,
    "start_time": "2021-06-12T11:18:09.542Z"
   },
   {
    "duration": 35,
    "start_time": "2021-06-12T11:18:09.548Z"
   },
   {
    "duration": 62,
    "start_time": "2021-06-12T11:18:09.585Z"
   },
   {
    "duration": 9,
    "start_time": "2021-06-12T11:18:09.649Z"
   },
   {
    "duration": 19,
    "start_time": "2021-06-12T11:18:09.684Z"
   },
   {
    "duration": 3,
    "start_time": "2021-06-12T11:18:09.705Z"
   },
   {
    "duration": 8,
    "start_time": "2021-06-12T11:18:09.711Z"
   },
   {
    "duration": 218,
    "start_time": "2021-06-12T11:18:09.722Z"
   },
   {
    "duration": 11,
    "start_time": "2021-06-12T11:18:09.942Z"
   },
   {
    "duration": 28,
    "start_time": "2021-06-12T11:18:09.955Z"
   },
   {
    "duration": 8,
    "start_time": "2021-06-12T11:18:09.985Z"
   },
   {
    "duration": 22,
    "start_time": "2021-06-12T11:18:09.995Z"
   },
   {
    "duration": 13,
    "start_time": "2021-06-12T11:18:10.019Z"
   },
   {
    "duration": 8,
    "start_time": "2021-06-12T11:18:10.034Z"
   },
   {
    "duration": 66,
    "start_time": "2021-06-12T11:18:10.045Z"
   },
   {
    "duration": 8,
    "start_time": "2021-06-12T11:18:10.114Z"
   },
   {
    "duration": 15,
    "start_time": "2021-06-12T11:18:10.124Z"
   },
   {
    "duration": 70,
    "start_time": "2021-06-12T11:18:10.141Z"
   },
   {
    "duration": 13,
    "start_time": "2021-06-12T11:18:10.214Z"
   },
   {
    "duration": 60,
    "start_time": "2021-06-12T11:18:10.230Z"
   },
   {
    "duration": 47,
    "start_time": "2021-06-12T11:18:10.293Z"
   },
   {
    "duration": 8,
    "start_time": "2021-06-12T11:18:10.342Z"
   },
   {
    "duration": 36,
    "start_time": "2021-06-12T11:18:10.353Z"
   },
   {
    "duration": 33,
    "start_time": "2021-06-12T11:18:10.392Z"
   },
   {
    "duration": 64,
    "start_time": "2021-06-12T11:18:10.427Z"
   },
   {
    "duration": 11,
    "start_time": "2021-06-12T11:18:10.494Z"
   },
   {
    "duration": 12,
    "start_time": "2021-06-12T11:18:10.508Z"
   },
   {
    "duration": 11,
    "start_time": "2021-06-12T11:18:10.522Z"
   },
   {
    "duration": 11,
    "start_time": "2021-06-12T11:18:10.535Z"
   },
   {
    "duration": 6,
    "start_time": "2021-06-12T11:19:05.656Z"
   },
   {
    "duration": 48,
    "start_time": "2021-06-12T11:21:16.424Z"
   },
   {
    "duration": 282,
    "start_time": "2021-06-12T11:26:15.321Z"
   },
   {
    "duration": 5,
    "start_time": "2021-06-12T11:26:21.324Z"
   },
   {
    "duration": 6014,
    "start_time": "2021-06-12T11:27:26.419Z"
   },
   {
    "duration": 2029,
    "start_time": "2021-06-12T11:27:49.207Z"
   },
   {
    "duration": 4,
    "start_time": "2021-06-12T11:31:03.408Z"
   },
   {
    "duration": 10,
    "start_time": "2021-06-12T11:31:03.415Z"
   },
   {
    "duration": 214,
    "start_time": "2021-06-12T11:31:03.428Z"
   },
   {
    "duration": 173,
    "start_time": "2021-06-12T11:31:03.645Z"
   },
   {
    "duration": 111,
    "start_time": "2021-06-12T11:31:03.820Z"
   },
   {
    "duration": 26,
    "start_time": "2021-06-12T11:31:03.933Z"
   },
   {
    "duration": 48,
    "start_time": "2021-06-12T11:31:03.961Z"
   },
   {
    "duration": 27,
    "start_time": "2021-06-12T11:31:04.013Z"
   },
   {
    "duration": 165,
    "start_time": "2021-06-12T11:31:04.043Z"
   },
   {
    "duration": 22,
    "start_time": "2021-06-12T11:31:04.211Z"
   },
   {
    "duration": 136,
    "start_time": "2021-06-12T11:31:04.235Z"
   },
   {
    "duration": 14,
    "start_time": "2021-06-12T11:31:04.373Z"
   },
   {
    "duration": 18,
    "start_time": "2021-06-12T11:31:04.389Z"
   },
   {
    "duration": 13,
    "start_time": "2021-06-12T11:31:04.410Z"
   },
   {
    "duration": 30,
    "start_time": "2021-06-12T11:31:04.426Z"
   },
   {
    "duration": 106,
    "start_time": "2021-06-12T11:31:04.458Z"
   },
   {
    "duration": 19,
    "start_time": "2021-06-12T11:31:04.567Z"
   },
   {
    "duration": 20,
    "start_time": "2021-06-12T11:31:04.589Z"
   },
   {
    "duration": 6,
    "start_time": "2021-06-12T11:31:04.612Z"
   },
   {
    "duration": 7,
    "start_time": "2021-06-12T11:31:04.620Z"
   },
   {
    "duration": 91,
    "start_time": "2021-06-12T11:31:04.630Z"
   },
   {
    "duration": 9,
    "start_time": "2021-06-12T11:31:04.724Z"
   },
   {
    "duration": 17,
    "start_time": "2021-06-12T11:31:04.738Z"
   },
   {
    "duration": 26,
    "start_time": "2021-06-12T11:31:04.757Z"
   },
   {
    "duration": 9,
    "start_time": "2021-06-12T11:31:04.786Z"
   },
   {
    "duration": 212,
    "start_time": "2021-06-12T11:31:04.797Z"
   },
   {
    "duration": 11,
    "start_time": "2021-06-12T11:31:05.011Z"
   },
   {
    "duration": 8,
    "start_time": "2021-06-12T11:31:05.024Z"
   },
   {
    "duration": 14,
    "start_time": "2021-06-12T11:31:05.034Z"
   },
   {
    "duration": 3,
    "start_time": "2021-06-18T08:55:11.941Z"
   },
   {
    "duration": 1485,
    "start_time": "2021-06-18T08:55:11.951Z"
   },
   {
    "duration": 207,
    "start_time": "2021-06-18T08:55:13.439Z"
   },
   {
    "duration": 173,
    "start_time": "2021-06-18T08:55:13.649Z"
   },
   {
    "duration": 121,
    "start_time": "2021-06-18T08:55:13.825Z"
   },
   {
    "duration": 27,
    "start_time": "2021-06-18T08:55:13.949Z"
   },
   {
    "duration": 70,
    "start_time": "2021-06-18T08:55:13.980Z"
   },
   {
    "duration": 43,
    "start_time": "2021-06-18T08:55:14.053Z"
   },
   {
    "duration": 283,
    "start_time": "2021-06-18T08:55:14.099Z"
   },
   {
    "duration": 34,
    "start_time": "2021-06-18T08:55:14.388Z"
   },
   {
    "duration": 218,
    "start_time": "2021-06-18T08:55:14.426Z"
   },
   {
    "duration": 22,
    "start_time": "2021-06-18T08:55:14.647Z"
   },
   {
    "duration": 14,
    "start_time": "2021-06-18T08:55:14.672Z"
   },
   {
    "duration": 21,
    "start_time": "2021-06-18T08:55:14.689Z"
   },
   {
    "duration": 52,
    "start_time": "2021-06-18T08:55:14.713Z"
   },
   {
    "duration": 163,
    "start_time": "2021-06-18T08:55:14.768Z"
   },
   {
    "duration": 14,
    "start_time": "2021-06-18T08:55:14.934Z"
   },
   {
    "duration": 24,
    "start_time": "2021-06-18T08:55:14.963Z"
   },
   {
    "duration": 3,
    "start_time": "2021-06-18T08:55:14.991Z"
   },
   {
    "duration": 25,
    "start_time": "2021-06-18T08:55:14.997Z"
   },
   {
    "duration": 90,
    "start_time": "2021-06-18T08:55:15.025Z"
   },
   {
    "duration": 12,
    "start_time": "2021-06-18T08:55:15.118Z"
   },
   {
    "duration": 50,
    "start_time": "2021-06-18T08:55:15.133Z"
   },
   {
    "duration": 28,
    "start_time": "2021-06-18T08:55:15.186Z"
   },
   {
    "duration": 13,
    "start_time": "2021-06-18T08:55:15.216Z"
   },
   {
    "duration": 80,
    "start_time": "2021-06-18T08:55:15.231Z"
   },
   {
    "duration": 270,
    "start_time": "2021-06-18T08:55:15.313Z"
   },
   {
    "duration": 11,
    "start_time": "2021-06-18T08:55:15.589Z"
   },
   {
    "duration": 3,
    "start_time": "2021-06-18T08:55:15.604Z"
   },
   {
    "duration": 8,
    "start_time": "2021-06-18T08:55:15.609Z"
   },
   {
    "duration": 43,
    "start_time": "2021-06-18T08:55:15.620Z"
   },
   {
    "duration": 21,
    "start_time": "2021-06-18T08:55:15.666Z"
   },
   {
    "duration": 11,
    "start_time": "2021-06-18T08:55:15.690Z"
   },
   {
    "duration": 12,
    "start_time": "2021-06-18T08:55:15.703Z"
   },
   {
    "duration": 50,
    "start_time": "2021-06-18T08:55:15.717Z"
   },
   {
    "duration": 33,
    "start_time": "2021-06-18T08:55:15.770Z"
   },
   {
    "duration": 9,
    "start_time": "2021-06-18T08:55:15.806Z"
   },
   {
    "duration": 46,
    "start_time": "2021-06-18T08:55:15.817Z"
   },
   {
    "duration": 25,
    "start_time": "2021-06-18T08:55:15.865Z"
   },
   {
    "duration": 30,
    "start_time": "2021-06-18T08:55:15.893Z"
   },
   {
    "duration": 4,
    "start_time": "2021-06-18T08:55:15.926Z"
   },
   {
    "duration": 52,
    "start_time": "2021-06-18T08:55:15.933Z"
   },
   {
    "duration": 54,
    "start_time": "2021-06-18T08:55:15.988Z"
   },
   {
    "duration": 8,
    "start_time": "2021-06-18T08:55:16.062Z"
   },
   {
    "duration": 42,
    "start_time": "2021-06-18T08:55:16.072Z"
   },
   {
    "duration": 24,
    "start_time": "2021-06-18T08:55:16.117Z"
   },
   {
    "duration": 42,
    "start_time": "2021-06-18T08:55:16.143Z"
   },
   {
    "duration": 3,
    "start_time": "2021-06-18T08:55:16.188Z"
   },
   {
    "duration": 15,
    "start_time": "2021-06-18T08:55:16.194Z"
   },
   {
    "duration": 26,
    "start_time": "2021-06-18T08:55:16.211Z"
   },
   {
    "duration": 27,
    "start_time": "2021-06-18T08:55:16.240Z"
   },
   {
    "duration": 33,
    "start_time": "2021-06-18T08:55:16.269Z"
   },
   {
    "duration": 46,
    "start_time": "2021-06-18T08:55:16.306Z"
   },
   {
    "duration": 52,
    "start_time": "2021-06-18T08:55:16.355Z"
   },
   {
    "duration": 11670,
    "start_time": "2021-06-18T08:55:16.409Z"
   },
   {
    "duration": 6,
    "start_time": "2021-06-18T08:55:28.081Z"
   },
   {
    "duration": 1440,
    "start_time": "2021-06-18T08:55:28.090Z"
   },
   {
    "duration": 1432,
    "start_time": "2021-06-18T08:55:29.533Z"
   },
   {
    "duration": 1194,
    "start_time": "2021-06-18T08:55:30.968Z"
   },
   {
    "duration": 12,
    "start_time": "2021-06-18T08:55:32.164Z"
   },
   {
    "duration": 14,
    "start_time": "2021-06-18T08:55:32.178Z"
   },
   {
    "duration": 638,
    "start_time": "2021-06-18T08:55:32.195Z"
   },
   {
    "duration": 27,
    "start_time": "2021-06-18T08:55:32.837Z"
   },
   {
    "duration": 17,
    "start_time": "2021-06-18T08:55:32.867Z"
   },
   {
    "duration": 6,
    "start_time": "2021-06-18T08:55:32.887Z"
   },
   {
    "duration": 87,
    "start_time": "2021-06-18T08:55:32.895Z"
   },
   {
    "duration": 10,
    "start_time": "2021-06-18T08:55:32.985Z"
   },
   {
    "duration": 8,
    "start_time": "2021-06-18T08:55:32.998Z"
   },
   {
    "duration": 9,
    "start_time": "2021-06-18T08:55:33.009Z"
   },
   {
    "duration": 42,
    "start_time": "2021-06-18T08:55:33.020Z"
   },
   {
    "duration": 12,
    "start_time": "2021-06-18T08:55:33.065Z"
   },
   {
    "duration": 4,
    "start_time": "2021-06-18T08:59:07.889Z"
   },
   {
    "duration": 8,
    "start_time": "2021-06-18T08:59:07.895Z"
   },
   {
    "duration": 229,
    "start_time": "2021-06-18T08:59:07.907Z"
   },
   {
    "duration": 195,
    "start_time": "2021-06-18T08:59:08.139Z"
   },
   {
    "duration": 128,
    "start_time": "2021-06-18T08:59:08.336Z"
   },
   {
    "duration": 28,
    "start_time": "2021-06-18T08:59:08.467Z"
   },
   {
    "duration": 61,
    "start_time": "2021-06-18T08:59:08.499Z"
   },
   {
    "duration": 29,
    "start_time": "2021-06-18T08:59:08.563Z"
   },
   {
    "duration": 186,
    "start_time": "2021-06-18T08:59:08.595Z"
   },
   {
    "duration": 24,
    "start_time": "2021-06-18T08:59:08.783Z"
   },
   {
    "duration": 170,
    "start_time": "2021-06-18T08:59:08.809Z"
   },
   {
    "duration": 8,
    "start_time": "2021-06-18T08:59:08.981Z"
   },
   {
    "duration": 17,
    "start_time": "2021-06-18T08:59:08.992Z"
   },
   {
    "duration": 14,
    "start_time": "2021-06-18T08:59:09.012Z"
   },
   {
    "duration": 47,
    "start_time": "2021-06-18T08:59:09.028Z"
   },
   {
    "duration": 117,
    "start_time": "2021-06-18T08:59:09.078Z"
   },
   {
    "duration": 13,
    "start_time": "2021-06-18T08:59:09.198Z"
   },
   {
    "duration": 22,
    "start_time": "2021-06-18T08:59:09.213Z"
   },
   {
    "duration": 23,
    "start_time": "2021-06-18T08:59:09.240Z"
   },
   {
    "duration": 6,
    "start_time": "2021-06-18T08:59:09.266Z"
   },
   {
    "duration": 88,
    "start_time": "2021-06-18T08:59:09.275Z"
   },
   {
    "duration": 9,
    "start_time": "2021-06-18T08:59:09.366Z"
   },
   {
    "duration": 29,
    "start_time": "2021-06-18T08:59:09.378Z"
   },
   {
    "duration": 67,
    "start_time": "2021-06-18T08:59:09.410Z"
   },
   {
    "duration": 15,
    "start_time": "2021-06-18T08:59:09.480Z"
   },
   {
    "duration": 37,
    "start_time": "2021-06-18T08:59:31.830Z"
   },
   {
    "duration": 3,
    "start_time": "2021-06-18T09:07:09.739Z"
   },
   {
    "duration": 8,
    "start_time": "2021-06-18T09:07:09.744Z"
   },
   {
    "duration": 299,
    "start_time": "2021-06-18T09:07:09.756Z"
   },
   {
    "duration": 259,
    "start_time": "2021-06-18T09:07:10.059Z"
   },
   {
    "duration": 178,
    "start_time": "2021-06-18T09:07:10.321Z"
   },
   {
    "duration": 35,
    "start_time": "2021-06-18T09:07:10.502Z"
   },
   {
    "duration": 61,
    "start_time": "2021-06-18T09:07:10.542Z"
   },
   {
    "duration": 43,
    "start_time": "2021-06-18T09:07:10.607Z"
   },
   {
    "duration": 180,
    "start_time": "2021-06-18T09:07:10.653Z"
   },
   {
    "duration": 36,
    "start_time": "2021-06-18T09:07:10.835Z"
   },
   {
    "duration": 140,
    "start_time": "2021-06-18T09:07:10.874Z"
   },
   {
    "duration": 9,
    "start_time": "2021-06-18T09:07:11.017Z"
   },
   {
    "duration": 33,
    "start_time": "2021-06-18T09:07:11.029Z"
   },
   {
    "duration": 10,
    "start_time": "2021-06-18T09:07:11.065Z"
   },
   {
    "duration": 25,
    "start_time": "2021-06-18T09:07:11.078Z"
   },
   {
    "duration": 129,
    "start_time": "2021-06-18T09:07:11.106Z"
   },
   {
    "duration": 23,
    "start_time": "2021-06-18T09:07:11.238Z"
   },
   {
    "duration": 21,
    "start_time": "2021-06-18T09:07:11.264Z"
   },
   {
    "duration": 7,
    "start_time": "2021-06-18T09:07:11.289Z"
   },
   {
    "duration": 23,
    "start_time": "2021-06-18T09:07:11.299Z"
   },
   {
    "duration": 82,
    "start_time": "2021-06-18T09:07:11.325Z"
   },
   {
    "duration": 9,
    "start_time": "2021-06-18T09:07:11.409Z"
   },
   {
    "duration": 19,
    "start_time": "2021-06-18T09:07:11.420Z"
   },
   {
    "duration": 27,
    "start_time": "2021-06-18T09:07:11.463Z"
   },
   {
    "duration": 13,
    "start_time": "2021-06-18T09:07:11.493Z"
   },
   {
    "duration": 401,
    "start_time": "2021-06-18T09:07:11.509Z"
   },
   {
    "duration": 27,
    "start_time": "2021-06-18T09:07:11.913Z"
   },
   {
    "duration": 25,
    "start_time": "2021-06-18T09:07:50.007Z"
   },
   {
    "duration": 13,
    "start_time": "2021-06-18T09:08:04.552Z"
   },
   {
    "duration": 6,
    "start_time": "2021-06-18T09:08:09.316Z"
   },
   {
    "duration": 8,
    "start_time": "2021-06-18T09:08:28.270Z"
   },
   {
    "duration": 21,
    "start_time": "2021-06-18T09:08:28.281Z"
   },
   {
    "duration": 7,
    "start_time": "2021-06-18T09:08:28.305Z"
   },
   {
    "duration": 48,
    "start_time": "2021-06-18T09:08:28.316Z"
   },
   {
    "duration": 8,
    "start_time": "2021-06-18T09:08:28.367Z"
   },
   {
    "duration": 33,
    "start_time": "2021-06-18T09:08:28.377Z"
   },
   {
    "duration": 8,
    "start_time": "2021-06-18T09:08:28.413Z"
   },
   {
    "duration": 12,
    "start_time": "2021-06-18T09:08:28.463Z"
   },
   {
    "duration": 23,
    "start_time": "2021-06-18T09:08:28.478Z"
   },
   {
    "duration": 22,
    "start_time": "2021-06-18T09:08:28.504Z"
   },
   {
    "duration": 3,
    "start_time": "2021-06-18T09:08:28.563Z"
   },
   {
    "duration": 34,
    "start_time": "2021-06-18T09:08:28.569Z"
   },
   {
    "duration": 77,
    "start_time": "2021-06-18T09:08:28.606Z"
   },
   {
    "duration": 9,
    "start_time": "2021-06-18T09:08:28.686Z"
   },
   {
    "duration": 20,
    "start_time": "2021-06-18T09:08:28.698Z"
   },
   {
    "duration": 42,
    "start_time": "2021-06-18T09:08:28.721Z"
   },
   {
    "duration": 32,
    "start_time": "2021-06-18T09:08:28.766Z"
   },
   {
    "duration": 2,
    "start_time": "2021-06-18T09:08:28.801Z"
   },
   {
    "duration": 8,
    "start_time": "2021-06-18T09:08:28.806Z"
   },
   {
    "duration": 12,
    "start_time": "2021-06-18T09:08:28.817Z"
   },
   {
    "duration": 10,
    "start_time": "2021-06-18T09:08:28.861Z"
   },
   {
    "duration": 25,
    "start_time": "2021-06-18T09:08:28.874Z"
   },
   {
    "duration": 24,
    "start_time": "2021-06-18T09:08:28.904Z"
   },
   {
    "duration": 50,
    "start_time": "2021-06-18T09:08:28.963Z"
   },
   {
    "duration": 1410,
    "start_time": "2021-06-18T09:08:29.016Z"
   },
   {
    "duration": 9,
    "start_time": "2021-06-18T09:08:30.429Z"
   },
   {
    "duration": 1308,
    "start_time": "2021-06-18T09:08:30.441Z"
   },
   {
    "duration": 1338,
    "start_time": "2021-06-18T09:08:31.753Z"
   },
   {
    "duration": 1230,
    "start_time": "2021-06-18T09:08:33.094Z"
   },
   {
    "duration": 12,
    "start_time": "2021-06-18T09:08:34.326Z"
   },
   {
    "duration": 28,
    "start_time": "2021-06-18T09:08:34.340Z"
   },
   {
    "duration": 470,
    "start_time": "2021-06-18T09:08:34.370Z"
   },
   {
    "duration": 24,
    "start_time": "2021-06-18T09:08:34.842Z"
   },
   {
    "duration": 16,
    "start_time": "2021-06-18T09:08:34.870Z"
   },
   {
    "duration": 15,
    "start_time": "2021-06-18T09:08:34.888Z"
   },
   {
    "duration": 75,
    "start_time": "2021-06-18T09:08:34.906Z"
   },
   {
    "duration": 9,
    "start_time": "2021-06-18T09:08:34.983Z"
   },
   {
    "duration": 8,
    "start_time": "2021-06-18T09:08:34.994Z"
   },
   {
    "duration": 9,
    "start_time": "2021-06-18T09:08:35.005Z"
   },
   {
    "duration": 9,
    "start_time": "2021-06-18T09:08:35.016Z"
   },
   {
    "duration": 36,
    "start_time": "2021-06-18T09:08:35.028Z"
   },
   {
    "duration": 8,
    "start_time": "2021-06-18T09:10:59.825Z"
   },
   {
    "duration": 35,
    "start_time": "2021-06-18T09:13:08.951Z"
   },
   {
    "duration": 19,
    "start_time": "2021-06-18T09:13:54.749Z"
   },
   {
    "duration": 3,
    "start_time": "2021-06-18T09:14:59.650Z"
   },
   {
    "duration": 9,
    "start_time": "2021-06-18T09:14:59.660Z"
   },
   {
    "duration": 256,
    "start_time": "2021-06-18T09:14:59.671Z"
   },
   {
    "duration": 190,
    "start_time": "2021-06-18T09:14:59.930Z"
   },
   {
    "duration": 126,
    "start_time": "2021-06-18T09:15:00.122Z"
   },
   {
    "duration": 27,
    "start_time": "2021-06-18T09:15:00.251Z"
   },
   {
    "duration": 64,
    "start_time": "2021-06-18T09:15:00.281Z"
   },
   {
    "duration": 27,
    "start_time": "2021-06-18T09:15:00.347Z"
   },
   {
    "duration": 171,
    "start_time": "2021-06-18T09:15:00.377Z"
   },
   {
    "duration": 31,
    "start_time": "2021-06-18T09:15:00.552Z"
   },
   {
    "duration": 146,
    "start_time": "2021-06-18T09:15:00.586Z"
   },
   {
    "duration": 10,
    "start_time": "2021-06-18T09:15:00.734Z"
   },
   {
    "duration": 58,
    "start_time": "2021-06-18T09:15:00.746Z"
   },
   {
    "duration": 36,
    "start_time": "2021-06-18T09:15:00.807Z"
   },
   {
    "duration": 45,
    "start_time": "2021-06-18T09:15:00.845Z"
   },
   {
    "duration": 125,
    "start_time": "2021-06-18T09:15:00.892Z"
   },
   {
    "duration": 12,
    "start_time": "2021-06-18T09:15:01.019Z"
   },
   {
    "duration": 33,
    "start_time": "2021-06-18T09:15:01.033Z"
   },
   {
    "duration": 27,
    "start_time": "2021-06-18T09:15:01.069Z"
   },
   {
    "duration": 31,
    "start_time": "2021-06-18T09:15:01.098Z"
   },
   {
    "duration": 75,
    "start_time": "2021-06-18T09:15:01.131Z"
   },
   {
    "duration": 9,
    "start_time": "2021-06-18T09:15:01.208Z"
   },
   {
    "duration": 75,
    "start_time": "2021-06-18T09:15:01.219Z"
   },
   {
    "duration": 50,
    "start_time": "2021-06-18T09:15:01.296Z"
   },
   {
    "duration": 31,
    "start_time": "2021-06-18T09:15:01.348Z"
   },
   {
    "duration": 372,
    "start_time": "2021-06-18T09:15:01.382Z"
   },
   {
    "duration": 28,
    "start_time": "2021-06-18T09:15:01.756Z"
   },
   {
    "duration": 27,
    "start_time": "2021-06-18T09:15:01.792Z"
   },
   {
    "duration": 11,
    "start_time": "2021-06-18T09:15:01.823Z"
   },
   {
    "duration": 28,
    "start_time": "2021-06-18T09:15:01.836Z"
   },
   {
    "duration": 29,
    "start_time": "2021-06-18T09:15:01.867Z"
   },
   {
    "duration": 35,
    "start_time": "2021-06-18T09:15:01.899Z"
   },
   {
    "duration": 19,
    "start_time": "2021-06-18T09:15:01.937Z"
   },
   {
    "duration": 18,
    "start_time": "2021-06-18T09:15:01.959Z"
   },
   {
    "duration": 15,
    "start_time": "2021-06-18T09:15:01.979Z"
   },
   {
    "duration": 39,
    "start_time": "2021-06-18T09:15:01.997Z"
   },
   {
    "duration": 63,
    "start_time": "2021-06-18T09:15:02.039Z"
   },
   {
    "duration": 8,
    "start_time": "2021-06-18T09:15:02.104Z"
   },
   {
    "duration": 27,
    "start_time": "2021-06-18T09:15:02.115Z"
   },
   {
    "duration": 32,
    "start_time": "2021-06-18T09:15:02.144Z"
   },
   {
    "duration": 44,
    "start_time": "2021-06-18T09:15:02.179Z"
   },
   {
    "duration": 15,
    "start_time": "2021-06-18T09:15:02.226Z"
   },
   {
    "duration": 56,
    "start_time": "2021-06-18T09:15:02.243Z"
   },
   {
    "duration": 74,
    "start_time": "2021-06-18T09:15:02.302Z"
   },
   {
    "duration": 8,
    "start_time": "2021-06-18T09:15:02.378Z"
   },
   {
    "duration": 38,
    "start_time": "2021-06-18T09:15:02.388Z"
   },
   {
    "duration": 17,
    "start_time": "2021-06-18T09:15:02.429Z"
   },
   {
    "duration": 43,
    "start_time": "2021-06-18T09:15:02.449Z"
   },
   {
    "duration": 24,
    "start_time": "2021-06-18T09:15:02.495Z"
   },
   {
    "duration": 14,
    "start_time": "2021-06-18T09:15:02.521Z"
   },
   {
    "duration": 13,
    "start_time": "2021-06-18T09:15:02.537Z"
   },
   {
    "duration": 26,
    "start_time": "2021-06-18T09:15:02.552Z"
   },
   {
    "duration": 25,
    "start_time": "2021-06-18T09:17:52.878Z"
   },
   {
    "duration": 3,
    "start_time": "2021-06-18T09:22:26.535Z"
   },
   {
    "duration": 18,
    "start_time": "2021-06-18T09:22:26.541Z"
   },
   {
    "duration": 255,
    "start_time": "2021-06-18T09:22:26.562Z"
   },
   {
    "duration": 188,
    "start_time": "2021-06-18T09:22:26.819Z"
   },
   {
    "duration": 122,
    "start_time": "2021-06-18T09:22:27.009Z"
   },
   {
    "duration": 32,
    "start_time": "2021-06-18T09:22:27.134Z"
   },
   {
    "duration": 53,
    "start_time": "2021-06-18T09:22:27.168Z"
   },
   {
    "duration": 27,
    "start_time": "2021-06-18T09:22:27.224Z"
   },
   {
    "duration": 159,
    "start_time": "2021-06-18T09:22:27.254Z"
   },
   {
    "duration": 24,
    "start_time": "2021-06-18T09:22:27.415Z"
   },
   {
    "duration": 148,
    "start_time": "2021-06-18T09:22:27.441Z"
   },
   {
    "duration": 8,
    "start_time": "2021-06-18T09:22:27.591Z"
   },
   {
    "duration": 11,
    "start_time": "2021-06-18T09:22:27.602Z"
   },
   {
    "duration": 10,
    "start_time": "2021-06-18T09:22:27.616Z"
   },
   {
    "duration": 48,
    "start_time": "2021-06-18T09:22:27.629Z"
   },
   {
    "duration": 106,
    "start_time": "2021-06-18T09:22:27.679Z"
   },
   {
    "duration": 11,
    "start_time": "2021-06-18T09:22:27.788Z"
   },
   {
    "duration": 19,
    "start_time": "2021-06-18T09:22:27.801Z"
   },
   {
    "duration": 3,
    "start_time": "2021-06-18T09:22:27.822Z"
   },
   {
    "duration": 35,
    "start_time": "2021-06-18T09:22:27.827Z"
   },
   {
    "duration": 65,
    "start_time": "2021-06-18T09:22:27.865Z"
   },
   {
    "duration": 30,
    "start_time": "2021-06-18T09:22:27.932Z"
   },
   {
    "duration": 19,
    "start_time": "2021-06-18T09:22:27.968Z"
   },
   {
    "duration": 28,
    "start_time": "2021-06-18T09:22:27.991Z"
   },
   {
    "duration": 55,
    "start_time": "2021-06-18T09:22:28.022Z"
   },
   {
    "duration": 401,
    "start_time": "2021-06-18T09:22:28.080Z"
   },
   {
    "duration": 25,
    "start_time": "2021-06-18T09:22:28.483Z"
   },
   {
    "duration": 18,
    "start_time": "2021-06-18T09:22:28.511Z"
   },
   {
    "duration": 32,
    "start_time": "2021-06-18T09:22:28.531Z"
   },
   {
    "duration": 14,
    "start_time": "2021-06-18T09:22:28.566Z"
   },
   {
    "duration": 21,
    "start_time": "2021-06-18T09:22:28.582Z"
   },
   {
    "duration": 35,
    "start_time": "2021-06-18T09:22:28.605Z"
   },
   {
    "duration": 7,
    "start_time": "2021-06-18T09:22:28.642Z"
   },
   {
    "duration": 21,
    "start_time": "2021-06-18T09:22:28.652Z"
   },
   {
    "duration": 11,
    "start_time": "2021-06-18T09:22:28.676Z"
   },
   {
    "duration": 16,
    "start_time": "2021-06-18T09:22:28.689Z"
   },
   {
    "duration": 55,
    "start_time": "2021-06-18T09:22:28.707Z"
   },
   {
    "duration": 10,
    "start_time": "2021-06-18T09:22:28.765Z"
   },
   {
    "duration": 15,
    "start_time": "2021-06-18T09:22:28.779Z"
   },
   {
    "duration": 30,
    "start_time": "2021-06-18T09:22:28.797Z"
   },
   {
    "duration": 51,
    "start_time": "2021-06-18T09:22:28.830Z"
   },
   {
    "duration": 3,
    "start_time": "2021-06-18T09:22:28.884Z"
   },
   {
    "duration": 81,
    "start_time": "2021-06-18T09:22:28.890Z"
   },
   {
    "duration": 67,
    "start_time": "2021-06-18T09:22:28.974Z"
   },
   {
    "duration": 27,
    "start_time": "2021-06-18T09:22:29.044Z"
   },
   {
    "duration": 28,
    "start_time": "2021-06-18T09:22:29.075Z"
   },
   {
    "duration": 28,
    "start_time": "2021-06-18T09:22:29.106Z"
   },
   {
    "duration": 62,
    "start_time": "2021-06-18T09:22:29.137Z"
   },
   {
    "duration": 3,
    "start_time": "2021-06-18T09:22:29.203Z"
   },
   {
    "duration": 11,
    "start_time": "2021-06-18T09:22:29.209Z"
   },
   {
    "duration": 40,
    "start_time": "2021-06-18T09:22:29.223Z"
   },
   {
    "duration": 13,
    "start_time": "2021-06-18T09:22:29.266Z"
   },
   {
    "duration": 25,
    "start_time": "2021-06-18T09:22:29.281Z"
   },
   {
    "duration": 25,
    "start_time": "2021-06-18T09:22:29.308Z"
   },
   {
    "duration": 25,
    "start_time": "2021-06-18T09:22:29.363Z"
   },
   {
    "duration": 79,
    "start_time": "2021-06-18T09:22:29.391Z"
   },
   {
    "duration": 1593,
    "start_time": "2021-06-18T09:22:29.473Z"
   },
   {
    "duration": 7,
    "start_time": "2021-06-18T09:22:31.068Z"
   },
   {
    "duration": 1300,
    "start_time": "2021-06-18T09:22:31.077Z"
   },
   {
    "duration": 1327,
    "start_time": "2021-06-18T09:22:32.379Z"
   },
   {
    "duration": 1174,
    "start_time": "2021-06-18T09:22:33.708Z"
   },
   {
    "duration": 10,
    "start_time": "2021-06-18T09:22:34.884Z"
   },
   {
    "duration": 12,
    "start_time": "2021-06-18T09:22:34.897Z"
   },
   {
    "duration": 482,
    "start_time": "2021-06-18T09:22:34.911Z"
   },
   {
    "duration": 9,
    "start_time": "2021-06-18T09:22:35.395Z"
   },
   {
    "duration": 13,
    "start_time": "2021-06-18T09:26:24.925Z"
   },
   {
    "duration": 12,
    "start_time": "2021-06-18T09:27:13.960Z"
   },
   {
    "duration": 6,
    "start_time": "2021-06-18T09:27:40.068Z"
   },
   {
    "duration": 50,
    "start_time": "2021-06-18T09:27:41.671Z"
   },
   {
    "duration": 3,
    "start_time": "2021-06-18T09:28:22.512Z"
   },
   {
    "duration": 8,
    "start_time": "2021-06-18T09:28:22.517Z"
   },
   {
    "duration": 247,
    "start_time": "2021-06-18T09:28:22.528Z"
   },
   {
    "duration": 181,
    "start_time": "2021-06-18T09:28:22.778Z"
   },
   {
    "duration": 114,
    "start_time": "2021-06-18T09:28:22.961Z"
   },
   {
    "duration": 26,
    "start_time": "2021-06-18T09:28:23.078Z"
   },
   {
    "duration": 63,
    "start_time": "2021-06-18T09:28:23.107Z"
   },
   {
    "duration": 26,
    "start_time": "2021-06-18T09:28:23.173Z"
   },
   {
    "duration": 175,
    "start_time": "2021-06-18T09:28:23.203Z"
   },
   {
    "duration": 23,
    "start_time": "2021-06-18T09:28:23.381Z"
   },
   {
    "duration": 147,
    "start_time": "2021-06-18T09:28:23.406Z"
   },
   {
    "duration": 9,
    "start_time": "2021-06-18T09:28:23.562Z"
   },
   {
    "duration": 14,
    "start_time": "2021-06-18T09:28:23.573Z"
   },
   {
    "duration": 12,
    "start_time": "2021-06-18T09:28:23.589Z"
   },
   {
    "duration": 31,
    "start_time": "2021-06-18T09:28:23.604Z"
   },
   {
    "duration": 110,
    "start_time": "2021-06-18T09:28:23.662Z"
   },
   {
    "duration": 12,
    "start_time": "2021-06-18T09:28:23.774Z"
   },
   {
    "duration": 24,
    "start_time": "2021-06-18T09:28:23.788Z"
   },
   {
    "duration": 6,
    "start_time": "2021-06-18T09:28:23.814Z"
   },
   {
    "duration": 41,
    "start_time": "2021-06-18T09:28:23.822Z"
   },
   {
    "duration": 75,
    "start_time": "2021-06-18T09:28:23.866Z"
   },
   {
    "duration": 27,
    "start_time": "2021-06-18T09:28:23.943Z"
   },
   {
    "duration": 24,
    "start_time": "2021-06-18T09:28:23.973Z"
   },
   {
    "duration": 29,
    "start_time": "2021-06-18T09:28:24.000Z"
   },
   {
    "duration": 11,
    "start_time": "2021-06-18T09:28:24.062Z"
   },
   {
    "duration": 403,
    "start_time": "2021-06-18T09:28:24.079Z"
   },
   {
    "duration": 27,
    "start_time": "2021-06-18T09:28:24.485Z"
   },
   {
    "duration": 23,
    "start_time": "2021-06-18T09:28:24.515Z"
   },
   {
    "duration": 21,
    "start_time": "2021-06-18T09:28:24.541Z"
   },
   {
    "duration": 9,
    "start_time": "2021-06-18T09:28:24.564Z"
   },
   {
    "duration": 12,
    "start_time": "2021-06-18T09:28:24.575Z"
   },
   {
    "duration": 29,
    "start_time": "2021-06-18T09:28:24.590Z"
   },
   {
    "duration": 7,
    "start_time": "2021-06-18T09:28:24.622Z"
   },
   {
    "duration": 9,
    "start_time": "2021-06-18T09:28:24.663Z"
   },
   {
    "duration": 18,
    "start_time": "2021-06-18T09:28:24.674Z"
   },
   {
    "duration": 14,
    "start_time": "2021-06-18T09:28:24.695Z"
   },
   {
    "duration": 33,
    "start_time": "2021-06-18T09:28:24.711Z"
   },
   {
    "duration": 20,
    "start_time": "2021-06-18T09:28:24.746Z"
   },
   {
    "duration": 16,
    "start_time": "2021-06-18T09:28:24.768Z"
   },
   {
    "duration": 27,
    "start_time": "2021-06-18T09:28:24.786Z"
   },
   {
    "duration": 47,
    "start_time": "2021-06-18T09:28:24.815Z"
   },
   {
    "duration": 3,
    "start_time": "2021-06-18T09:28:24.864Z"
   },
   {
    "duration": 43,
    "start_time": "2021-06-18T09:28:24.869Z"
   },
   {
    "duration": 63,
    "start_time": "2021-06-18T09:28:24.914Z"
   },
   {
    "duration": 8,
    "start_time": "2021-06-18T09:28:24.979Z"
   },
   {
    "duration": 29,
    "start_time": "2021-06-18T09:28:24.989Z"
   },
   {
    "duration": 23,
    "start_time": "2021-06-18T09:28:25.020Z"
   },
   {
    "duration": 47,
    "start_time": "2021-06-18T09:28:25.045Z"
   },
   {
    "duration": 10,
    "start_time": "2021-06-18T09:28:25.095Z"
   },
   {
    "duration": 17,
    "start_time": "2021-06-18T09:28:25.107Z"
   },
   {
    "duration": 18,
    "start_time": "2021-06-18T09:28:25.126Z"
   },
   {
    "duration": 19,
    "start_time": "2021-06-18T09:28:25.146Z"
   },
   {
    "duration": 29,
    "start_time": "2021-06-18T09:28:25.167Z"
   },
   {
    "duration": 22,
    "start_time": "2021-06-18T09:28:25.199Z"
   },
   {
    "duration": 51,
    "start_time": "2021-06-18T09:28:25.224Z"
   },
   {
    "duration": 45,
    "start_time": "2021-06-18T09:28:25.278Z"
   },
   {
    "duration": 1405,
    "start_time": "2021-06-18T09:28:25.325Z"
   },
   {
    "duration": 7,
    "start_time": "2021-06-18T09:28:26.732Z"
   },
   {
    "duration": 1274,
    "start_time": "2021-06-18T09:28:26.741Z"
   },
   {
    "duration": 1309,
    "start_time": "2021-06-18T09:28:28.017Z"
   },
   {
    "duration": 1175,
    "start_time": "2021-06-18T09:28:29.328Z"
   },
   {
    "duration": 12,
    "start_time": "2021-06-18T09:28:30.505Z"
   },
   {
    "duration": 46,
    "start_time": "2021-06-18T09:28:30.519Z"
   },
   {
    "duration": 483,
    "start_time": "2021-06-18T09:28:30.567Z"
   },
   {
    "duration": 17,
    "start_time": "2021-06-18T09:28:31.053Z"
   },
   {
    "duration": 21,
    "start_time": "2021-06-18T09:28:31.072Z"
   },
   {
    "duration": 27,
    "start_time": "2021-06-18T09:28:31.096Z"
   },
   {
    "duration": 8076,
    "start_time": "2021-06-18T09:28:36.447Z"
   },
   {
    "duration": 9,
    "start_time": "2021-06-18T09:28:48.714Z"
   },
   {
    "duration": 7,
    "start_time": "2021-06-18T09:28:56.767Z"
   },
   {
    "duration": 7,
    "start_time": "2021-06-18T09:28:58.184Z"
   },
   {
    "duration": 7,
    "start_time": "2021-06-18T09:29:06.450Z"
   },
   {
    "duration": 8,
    "start_time": "2021-06-18T09:29:23.207Z"
   },
   {
    "duration": 36,
    "start_time": "2021-06-18T09:29:36.393Z"
   },
   {
    "duration": 4,
    "start_time": "2021-06-18T09:29:59.821Z"
   },
   {
    "duration": 7,
    "start_time": "2021-06-18T09:29:59.827Z"
   },
   {
    "duration": 257,
    "start_time": "2021-06-18T09:29:59.837Z"
   },
   {
    "duration": 200,
    "start_time": "2021-06-18T09:30:00.097Z"
   },
   {
    "duration": 169,
    "start_time": "2021-06-18T09:30:00.300Z"
   },
   {
    "duration": 35,
    "start_time": "2021-06-18T09:30:00.472Z"
   },
   {
    "duration": 73,
    "start_time": "2021-06-18T09:30:00.510Z"
   },
   {
    "duration": 43,
    "start_time": "2021-06-18T09:30:00.589Z"
   },
   {
    "duration": 544,
    "start_time": "2021-06-18T09:30:00.636Z"
   },
   {
    "duration": 35,
    "start_time": "2021-06-18T09:30:01.183Z"
   },
   {
    "duration": 231,
    "start_time": "2021-06-18T09:30:01.221Z"
   },
   {
    "duration": 13,
    "start_time": "2021-06-18T09:30:01.463Z"
   },
   {
    "duration": 35,
    "start_time": "2021-06-18T09:30:01.479Z"
   },
   {
    "duration": 35,
    "start_time": "2021-06-18T09:30:01.517Z"
   },
   {
    "duration": 41,
    "start_time": "2021-06-18T09:30:01.554Z"
   },
   {
    "duration": 122,
    "start_time": "2021-06-18T09:30:01.597Z"
   },
   {
    "duration": 13,
    "start_time": "2021-06-18T09:30:01.722Z"
   },
   {
    "duration": 43,
    "start_time": "2021-06-18T09:30:01.737Z"
   },
   {
    "duration": 40,
    "start_time": "2021-06-18T09:30:01.782Z"
   },
   {
    "duration": 19,
    "start_time": "2021-06-18T09:30:01.824Z"
   },
   {
    "duration": 128,
    "start_time": "2021-06-18T09:30:01.845Z"
   },
   {
    "duration": 11,
    "start_time": "2021-06-18T09:30:01.980Z"
   },
   {
    "duration": 60,
    "start_time": "2021-06-18T09:30:01.994Z"
   },
   {
    "duration": 43,
    "start_time": "2021-06-18T09:30:02.056Z"
   },
   {
    "duration": 22,
    "start_time": "2021-06-18T09:30:02.102Z"
   },
   {
    "duration": 392,
    "start_time": "2021-06-18T09:30:02.127Z"
   },
   {
    "duration": 41,
    "start_time": "2021-06-18T09:30:02.521Z"
   },
   {
    "duration": 13,
    "start_time": "2021-06-18T09:30:02.565Z"
   },
   {
    "duration": 12,
    "start_time": "2021-06-18T09:30:02.580Z"
   },
   {
    "duration": 29,
    "start_time": "2021-06-18T09:30:02.595Z"
   },
   {
    "duration": 15,
    "start_time": "2021-06-18T09:30:02.627Z"
   },
   {
    "duration": 46,
    "start_time": "2021-06-18T09:30:02.645Z"
   },
   {
    "duration": 9,
    "start_time": "2021-06-18T09:30:02.693Z"
   },
   {
    "duration": 41,
    "start_time": "2021-06-18T09:30:02.705Z"
   },
   {
    "duration": 32,
    "start_time": "2021-06-18T09:30:02.749Z"
   },
   {
    "duration": 47,
    "start_time": "2021-06-18T09:30:02.784Z"
   },
   {
    "duration": 38,
    "start_time": "2021-06-18T09:30:02.834Z"
   },
   {
    "duration": 10,
    "start_time": "2021-06-18T09:30:02.875Z"
   },
   {
    "duration": 42,
    "start_time": "2021-06-18T09:30:02.887Z"
   },
   {
    "duration": 37,
    "start_time": "2021-06-18T09:30:02.932Z"
   },
   {
    "duration": 36,
    "start_time": "2021-06-18T09:30:02.972Z"
   },
   {
    "duration": 21,
    "start_time": "2021-06-18T09:30:03.011Z"
   },
   {
    "duration": 38,
    "start_time": "2021-06-18T09:30:03.035Z"
   },
   {
    "duration": 54,
    "start_time": "2021-06-18T09:30:03.076Z"
   },
   {
    "duration": 36,
    "start_time": "2021-06-18T09:30:03.134Z"
   },
   {
    "duration": 19,
    "start_time": "2021-06-18T09:30:03.173Z"
   },
   {
    "duration": 26,
    "start_time": "2021-06-18T09:30:03.195Z"
   },
   {
    "duration": 82,
    "start_time": "2021-06-18T09:30:03.225Z"
   },
   {
    "duration": 22,
    "start_time": "2021-06-18T09:30:03.311Z"
   },
   {
    "duration": 21,
    "start_time": "2021-06-18T09:30:03.336Z"
   },
   {
    "duration": 16,
    "start_time": "2021-06-18T09:30:03.359Z"
   },
   {
    "duration": 18,
    "start_time": "2021-06-18T09:30:03.378Z"
   },
   {
    "duration": 34,
    "start_time": "2021-06-18T09:30:03.399Z"
   },
   {
    "duration": 46,
    "start_time": "2021-06-18T09:30:03.435Z"
   },
   {
    "duration": 36,
    "start_time": "2021-06-18T09:30:03.484Z"
   },
   {
    "duration": 77,
    "start_time": "2021-06-18T09:30:03.523Z"
   },
   {
    "duration": 1413,
    "start_time": "2021-06-18T09:30:03.603Z"
   },
   {
    "duration": 7,
    "start_time": "2021-06-18T09:30:05.019Z"
   },
   {
    "duration": 1310,
    "start_time": "2021-06-18T09:30:05.029Z"
   },
   {
    "duration": 1684,
    "start_time": "2021-06-18T09:30:06.341Z"
   },
   {
    "duration": 1651,
    "start_time": "2021-06-18T09:30:08.028Z"
   },
   {
    "duration": 18,
    "start_time": "2021-06-18T09:30:09.682Z"
   },
   {
    "duration": 19,
    "start_time": "2021-06-18T09:30:09.703Z"
   },
   {
    "duration": 690,
    "start_time": "2021-06-18T09:30:09.732Z"
   },
   {
    "duration": 17,
    "start_time": "2021-06-18T09:30:10.426Z"
   },
   {
    "duration": 16,
    "start_time": "2021-06-18T09:30:10.463Z"
   },
   {
    "duration": 8,
    "start_time": "2021-06-18T09:30:10.482Z"
   },
   {
    "duration": 12,
    "start_time": "2021-06-18T09:30:10.493Z"
   },
   {
    "duration": 11,
    "start_time": "2021-06-18T09:30:10.507Z"
   },
   {
    "duration": 44,
    "start_time": "2021-06-18T09:30:10.521Z"
   },
   {
    "duration": 8,
    "start_time": "2021-06-18T09:30:10.568Z"
   },
   {
    "duration": 9,
    "start_time": "2021-06-18T09:30:10.578Z"
   }
  ],
  "kernelspec": {
   "display_name": "Python 3",
   "language": "python",
   "name": "python3"
  },
  "language_info": {
   "codemirror_mode": {
    "name": "ipython",
    "version": 3
   },
   "file_extension": ".py",
   "mimetype": "text/x-python",
   "name": "python",
   "nbconvert_exporter": "python",
   "pygments_lexer": "ipython3",
   "version": "3.8.5"
  },
  "toc": {
   "base_numbering": 1,
   "nav_menu": {},
   "number_sections": true,
   "sideBar": true,
   "skip_h1_title": true,
   "title_cell": "Table of Contents",
   "title_sidebar": "Contents",
   "toc_cell": false,
   "toc_position": {},
   "toc_section_display": true,
   "toc_window_display": false
  }
 },
 "nbformat": 4,
 "nbformat_minor": 2
}
