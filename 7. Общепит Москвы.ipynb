{
 "cells": [
  {
   "cell_type": "markdown",
   "metadata": {},
   "source": [
    "# Описание проекта\n",
    "\n",
    "Вы решили открыть небольшое кафе в Москве. Оно оригинальное — гостей должны обслуживать роботы. Проект многообещающий, но дорогой. Вместе с партнёрами вы решились обратиться к инвесторам. Их интересует текущее положение дел на рынке — сможете ли вы снискать популярность на долгое время, когда все зеваки насмотрятся на роботов-официантов?"
   ]
  },
  {
   "cell_type": "markdown",
   "metadata": {},
   "source": [
    "# Описание данных\n",
    "\n",
    "* id — идентификатор объекта;\n",
    "* object_name — название объекта общественного питания;\n",
    "* chain — сетевой ресторан;\n",
    "* object_type — тип объекта общественного питания;\n",
    "* address — адрес;\n",
    "* number — количество посадочных мест."
   ]
  },
  {
   "cell_type": "markdown",
   "metadata": {},
   "source": [
    "# Шаг №1. Загрузите данные и подготовьте их к анализу"
   ]
  },
  {
   "cell_type": "code",
   "execution_count": 1,
   "metadata": {},
   "outputs": [],
   "source": [
    "import pandas as pd\n",
    "import numpy as np\n",
    "from matplotlib import pyplot as plt\n",
    "\n",
    "import math\n",
    "from scipy import stats\n",
    "\n",
    "from datetime import timedelta\n",
    "import datetime as dt\n",
    "\n",
    "import re\n",
    "import requests\n",
    "\n",
    "import seaborn as sns\n",
    "\n",
    "from statsmodels.stats.proportion import proportions_ztest\n",
    "import warnings\n",
    "\n",
    "warnings.filterwarnings('ignore')\n"
   ]
  },
  {
   "cell_type": "code",
   "execution_count": 2,
   "metadata": {},
   "outputs": [],
   "source": [
    "try:\n",
    "    df = pd.read_csv('/datasets/rest_data.csv')\n",
    "except:\n",
    "    df = pd.read_csv('rest_data.csv')"
   ]
  },
  {
   "cell_type": "code",
   "execution_count": 3,
   "metadata": {},
   "outputs": [
    {
     "data": {
      "text/html": [
       "<div>\n",
       "<style scoped>\n",
       "    .dataframe tbody tr th:only-of-type {\n",
       "        vertical-align: middle;\n",
       "    }\n",
       "\n",
       "    .dataframe tbody tr th {\n",
       "        vertical-align: top;\n",
       "    }\n",
       "\n",
       "    .dataframe thead th {\n",
       "        text-align: right;\n",
       "    }\n",
       "</style>\n",
       "<table border=\"1\" class=\"dataframe\">\n",
       "  <thead>\n",
       "    <tr style=\"text-align: right;\">\n",
       "      <th></th>\n",
       "      <th>id</th>\n",
       "      <th>object_name</th>\n",
       "      <th>chain</th>\n",
       "      <th>object_type</th>\n",
       "      <th>address</th>\n",
       "      <th>number</th>\n",
       "    </tr>\n",
       "  </thead>\n",
       "  <tbody>\n",
       "    <tr>\n",
       "      <th>10953</th>\n",
       "      <td>175218</td>\n",
       "      <td>КАФЕ</td>\n",
       "      <td>нет</td>\n",
       "      <td>кафе</td>\n",
       "      <td>город Москва, Малахитовая улица, дом 14, строе...</td>\n",
       "      <td>12</td>\n",
       "    </tr>\n",
       "  </tbody>\n",
       "</table>\n",
       "</div>"
      ],
      "text/plain": [
       "           id object_name chain object_type  \\\n",
       "10953  175218        КАФЕ   нет        кафе   \n",
       "\n",
       "                                                 address  number  \n",
       "10953  город Москва, Малахитовая улица, дом 14, строе...      12  "
      ]
     },
     "execution_count": 3,
     "metadata": {},
     "output_type": "execute_result"
    }
   ],
   "source": [
    "df.sample(1)"
   ]
  },
  {
   "cell_type": "code",
   "execution_count": 4,
   "metadata": {},
   "outputs": [
    {
     "name": "stdout",
     "output_type": "stream",
     "text": [
      "<class 'pandas.core.frame.DataFrame'>\n",
      "RangeIndex: 15366 entries, 0 to 15365\n",
      "Data columns (total 6 columns):\n",
      " #   Column       Non-Null Count  Dtype \n",
      "---  ------       --------------  ----- \n",
      " 0   id           15366 non-null  int64 \n",
      " 1   object_name  15366 non-null  object\n",
      " 2   chain        15366 non-null  object\n",
      " 3   object_type  15366 non-null  object\n",
      " 4   address      15366 non-null  object\n",
      " 5   number       15366 non-null  int64 \n",
      "dtypes: int64(2), object(4)\n",
      "memory usage: 720.4+ KB\n"
     ]
    }
   ],
   "source": [
    "df.info()"
   ]
  },
  {
   "cell_type": "code",
   "execution_count": 5,
   "metadata": {},
   "outputs": [],
   "source": [
    "df['object_name'] = df['object_name'].str.lower()\n",
    "df['object_type'] = df['object_type'].str.lower()\n",
    "df['address'] = df['address'].str.lower()"
   ]
  },
  {
   "cell_type": "code",
   "execution_count": 6,
   "metadata": {},
   "outputs": [
    {
     "data": {
      "text/html": [
       "<div>\n",
       "<style scoped>\n",
       "    .dataframe tbody tr th:only-of-type {\n",
       "        vertical-align: middle;\n",
       "    }\n",
       "\n",
       "    .dataframe tbody tr th {\n",
       "        vertical-align: top;\n",
       "    }\n",
       "\n",
       "    .dataframe thead th {\n",
       "        text-align: right;\n",
       "    }\n",
       "</style>\n",
       "<table border=\"1\" class=\"dataframe\">\n",
       "  <thead>\n",
       "    <tr style=\"text-align: right;\">\n",
       "      <th></th>\n",
       "      <th>id</th>\n",
       "      <th>object_name</th>\n",
       "      <th>chain</th>\n",
       "      <th>object_type</th>\n",
       "      <th>address</th>\n",
       "      <th>number</th>\n",
       "    </tr>\n",
       "  </thead>\n",
       "  <tbody>\n",
       "  </tbody>\n",
       "</table>\n",
       "</div>"
      ],
      "text/plain": [
       "Empty DataFrame\n",
       "Columns: [id, object_name, chain, object_type, address, number]\n",
       "Index: []"
      ]
     },
     "execution_count": 6,
     "metadata": {},
     "output_type": "execute_result"
    }
   ],
   "source": [
    "df[df.duplicated()]"
   ]
  },
  {
   "cell_type": "markdown",
   "metadata": {},
   "source": [
    "На первый взгляд дубликатов нет. Но если посмотреть на дубликаты столбцов без id, то ситуация изменится"
   ]
  },
  {
   "cell_type": "code",
   "execution_count": 7,
   "metadata": {},
   "outputs": [
    {
     "data": {
      "text/html": [
       "<div>\n",
       "<style scoped>\n",
       "    .dataframe tbody tr th:only-of-type {\n",
       "        vertical-align: middle;\n",
       "    }\n",
       "\n",
       "    .dataframe tbody tr th {\n",
       "        vertical-align: top;\n",
       "    }\n",
       "\n",
       "    .dataframe thead th {\n",
       "        text-align: right;\n",
       "    }\n",
       "</style>\n",
       "<table border=\"1\" class=\"dataframe\">\n",
       "  <thead>\n",
       "    <tr style=\"text-align: right;\">\n",
       "      <th></th>\n",
       "      <th>id</th>\n",
       "      <th>object_name</th>\n",
       "      <th>chain</th>\n",
       "      <th>object_type</th>\n",
       "      <th>address</th>\n",
       "      <th>number</th>\n",
       "    </tr>\n",
       "  </thead>\n",
       "  <tbody>\n",
       "    <tr>\n",
       "      <th>2381</th>\n",
       "      <td>28611</td>\n",
       "      <td>комбинат питания мгту им.н.э.баумана</td>\n",
       "      <td>нет</td>\n",
       "      <td>столовая</td>\n",
       "      <td>город москва, 2-я бауманская улица, дом 5, стр...</td>\n",
       "      <td>100</td>\n",
       "    </tr>\n",
       "    <tr>\n",
       "      <th>3397</th>\n",
       "      <td>71896</td>\n",
       "      <td>буфет «коникс-школьник»</td>\n",
       "      <td>нет</td>\n",
       "      <td>буфет</td>\n",
       "      <td>город москва, улица удальцова, дом 21</td>\n",
       "      <td>100</td>\n",
       "    </tr>\n",
       "    <tr>\n",
       "      <th>3481</th>\n",
       "      <td>20914</td>\n",
       "      <td>буфет мади</td>\n",
       "      <td>нет</td>\n",
       "      <td>буфет</td>\n",
       "      <td>город москва, ленинградский проспект, дом 64</td>\n",
       "      <td>40</td>\n",
       "    </tr>\n",
       "    <tr>\n",
       "      <th>4431</th>\n",
       "      <td>23759</td>\n",
       "      <td>столовая гбоу города москвы № 384</td>\n",
       "      <td>нет</td>\n",
       "      <td>буфет</td>\n",
       "      <td>город москва, беловежская улица, дом 67</td>\n",
       "      <td>100</td>\n",
       "    </tr>\n",
       "    <tr>\n",
       "      <th>4537</th>\n",
       "      <td>23391</td>\n",
       "      <td>столовая «комбинат питания космос»</td>\n",
       "      <td>нет</td>\n",
       "      <td>столовая</td>\n",
       "      <td>город москва, новозаводская улица, дом 12/11</td>\n",
       "      <td>15</td>\n",
       "    </tr>\n",
       "    <tr>\n",
       "      <th>...</th>\n",
       "      <td>...</td>\n",
       "      <td>...</td>\n",
       "      <td>...</td>\n",
       "      <td>...</td>\n",
       "      <td>...</td>\n",
       "      <td>...</td>\n",
       "    </tr>\n",
       "    <tr>\n",
       "      <th>14578</th>\n",
       "      <td>222932</td>\n",
       "      <td>старый баку</td>\n",
       "      <td>нет</td>\n",
       "      <td>кафе</td>\n",
       "      <td>город москва, кировоградская улица, владение 15а</td>\n",
       "      <td>120</td>\n",
       "    </tr>\n",
       "    <tr>\n",
       "      <th>14596</th>\n",
       "      <td>204947</td>\n",
       "      <td>буфет при кинотеатре</td>\n",
       "      <td>нет</td>\n",
       "      <td>буфет</td>\n",
       "      <td>город москва, ореховый бульвар, дом 22а</td>\n",
       "      <td>0</td>\n",
       "    </tr>\n",
       "    <tr>\n",
       "      <th>14844</th>\n",
       "      <td>219518</td>\n",
       "      <td>sushi-make</td>\n",
       "      <td>нет</td>\n",
       "      <td>предприятие быстрого обслуживания</td>\n",
       "      <td>город москва, ярцевская улица, дом 19</td>\n",
       "      <td>0</td>\n",
       "    </tr>\n",
       "    <tr>\n",
       "      <th>15173</th>\n",
       "      <td>218542</td>\n",
       "      <td>кофе с собой</td>\n",
       "      <td>да</td>\n",
       "      <td>предприятие быстрого обслуживания</td>\n",
       "      <td>город москва, алтуфьевское шоссе, дом 70, корп...</td>\n",
       "      <td>0</td>\n",
       "    </tr>\n",
       "    <tr>\n",
       "      <th>15217</th>\n",
       "      <td>214146</td>\n",
       "      <td>макдоналдс</td>\n",
       "      <td>да</td>\n",
       "      <td>предприятие быстрого обслуживания</td>\n",
       "      <td>город москва, кировоградская улица, дом 13а</td>\n",
       "      <td>0</td>\n",
       "    </tr>\n",
       "  </tbody>\n",
       "</table>\n",
       "<p>85 rows × 6 columns</p>\n",
       "</div>"
      ],
      "text/plain": [
       "           id                           object_name chain  \\\n",
       "2381    28611  комбинат питания мгту им.н.э.баумана   нет   \n",
       "3397    71896               буфет «коникс-школьник»   нет   \n",
       "3481    20914                            буфет мади   нет   \n",
       "4431    23759     столовая гбоу города москвы № 384   нет   \n",
       "4537    23391    столовая «комбинат питания космос»   нет   \n",
       "...       ...                                   ...   ...   \n",
       "14578  222932                           старый баку   нет   \n",
       "14596  204947                  буфет при кинотеатре   нет   \n",
       "14844  219518                            sushi-make   нет   \n",
       "15173  218542                          кофе с собой    да   \n",
       "15217  214146                            макдоналдс    да   \n",
       "\n",
       "                             object_type  \\\n",
       "2381                            столовая   \n",
       "3397                               буфет   \n",
       "3481                               буфет   \n",
       "4431                               буфет   \n",
       "4537                            столовая   \n",
       "...                                  ...   \n",
       "14578                               кафе   \n",
       "14596                              буфет   \n",
       "14844  предприятие быстрого обслуживания   \n",
       "15173  предприятие быстрого обслуживания   \n",
       "15217  предприятие быстрого обслуживания   \n",
       "\n",
       "                                                 address  number  \n",
       "2381   город москва, 2-я бауманская улица, дом 5, стр...     100  \n",
       "3397               город москва, улица удальцова, дом 21     100  \n",
       "3481        город москва, ленинградский проспект, дом 64      40  \n",
       "4431             город москва, беловежская улица, дом 67     100  \n",
       "4537        город москва, новозаводская улица, дом 12/11      15  \n",
       "...                                                  ...     ...  \n",
       "14578   город москва, кировоградская улица, владение 15а     120  \n",
       "14596            город москва, ореховый бульвар, дом 22а       0  \n",
       "14844              город москва, ярцевская улица, дом 19       0  \n",
       "15173  город москва, алтуфьевское шоссе, дом 70, корп...       0  \n",
       "15217        город москва, кировоградская улица, дом 13а       0  \n",
       "\n",
       "[85 rows x 6 columns]"
      ]
     },
     "execution_count": 7,
     "metadata": {},
     "output_type": "execute_result"
    }
   ],
   "source": [
    "df[df.duplicated(['object_name', 'chain', 'object_type', 'address', 'number'])]"
   ]
  },
  {
   "cell_type": "code",
   "execution_count": 8,
   "metadata": {},
   "outputs": [],
   "source": [
    "#удаляем дубликаты\n",
    "df = df.drop_duplicates(subset=['object_name', 'chain', 'object_type', 'address', 'number'])"
   ]
  },
  {
   "cell_type": "code",
   "execution_count": 9,
   "metadata": {},
   "outputs": [
    {
     "data": {
      "text/plain": [
       "140"
      ]
     },
     "execution_count": 9,
     "metadata": {},
     "output_type": "execute_result"
    }
   ],
   "source": [
    "#проверим наличие дубликатов, где совпадают название и адрес заведения\n",
    "df.duplicated(subset=['object_name', 'address']).sum()"
   ]
  },
  {
   "cell_type": "markdown",
   "metadata": {},
   "source": [
    "У нас осталось 140 заведений которые совпадают по адресу и по типу заведения"
   ]
  },
  {
   "cell_type": "code",
   "execution_count": 10,
   "metadata": {},
   "outputs": [
    {
     "data": {
      "text/html": [
       "<div>\n",
       "<style scoped>\n",
       "    .dataframe tbody tr th:only-of-type {\n",
       "        vertical-align: middle;\n",
       "    }\n",
       "\n",
       "    .dataframe tbody tr th {\n",
       "        vertical-align: top;\n",
       "    }\n",
       "\n",
       "    .dataframe thead th {\n",
       "        text-align: right;\n",
       "    }\n",
       "</style>\n",
       "<table border=\"1\" class=\"dataframe\">\n",
       "  <thead>\n",
       "    <tr style=\"text-align: right;\">\n",
       "      <th></th>\n",
       "      <th>id</th>\n",
       "      <th>object_name</th>\n",
       "      <th>chain</th>\n",
       "      <th>object_type</th>\n",
       "      <th>address</th>\n",
       "      <th>number</th>\n",
       "    </tr>\n",
       "  </thead>\n",
       "  <tbody>\n",
       "    <tr>\n",
       "      <th>114</th>\n",
       "      <td>28613</td>\n",
       "      <td>комбинат питания мгту им.н.э.баумана</td>\n",
       "      <td>нет</td>\n",
       "      <td>закусочная</td>\n",
       "      <td>город москва, бригадирский переулок, дом 3-5</td>\n",
       "      <td>216</td>\n",
       "    </tr>\n",
       "    <tr>\n",
       "      <th>115</th>\n",
       "      <td>28614</td>\n",
       "      <td>комбинат питания мгту им.н.э.баумана</td>\n",
       "      <td>нет</td>\n",
       "      <td>буфет</td>\n",
       "      <td>город москва, бригадирский переулок, дом 3-5</td>\n",
       "      <td>12</td>\n",
       "    </tr>\n",
       "    <tr>\n",
       "      <th>579</th>\n",
       "      <td>149227</td>\n",
       "      <td>общественное питание</td>\n",
       "      <td>нет</td>\n",
       "      <td>столовая</td>\n",
       "      <td>город москва, павелецкая площадь, дом 1</td>\n",
       "      <td>70</td>\n",
       "    </tr>\n",
       "    <tr>\n",
       "      <th>580</th>\n",
       "      <td>149205</td>\n",
       "      <td>общественное питание</td>\n",
       "      <td>нет</td>\n",
       "      <td>кафе</td>\n",
       "      <td>город москва, павелецкая площадь, дом 1</td>\n",
       "      <td>35</td>\n",
       "    </tr>\n",
       "    <tr>\n",
       "      <th>581</th>\n",
       "      <td>149131</td>\n",
       "      <td>общественное питание</td>\n",
       "      <td>нет</td>\n",
       "      <td>кафе</td>\n",
       "      <td>город москва, павелецкая площадь, дом 1</td>\n",
       "      <td>39</td>\n",
       "    </tr>\n",
       "    <tr>\n",
       "      <th>1409</th>\n",
       "      <td>151267</td>\n",
       "      <td>альфорно</td>\n",
       "      <td>нет</td>\n",
       "      <td>кафе</td>\n",
       "      <td>город москва, город зеленоград, корпус 438</td>\n",
       "      <td>45</td>\n",
       "    </tr>\n",
       "    <tr>\n",
       "      <th>1648</th>\n",
       "      <td>151871</td>\n",
       "      <td>ресторан «практика by darvin»</td>\n",
       "      <td>нет</td>\n",
       "      <td>кафе</td>\n",
       "      <td>город москва, большая грузинская улица, дом 37...</td>\n",
       "      <td>50</td>\n",
       "    </tr>\n",
       "    <tr>\n",
       "      <th>2375</th>\n",
       "      <td>28604</td>\n",
       "      <td>комбинат питания мгту им.н.э.баумана</td>\n",
       "      <td>нет</td>\n",
       "      <td>столовая</td>\n",
       "      <td>город москва, 2-я бауманская улица, дом 5, стр...</td>\n",
       "      <td>150</td>\n",
       "    </tr>\n",
       "    <tr>\n",
       "      <th>2376</th>\n",
       "      <td>28605</td>\n",
       "      <td>комбинат питания мгту им.н.э.баумана</td>\n",
       "      <td>нет</td>\n",
       "      <td>кафетерий</td>\n",
       "      <td>город москва, 2-я бауманская улица, дом 5, стр...</td>\n",
       "      <td>35</td>\n",
       "    </tr>\n",
       "    <tr>\n",
       "      <th>2377</th>\n",
       "      <td>28606</td>\n",
       "      <td>комбинат питания мгту им.н.э.баумана</td>\n",
       "      <td>нет</td>\n",
       "      <td>буфет</td>\n",
       "      <td>город москва, 2-я бауманская улица, дом 5, стр...</td>\n",
       "      <td>16</td>\n",
       "    </tr>\n",
       "    <tr>\n",
       "      <th>2378</th>\n",
       "      <td>28607</td>\n",
       "      <td>комбинат питания мгту им.н.э.баумана</td>\n",
       "      <td>нет</td>\n",
       "      <td>закусочная</td>\n",
       "      <td>город москва, 2-я бауманская улица, дом 5, стр...</td>\n",
       "      <td>16</td>\n",
       "    </tr>\n",
       "    <tr>\n",
       "      <th>2379</th>\n",
       "      <td>28609</td>\n",
       "      <td>комбинат питания мгту им.н.э.баумана</td>\n",
       "      <td>нет</td>\n",
       "      <td>буфет</td>\n",
       "      <td>город москва, 2-я бауманская улица, дом 5, стр...</td>\n",
       "      <td>30</td>\n",
       "    </tr>\n",
       "    <tr>\n",
       "      <th>2380</th>\n",
       "      <td>28610</td>\n",
       "      <td>комбинат питания мгту им.н.э.баумана</td>\n",
       "      <td>нет</td>\n",
       "      <td>столовая</td>\n",
       "      <td>город москва, 2-я бауманская улица, дом 5, стр...</td>\n",
       "      <td>200</td>\n",
       "    </tr>\n",
       "    <tr>\n",
       "      <th>2382</th>\n",
       "      <td>28615</td>\n",
       "      <td>комбинат питания мгту им.н.э.баумана</td>\n",
       "      <td>нет</td>\n",
       "      <td>столовая</td>\n",
       "      <td>город москва, 2-я бауманская улица, дом 5, стр...</td>\n",
       "      <td>168</td>\n",
       "    </tr>\n",
       "    <tr>\n",
       "      <th>2383</th>\n",
       "      <td>28616</td>\n",
       "      <td>комбинат питания мгту им.н.э.баумана</td>\n",
       "      <td>нет</td>\n",
       "      <td>закусочная</td>\n",
       "      <td>город москва, 2-я бауманская улица, дом 5, стр...</td>\n",
       "      <td>64</td>\n",
       "    </tr>\n",
       "    <tr>\n",
       "      <th>2384</th>\n",
       "      <td>28617</td>\n",
       "      <td>комбинат питания мгту им.н.э.баумана</td>\n",
       "      <td>нет</td>\n",
       "      <td>столовая</td>\n",
       "      <td>город москва, 2-я бауманская улица, дом 5, стр...</td>\n",
       "      <td>108</td>\n",
       "    </tr>\n",
       "    <tr>\n",
       "      <th>2394</th>\n",
       "      <td>28612</td>\n",
       "      <td>комбинат питания мгту им.н.э.баумана</td>\n",
       "      <td>нет</td>\n",
       "      <td>столовая</td>\n",
       "      <td>город москва, 2-я бауманская улица, дом 5, стр...</td>\n",
       "      <td>80</td>\n",
       "    </tr>\n",
       "    <tr>\n",
       "      <th>2398</th>\n",
       "      <td>20994</td>\n",
       "      <td>фуршет.ру</td>\n",
       "      <td>нет</td>\n",
       "      <td>буфет</td>\n",
       "      <td>город москва, гороховский переулок, дом 4</td>\n",
       "      <td>10</td>\n",
       "    </tr>\n",
       "    <tr>\n",
       "      <th>2435</th>\n",
       "      <td>19789</td>\n",
       "      <td>сло россия</td>\n",
       "      <td>нет</td>\n",
       "      <td>столовая</td>\n",
       "      <td>город москва, заводское шоссе, дом 15</td>\n",
       "      <td>10</td>\n",
       "    </tr>\n",
       "    <tr>\n",
       "      <th>2565</th>\n",
       "      <td>23832</td>\n",
       "      <td>кафе</td>\n",
       "      <td>нет</td>\n",
       "      <td>кафе</td>\n",
       "      <td>город москва, улица вавилова, дом 57, корпус 1</td>\n",
       "      <td>40</td>\n",
       "    </tr>\n",
       "    <tr>\n",
       "      <th>2978</th>\n",
       "      <td>29209</td>\n",
       "      <td>столовая при школе</td>\n",
       "      <td>нет</td>\n",
       "      <td>столовая</td>\n",
       "      <td>город москва, флотская улица, дом 11</td>\n",
       "      <td>150</td>\n",
       "    </tr>\n",
       "    <tr>\n",
       "      <th>3468</th>\n",
       "      <td>21877</td>\n",
       "      <td>leningrad</td>\n",
       "      <td>нет</td>\n",
       "      <td>кафе</td>\n",
       "      <td>город москва, ленинградский проспект, дом 24а</td>\n",
       "      <td>25</td>\n",
       "    </tr>\n",
       "    <tr>\n",
       "      <th>3747</th>\n",
       "      <td>28856</td>\n",
       "      <td>кп мэи</td>\n",
       "      <td>нет</td>\n",
       "      <td>буфет</td>\n",
       "      <td>город москва, красноказарменная улица, дом 14,...</td>\n",
       "      <td>160</td>\n",
       "    </tr>\n",
       "    <tr>\n",
       "      <th>4042</th>\n",
       "      <td>27598</td>\n",
       "      <td>гбоу школа №867 оао «комбинат дошкольного пита...</td>\n",
       "      <td>нет</td>\n",
       "      <td>столовая</td>\n",
       "      <td>город москва, улица борисовские пруды, дом 20,...</td>\n",
       "      <td>200</td>\n",
       "    </tr>\n",
       "    <tr>\n",
       "      <th>4379</th>\n",
       "      <td>69038</td>\n",
       "      <td>эмма</td>\n",
       "      <td>нет</td>\n",
       "      <td>кафе</td>\n",
       "      <td>город москва, молодогвардейская улица, дом 13</td>\n",
       "      <td>60</td>\n",
       "    </tr>\n",
       "    <tr>\n",
       "      <th>4461</th>\n",
       "      <td>24133</td>\n",
       "      <td>центр павла слободкина</td>\n",
       "      <td>нет</td>\n",
       "      <td>буфет</td>\n",
       "      <td>город москва, улица арбат, дом 48, строение 1</td>\n",
       "      <td>50</td>\n",
       "    </tr>\n",
       "    <tr>\n",
       "      <th>4462</th>\n",
       "      <td>26394</td>\n",
       "      <td>центр павла слободкина</td>\n",
       "      <td>нет</td>\n",
       "      <td>буфет</td>\n",
       "      <td>город москва, улица арбат, дом 48, строение 1</td>\n",
       "      <td>55</td>\n",
       "    </tr>\n",
       "    <tr>\n",
       "      <th>4917</th>\n",
       "      <td>121351</td>\n",
       "      <td>столовая</td>\n",
       "      <td>нет</td>\n",
       "      <td>столовая</td>\n",
       "      <td>город москва, старый петровско-разумовский про...</td>\n",
       "      <td>40</td>\n",
       "    </tr>\n",
       "    <tr>\n",
       "      <th>5058</th>\n",
       "      <td>20019</td>\n",
       "      <td>lift</td>\n",
       "      <td>нет</td>\n",
       "      <td>кафе</td>\n",
       "      <td>город москва, багратионовский проезд, дом 7, к...</td>\n",
       "      <td>20</td>\n",
       "    </tr>\n",
       "    <tr>\n",
       "      <th>5060</th>\n",
       "      <td>20015</td>\n",
       "      <td>lift</td>\n",
       "      <td>нет</td>\n",
       "      <td>кафе</td>\n",
       "      <td>город москва, багратионовский проезд, дом 7, к...</td>\n",
       "      <td>40</td>\n",
       "    </tr>\n",
       "  </tbody>\n",
       "</table>\n",
       "</div>"
      ],
      "text/plain": [
       "          id                                        object_name chain  \\\n",
       "114    28613               комбинат питания мгту им.н.э.баумана   нет   \n",
       "115    28614               комбинат питания мгту им.н.э.баумана   нет   \n",
       "579   149227                               общественное питание   нет   \n",
       "580   149205                               общественное питание   нет   \n",
       "581   149131                               общественное питание   нет   \n",
       "1409  151267                                           альфорно   нет   \n",
       "1648  151871                      ресторан «практика by darvin»   нет   \n",
       "2375   28604               комбинат питания мгту им.н.э.баумана   нет   \n",
       "2376   28605               комбинат питания мгту им.н.э.баумана   нет   \n",
       "2377   28606               комбинат питания мгту им.н.э.баумана   нет   \n",
       "2378   28607               комбинат питания мгту им.н.э.баумана   нет   \n",
       "2379   28609               комбинат питания мгту им.н.э.баумана   нет   \n",
       "2380   28610               комбинат питания мгту им.н.э.баумана   нет   \n",
       "2382   28615               комбинат питания мгту им.н.э.баумана   нет   \n",
       "2383   28616               комбинат питания мгту им.н.э.баумана   нет   \n",
       "2384   28617               комбинат питания мгту им.н.э.баумана   нет   \n",
       "2394   28612               комбинат питания мгту им.н.э.баумана   нет   \n",
       "2398   20994                                          фуршет.ру   нет   \n",
       "2435   19789                                         сло россия   нет   \n",
       "2565   23832                                               кафе   нет   \n",
       "2978   29209                                 столовая при школе   нет   \n",
       "3468   21877                                          leningrad   нет   \n",
       "3747   28856                                             кп мэи   нет   \n",
       "4042   27598  гбоу школа №867 оао «комбинат дошкольного пита...   нет   \n",
       "4379   69038                                               эмма   нет   \n",
       "4461   24133                             центр павла слободкина   нет   \n",
       "4462   26394                             центр павла слободкина   нет   \n",
       "4917  121351                                           столовая   нет   \n",
       "5058   20019                                               lift   нет   \n",
       "5060   20015                                               lift   нет   \n",
       "\n",
       "     object_type                                            address  number  \n",
       "114   закусочная       город москва, бригадирский переулок, дом 3-5     216  \n",
       "115        буфет       город москва, бригадирский переулок, дом 3-5      12  \n",
       "579     столовая            город москва, павелецкая площадь, дом 1      70  \n",
       "580         кафе            город москва, павелецкая площадь, дом 1      35  \n",
       "581         кафе            город москва, павелецкая площадь, дом 1      39  \n",
       "1409        кафе         город москва, город зеленоград, корпус 438      45  \n",
       "1648        кафе  город москва, большая грузинская улица, дом 37...      50  \n",
       "2375    столовая  город москва, 2-я бауманская улица, дом 5, стр...     150  \n",
       "2376   кафетерий  город москва, 2-я бауманская улица, дом 5, стр...      35  \n",
       "2377       буфет  город москва, 2-я бауманская улица, дом 5, стр...      16  \n",
       "2378  закусочная  город москва, 2-я бауманская улица, дом 5, стр...      16  \n",
       "2379       буфет  город москва, 2-я бауманская улица, дом 5, стр...      30  \n",
       "2380    столовая  город москва, 2-я бауманская улица, дом 5, стр...     200  \n",
       "2382    столовая  город москва, 2-я бауманская улица, дом 5, стр...     168  \n",
       "2383  закусочная  город москва, 2-я бауманская улица, дом 5, стр...      64  \n",
       "2384    столовая  город москва, 2-я бауманская улица, дом 5, стр...     108  \n",
       "2394    столовая  город москва, 2-я бауманская улица, дом 5, стр...      80  \n",
       "2398       буфет          город москва, гороховский переулок, дом 4      10  \n",
       "2435    столовая              город москва, заводское шоссе, дом 15      10  \n",
       "2565        кафе     город москва, улица вавилова, дом 57, корпус 1      40  \n",
       "2978    столовая               город москва, флотская улица, дом 11     150  \n",
       "3468        кафе      город москва, ленинградский проспект, дом 24а      25  \n",
       "3747       буфет  город москва, красноказарменная улица, дом 14,...     160  \n",
       "4042    столовая  город москва, улица борисовские пруды, дом 20,...     200  \n",
       "4379        кафе      город москва, молодогвардейская улица, дом 13      60  \n",
       "4461       буфет      город москва, улица арбат, дом 48, строение 1      50  \n",
       "4462       буфет      город москва, улица арбат, дом 48, строение 1      55  \n",
       "4917    столовая  город москва, старый петровско-разумовский про...      40  \n",
       "5058        кафе  город москва, багратионовский проезд, дом 7, к...      20  \n",
       "5060        кафе  город москва, багратионовский проезд, дом 7, к...      40  "
      ]
     },
     "execution_count": 10,
     "metadata": {},
     "output_type": "execute_result"
    }
   ],
   "source": [
    "#посмотрим на эти значения\n",
    "df[df.duplicated(subset=['object_name', 'address'])].head(30)"
   ]
  },
  {
   "cell_type": "markdown",
   "metadata": {},
   "source": [
    "У нас есть заведения у которых совпадает название и адрес, но типы заведений разные. У таких данных сильно различаются посадочные места, что может говорить о том, что  один тип заведения включает другой. В таком случае мы можем удалить дубликаты таких данных и не углубляться, потому что их не так много и они не повлияют на результат"
   ]
  },
  {
   "cell_type": "code",
   "execution_count": 11,
   "metadata": {},
   "outputs": [],
   "source": [
    "df = df.drop_duplicates(subset=['object_name', 'address'])"
   ]
  },
  {
   "cell_type": "code",
   "execution_count": 12,
   "metadata": {},
   "outputs": [
    {
     "data": {
      "text/plain": [
       "array(['кафе', 'столовая', 'закусочная',\n",
       "       'предприятие быстрого обслуживания', 'ресторан', 'кафетерий',\n",
       "       'буфет', 'бар', 'магазин (отдел кулинарии)'], dtype=object)"
      ]
     },
     "execution_count": 12,
     "metadata": {},
     "output_type": "execute_result"
    }
   ],
   "source": [
    "#посмотрим уникальные значения типов объектов\n",
    "df['object_type'].unique()"
   ]
  },
  {
   "cell_type": "code",
   "execution_count": 13,
   "metadata": {},
   "outputs": [
    {
     "data": {
      "text/plain": [
       "id             0.0\n",
       "object_name    0.0\n",
       "chain          0.0\n",
       "object_type    0.0\n",
       "address        0.0\n",
       "number         0.0\n",
       "dtype: float64"
      ]
     },
     "execution_count": 13,
     "metadata": {},
     "output_type": "execute_result"
    }
   ],
   "source": [
    "round((df.isna().mean()*100),2)"
   ]
  },
  {
   "cell_type": "markdown",
   "metadata": {},
   "source": [
    "Нулевых значений нет"
   ]
  },
  {
   "cell_type": "code",
   "execution_count": 14,
   "metadata": {},
   "outputs": [
    {
     "data": {
      "text/plain": [
       "0"
      ]
     },
     "execution_count": 14,
     "metadata": {},
     "output_type": "execute_result"
    }
   ],
   "source": [
    "df['number'].min()"
   ]
  },
  {
   "cell_type": "code",
   "execution_count": 15,
   "metadata": {},
   "outputs": [
    {
     "data": {
      "text/plain": [
       "1700"
      ]
     },
     "execution_count": 15,
     "metadata": {},
     "output_type": "execute_result"
    }
   ],
   "source": [
    "df['number'].max()"
   ]
  },
  {
   "cell_type": "code",
   "execution_count": 16,
   "metadata": {},
   "outputs": [
    {
     "data": {
      "text/plain": [
       "0      1576\n",
       "40      826\n",
       "20      716\n",
       "30      677\n",
       "10      625\n",
       "       ... \n",
       "491       1\n",
       "675       1\n",
       "455       1\n",
       "167       1\n",
       "495       1\n",
       "Name: number, Length: 315, dtype: int64"
      ]
     },
     "execution_count": 16,
     "metadata": {},
     "output_type": "execute_result"
    }
   ],
   "source": [
    "df['number'].value_counts(ascending = False)"
   ]
  },
  {
   "cell_type": "code",
   "execution_count": 17,
   "metadata": {},
   "outputs": [
    {
     "data": {
      "text/plain": [
       "<AxesSubplot:>"
      ]
     },
     "execution_count": 17,
     "metadata": {},
     "output_type": "execute_result"
    },
    {
     "data": {
      "image/png": "[encoded data removed]",
      "text/plain": [
       "<Figure size 432x288 with 1 Axes>"
      ]
     },
     "metadata": {
      "needs_background": "light"
     },
     "output_type": "display_data"
    }
   ],
   "source": [
    "df['number'].hist(bins = 20, range=(600, 1800))"
   ]
  },
  {
   "cell_type": "markdown",
   "metadata": {},
   "source": [
    "У нас есть заведения где 0 посадочных мест, что нормально для некоторых типов заведений. Есть заведения с посадочными местами больше 600, которые вызывают некоторые подозрения. Удалим их"
   ]
  },
  {
   "cell_type": "code",
   "execution_count": 18,
   "metadata": {},
   "outputs": [],
   "source": [
    "df = df.query('number < 600')"
   ]
  },
  {
   "cell_type": "code",
   "execution_count": 19,
   "metadata": {},
   "outputs": [
    {
     "data": {
      "text/plain": [
       "True"
      ]
     },
     "execution_count": 19,
     "metadata": {},
     "output_type": "execute_result"
    }
   ],
   "source": [
    "#проверка на отрицательные значения\n",
    "df['number'].any()"
   ]
  },
  {
   "cell_type": "code",
   "execution_count": 20,
   "metadata": {},
   "outputs": [],
   "source": [
    "# делаем все значения положительными в столбце\n",
    "df['number'] = df['number'].abs()"
   ]
  },
  {
   "cell_type": "markdown",
   "metadata": {},
   "source": [
    "### Вывод:\n",
    "* Все строки приведены к нижнему регистру\n",
    "* 85 строк с дубликатами были удалены\n",
    "* с типами данных всё в порядке\n",
    "* удалены заведения с посадочными местами больше 600\n",
    "* найдены заведения с отрицательным количеством посадочных мест и взяли их по модулю\n",
    "* заведения с 0 количеством посадочных мест не исключены, так как действительно существуют"
   ]
  },
  {
   "cell_type": "markdown",
   "metadata": {},
   "source": [
    "# Шаг №2. Анализ данных"
   ]
  },
  {
   "cell_type": "markdown",
   "metadata": {},
   "source": [
    "### Исследуйте соотношение видов объектов общественного питания по количеству. Постройте график."
   ]
  },
  {
   "cell_type": "code",
   "execution_count": 21,
   "metadata": {},
   "outputs": [],
   "source": [
    "df_type = df.groupby('object_type').sum().reset_index()\n",
    "df_type = df_type.sort_values(by = 'number', ascending = False)"
   ]
  },
  {
   "cell_type": "code",
   "execution_count": 22,
   "metadata": {},
   "outputs": [
    {
     "data": {
      "image/png": "[encoded data removed]",
      "text/plain": [
       "<Figure size 1800x1080 with 1 Axes>"
      ]
     },
     "metadata": {
      "needs_background": "light"
     },
     "output_type": "display_data"
    }
   ],
   "source": [
    "plt.figure(figsize=(25,15))\n",
    "plt.bar(df_type['object_type'], df_type['number'], color=['cornflowerblue'])\n",
    "plt.title('Количество посадочных мест на тип заведения')\n",
    "plt.xlabel('Тип заведения')\n",
    "plt.ylabel('Количество сидений');\n",
    "#plt.legend() "
   ]
  },
  {
   "cell_type": "code",
   "execution_count": 23,
   "metadata": {},
   "outputs": [],
   "source": [
    "temp2 = df.groupby('object_type')['object_type'].count()\n",
    "#temp2.to_frame()"
   ]
  },
  {
   "cell_type": "code",
   "execution_count": 24,
   "metadata": {},
   "outputs": [
    {
     "data": {
      "image/png": "[encoded data removed]",
      "text/plain": [
       "<Figure size 720x720 with 1 Axes>"
      ]
     },
     "metadata": {},
     "output_type": "display_data"
    }
   ],
   "source": [
    "pie_type = temp2.plot(kind='pie', autopct='%1.1f%%', legend=True, figsize=(10,10), y= 'object_type')\n",
    "pie_type.set_title('Cоотношение типов заведений');"
   ]
  },
  {
   "cell_type": "markdown",
   "metadata": {},
   "source": [
    "*Столовая, кафе и ресторан явно преобладают по количеству мест. Также они выигрывают по количеству заведений*"
   ]
  },
  {
   "cell_type": "markdown",
   "metadata": {},
   "source": [
    "### Исследуйте соотношение сетевых и несетевых заведений по количеству. Постройте график."
   ]
  },
  {
   "cell_type": "code",
   "execution_count": 25,
   "metadata": {},
   "outputs": [
    {
     "data": {
      "text/plain": [
       "chain\n",
       "да      2937\n",
       "нет    12185\n",
       "Name: object_name, dtype: int64"
      ]
     },
     "execution_count": 25,
     "metadata": {},
     "output_type": "execute_result"
    }
   ],
   "source": [
    "chain_share = df.groupby('chain')['object_name'].count()\n",
    "chain_share"
   ]
  },
  {
   "cell_type": "code",
   "execution_count": 26,
   "metadata": {},
   "outputs": [
    {
     "data": {
      "image/png": "[encoded data removed]",
      "text/plain": [
       "<Figure size 720x720 with 1 Axes>"
      ]
     },
     "metadata": {},
     "output_type": "display_data"
    }
   ],
   "source": [
    "pie_chain = chain_share.plot(kind='pie', autopct='%1.1f%%', legend=True, figsize=(10,10), y= 'object_type|')\n",
    "pie_chain.set_title('Cоотношение сетевых и несетевых заведений');"
   ]
  },
  {
   "cell_type": "markdown",
   "metadata": {},
   "source": [
    "*Несетевых мест в 4 раза больше чем сетевых*"
   ]
  },
  {
   "cell_type": "markdown",
   "metadata": {},
   "source": [
    "### Для какого вида объекта общественного питания характерно сетевое распространение?"
   ]
  },
  {
   "cell_type": "code",
   "execution_count": 27,
   "metadata": {},
   "outputs": [
    {
     "data": {
      "text/html": [
       "<div>\n",
       "<style scoped>\n",
       "    .dataframe tbody tr th:only-of-type {\n",
       "        vertical-align: middle;\n",
       "    }\n",
       "\n",
       "    .dataframe tbody tr th {\n",
       "        vertical-align: top;\n",
       "    }\n",
       "\n",
       "    .dataframe thead th {\n",
       "        text-align: right;\n",
       "    }\n",
       "</style>\n",
       "<table border=\"1\" class=\"dataframe\">\n",
       "  <thead>\n",
       "    <tr style=\"text-align: right;\">\n",
       "      <th></th>\n",
       "      <th>id</th>\n",
       "      <th>object_name</th>\n",
       "      <th>chain</th>\n",
       "      <th>object_type</th>\n",
       "      <th>address</th>\n",
       "      <th>number</th>\n",
       "    </tr>\n",
       "  </thead>\n",
       "  <tbody>\n",
       "    <tr>\n",
       "      <th>3</th>\n",
       "      <td>21894</td>\n",
       "      <td>пиццетория</td>\n",
       "      <td>да</td>\n",
       "      <td>кафе</td>\n",
       "      <td>город москва, абрамцевская улица, дом 1</td>\n",
       "      <td>40</td>\n",
       "    </tr>\n",
       "    <tr>\n",
       "      <th>6</th>\n",
       "      <td>148815</td>\n",
       "      <td>брусника</td>\n",
       "      <td>да</td>\n",
       "      <td>кафе</td>\n",
       "      <td>город москва, переулок сивцев вражек, дом 6/2</td>\n",
       "      <td>10</td>\n",
       "    </tr>\n",
       "    <tr>\n",
       "      <th>13</th>\n",
       "      <td>22579</td>\n",
       "      <td>алло пицца</td>\n",
       "      <td>да</td>\n",
       "      <td>кафе</td>\n",
       "      <td>город москва, улица авиаторов, дом 14</td>\n",
       "      <td>32</td>\n",
       "    </tr>\n",
       "    <tr>\n",
       "      <th>16</th>\n",
       "      <td>144107</td>\n",
       "      <td>суши wok</td>\n",
       "      <td>да</td>\n",
       "      <td>предприятие быстрого обслуживания</td>\n",
       "      <td>город москва, азовская улица, дом 3</td>\n",
       "      <td>7</td>\n",
       "    </tr>\n",
       "    <tr>\n",
       "      <th>18</th>\n",
       "      <td>58565</td>\n",
       "      <td>тануки</td>\n",
       "      <td>да</td>\n",
       "      <td>ресторан</td>\n",
       "      <td>город москва, большая академическая улица, дом 65</td>\n",
       "      <td>160</td>\n",
       "    </tr>\n",
       "    <tr>\n",
       "      <th>...</th>\n",
       "      <td>...</td>\n",
       "      <td>...</td>\n",
       "      <td>...</td>\n",
       "      <td>...</td>\n",
       "      <td>...</td>\n",
       "      <td>...</td>\n",
       "    </tr>\n",
       "    <tr>\n",
       "      <th>15359</th>\n",
       "      <td>222077</td>\n",
       "      <td>кофейня «шоколадница»</td>\n",
       "      <td>да</td>\n",
       "      <td>кафе</td>\n",
       "      <td>город москва, кантемировская улица, дом 47</td>\n",
       "      <td>72</td>\n",
       "    </tr>\n",
       "    <tr>\n",
       "      <th>15360</th>\n",
       "      <td>219759</td>\n",
       "      <td>шоколадница</td>\n",
       "      <td>да</td>\n",
       "      <td>кафе</td>\n",
       "      <td>город москва, улица вавилова, дом 3</td>\n",
       "      <td>36</td>\n",
       "    </tr>\n",
       "    <tr>\n",
       "      <th>15361</th>\n",
       "      <td>208537</td>\n",
       "      <td>шоколадница</td>\n",
       "      <td>да</td>\n",
       "      <td>кафе</td>\n",
       "      <td>город москва, 3-й крутицкий переулок, дом 18</td>\n",
       "      <td>50</td>\n",
       "    </tr>\n",
       "    <tr>\n",
       "      <th>15362</th>\n",
       "      <td>209264</td>\n",
       "      <td>шоколадница</td>\n",
       "      <td>да</td>\n",
       "      <td>кафе</td>\n",
       "      <td>город москва, улица земляной вал, дом 33</td>\n",
       "      <td>10</td>\n",
       "    </tr>\n",
       "    <tr>\n",
       "      <th>15364</th>\n",
       "      <td>221900</td>\n",
       "      <td>шоколадница</td>\n",
       "      <td>да</td>\n",
       "      <td>кафе</td>\n",
       "      <td>город москва, поселение московский, киевское ш...</td>\n",
       "      <td>36</td>\n",
       "    </tr>\n",
       "  </tbody>\n",
       "</table>\n",
       "<p>2937 rows × 6 columns</p>\n",
       "</div>"
      ],
      "text/plain": [
       "           id            object_name chain                        object_type  \\\n",
       "3       21894             пиццетория    да                               кафе   \n",
       "6      148815               брусника    да                               кафе   \n",
       "13      22579             алло пицца    да                               кафе   \n",
       "16     144107               суши wok    да  предприятие быстрого обслуживания   \n",
       "18      58565                 тануки    да                           ресторан   \n",
       "...       ...                    ...   ...                                ...   \n",
       "15359  222077  кофейня «шоколадница»    да                               кафе   \n",
       "15360  219759            шоколадница    да                               кафе   \n",
       "15361  208537            шоколадница    да                               кафе   \n",
       "15362  209264            шоколадница    да                               кафе   \n",
       "15364  221900            шоколадница    да                               кафе   \n",
       "\n",
       "                                                 address  number  \n",
       "3                город москва, абрамцевская улица, дом 1      40  \n",
       "6          город москва, переулок сивцев вражек, дом 6/2      10  \n",
       "13                 город москва, улица авиаторов, дом 14      32  \n",
       "16                   город москва, азовская улица, дом 3       7  \n",
       "18     город москва, большая академическая улица, дом 65     160  \n",
       "...                                                  ...     ...  \n",
       "15359         город москва, кантемировская улица, дом 47      72  \n",
       "15360                город москва, улица вавилова, дом 3      36  \n",
       "15361       город москва, 3-й крутицкий переулок, дом 18      50  \n",
       "15362           город москва, улица земляной вал, дом 33      10  \n",
       "15364  город москва, поселение московский, киевское ш...      36  \n",
       "\n",
       "[2937 rows x 6 columns]"
      ]
     },
     "execution_count": 27,
     "metadata": {},
     "output_type": "execute_result"
    }
   ],
   "source": [
    "bar_chain = df[df['chain'] == 'да']\n",
    "bar_chain"
   ]
  },
  {
   "cell_type": "code",
   "execution_count": 28,
   "metadata": {},
   "outputs": [],
   "source": [
    "chain = bar_chain.groupby('object_type')['object_type'].count()\n",
    "chain = chain.sort_values(ascending = False)\n",
    "#a = chain.to_frame()#.reset_index()"
   ]
  },
  {
   "cell_type": "code",
   "execution_count": 29,
   "metadata": {},
   "outputs": [
    {
     "data": {
      "image/png": "[encoded data removed]",
      "text/plain": [
       "<Figure size 720x720 with 1 Axes>"
      ]
     },
     "metadata": {},
     "output_type": "display_data"
    }
   ],
   "source": [
    "# Сетевое распространение по типам заведений НЕ УЧИТЫВАЯ разное количество заведений по типам\n",
    "pie_chain = chain.plot(kind='pie', autopct='%1.1f%%', legend=True, figsize=(10,10), y= 'object_type|')\n",
    "pie_chain.set_title('Сетевое распространение по типам заведений');"
   ]
  },
  {
   "cell_type": "code",
   "execution_count": 30,
   "metadata": {},
   "outputs": [
    {
     "data": {
      "text/html": [
       "<div>\n",
       "<style scoped>\n",
       "    .dataframe tbody tr th:only-of-type {\n",
       "        vertical-align: middle;\n",
       "    }\n",
       "\n",
       "    .dataframe tbody tr th {\n",
       "        vertical-align: top;\n",
       "    }\n",
       "\n",
       "    .dataframe thead th {\n",
       "        text-align: right;\n",
       "    }\n",
       "</style>\n",
       "<table border=\"1\" class=\"dataframe\">\n",
       "  <thead>\n",
       "    <tr style=\"text-align: right;\">\n",
       "      <th>chain</th>\n",
       "      <th>да</th>\n",
       "      <th>нет</th>\n",
       "      <th>percent</th>\n",
       "    </tr>\n",
       "    <tr>\n",
       "      <th>object_type</th>\n",
       "      <th></th>\n",
       "      <th></th>\n",
       "      <th></th>\n",
       "    </tr>\n",
       "  </thead>\n",
       "  <tbody>\n",
       "    <tr>\n",
       "      <th>предприятие быстрого обслуживания</th>\n",
       "      <td>782</td>\n",
       "      <td>1103</td>\n",
       "      <td>41.5</td>\n",
       "    </tr>\n",
       "    <tr>\n",
       "      <th>магазин (отдел кулинарии)</th>\n",
       "      <td>78</td>\n",
       "      <td>194</td>\n",
       "      <td>28.7</td>\n",
       "    </tr>\n",
       "    <tr>\n",
       "      <th>ресторан</th>\n",
       "      <td>539</td>\n",
       "      <td>1720</td>\n",
       "      <td>23.9</td>\n",
       "    </tr>\n",
       "    <tr>\n",
       "      <th>кафе</th>\n",
       "      <td>1382</td>\n",
       "      <td>4609</td>\n",
       "      <td>23.1</td>\n",
       "    </tr>\n",
       "    <tr>\n",
       "      <th>закусочная</th>\n",
       "      <td>56</td>\n",
       "      <td>288</td>\n",
       "      <td>16.3</td>\n",
       "    </tr>\n",
       "    <tr>\n",
       "      <th>кафетерий</th>\n",
       "      <td>51</td>\n",
       "      <td>341</td>\n",
       "      <td>13.0</td>\n",
       "    </tr>\n",
       "    <tr>\n",
       "      <th>бар</th>\n",
       "      <td>37</td>\n",
       "      <td>811</td>\n",
       "      <td>4.4</td>\n",
       "    </tr>\n",
       "    <tr>\n",
       "      <th>буфет</th>\n",
       "      <td>9</td>\n",
       "      <td>556</td>\n",
       "      <td>1.6</td>\n",
       "    </tr>\n",
       "    <tr>\n",
       "      <th>столовая</th>\n",
       "      <td>3</td>\n",
       "      <td>2563</td>\n",
       "      <td>0.1</td>\n",
       "    </tr>\n",
       "  </tbody>\n",
       "</table>\n",
       "</div>"
      ],
      "text/plain": [
       "chain                                да   нет  percent\n",
       "object_type                                           \n",
       "предприятие быстрого обслуживания   782  1103     41.5\n",
       "магазин (отдел кулинарии)            78   194     28.7\n",
       "ресторан                            539  1720     23.9\n",
       "кафе                               1382  4609     23.1\n",
       "закусочная                           56   288     16.3\n",
       "кафетерий                            51   341     13.0\n",
       "бар                                  37   811      4.4\n",
       "буфет                                 9   556      1.6\n",
       "столовая                              3  2563      0.1"
      ]
     },
     "execution_count": 30,
     "metadata": {},
     "output_type": "execute_result"
    }
   ],
   "source": [
    "# Сетевое распространение по типам заведений УЧИТЫВАЯ разное количество заведений по типам\n",
    "df1 = df.pivot_table(index='object_type', columns='chain', aggfunc='count', values='id')\n",
    "df1['percent'] = (df1['да'] / (df1['нет'] + df1['да']))*100\n",
    "df1.sort_values(by='percent', ascending=False).round(1)"
   ]
  },
  {
   "cell_type": "markdown",
   "metadata": {},
   "source": [
    "* Сетевое распространение по типам заведений, **НЕ УЧИТЫВАЯ** разное количество заведений по типам, больше всего приходится на: кафе, предприятия быстрого обслуживания и рестораны\n",
    "\n",
    "* Сетевое распространение по типам заведений, **УЧИТЫВАЯ** разное количество заведений по типам, больше всего приходится на: предприятия быстрого обслуживания, магазины (отдел кулинарии), рестораны, кафе\n"
   ]
  },
  {
   "cell_type": "markdown",
   "metadata": {},
   "source": [
    "### Что характерно для сетевых заведений: много заведений с небольшим числом посадочных мест в каждом или мало заведений с большим количеством посадочных мест?"
   ]
  },
  {
   "cell_type": "code",
   "execution_count": 31,
   "metadata": {},
   "outputs": [
    {
     "data": {
      "image/png": "[encoded data removed]",
      "text/plain": [
       "<Figure size 1800x1080 with 1 Axes>"
      ]
     },
     "metadata": {
      "needs_background": "light"
     },
     "output_type": "display_data"
    }
   ],
   "source": [
    "plt.figure(figsize=(25,15))\n",
    "bar_chain['number'].hist(bins=30)\n",
    "plt.title('Гистограмма распределения количества посадочных мест')\n",
    "plt.xlabel('Количество мест')\n",
    "plt.ylabel('Количество заведений')\n",
    "plt.show()"
   ]
  },
  {
   "cell_type": "code",
   "execution_count": 32,
   "metadata": {},
   "outputs": [
    {
     "data": {
      "image/png": "[encoded data removed]",
      "text/plain": [
       "<Figure size 432x288 with 1 Axes>"
      ]
     },
     "metadata": {
      "needs_background": "light"
     },
     "output_type": "display_data"
    }
   ],
   "source": [
    "ax = sns.scatterplot(x='number', y='object_type', data=bar_chain, palette=\"hls\")\n",
    "ax.set_title('Распределение количества посадочных мест в сегменте сетевых заведений');\n",
    "ax.set_xlabel('Количество посадочных мест');"
   ]
  },
  {
   "cell_type": "markdown",
   "metadata": {},
   "source": [
    "*Для сетевых заведений характерно большое количество заведений с небольшим количеством посадочных мест*"
   ]
  },
  {
   "cell_type": "markdown",
   "metadata": {},
   "source": [
    "### Для каждого вида объекта общественного питания опишите среднее количество посадочных мест. Какой вид предоставляет в среднем самое большое количество посадочных мест? Постройте графики."
   ]
  },
  {
   "cell_type": "code",
   "execution_count": 33,
   "metadata": {},
   "outputs": [
    {
     "data": {
      "text/plain": [
       "0        48\n",
       "1        35\n",
       "2        95\n",
       "3        40\n",
       "4        50\n",
       "         ..\n",
       "15359    72\n",
       "15360    36\n",
       "15361    50\n",
       "15362    10\n",
       "15364    36\n",
       "Name: number, Length: 15122, dtype: int64"
      ]
     },
     "execution_count": 33,
     "metadata": {},
     "output_type": "execute_result"
    }
   ],
   "source": [
    "df['number']"
   ]
  },
  {
   "cell_type": "code",
   "execution_count": 34,
   "metadata": {},
   "outputs": [
    {
     "data": {
      "text/html": [
       "<div>\n",
       "<style scoped>\n",
       "    .dataframe tbody tr th:only-of-type {\n",
       "        vertical-align: middle;\n",
       "    }\n",
       "\n",
       "    .dataframe tbody tr th {\n",
       "        vertical-align: top;\n",
       "    }\n",
       "\n",
       "    .dataframe thead th {\n",
       "        text-align: right;\n",
       "    }\n",
       "</style>\n",
       "<table border=\"1\" class=\"dataframe\">\n",
       "  <thead>\n",
       "    <tr style=\"text-align: right;\">\n",
       "      <th></th>\n",
       "      <th>object_type</th>\n",
       "      <th>number</th>\n",
       "    </tr>\n",
       "  </thead>\n",
       "  <tbody>\n",
       "    <tr>\n",
       "      <th>0</th>\n",
       "      <td>столовая</td>\n",
       "      <td>103</td>\n",
       "    </tr>\n",
       "    <tr>\n",
       "      <th>1</th>\n",
       "      <td>ресторан</td>\n",
       "      <td>80</td>\n",
       "    </tr>\n",
       "    <tr>\n",
       "      <th>2</th>\n",
       "      <td>бар</td>\n",
       "      <td>35</td>\n",
       "    </tr>\n",
       "    <tr>\n",
       "      <th>3</th>\n",
       "      <td>буфет</td>\n",
       "      <td>32</td>\n",
       "    </tr>\n",
       "    <tr>\n",
       "      <th>4</th>\n",
       "      <td>кафе</td>\n",
       "      <td>32</td>\n",
       "    </tr>\n",
       "    <tr>\n",
       "      <th>5</th>\n",
       "      <td>кафетерий</td>\n",
       "      <td>6</td>\n",
       "    </tr>\n",
       "    <tr>\n",
       "      <th>6</th>\n",
       "      <td>предприятие быстрого обслуживания</td>\n",
       "      <td>6</td>\n",
       "    </tr>\n",
       "    <tr>\n",
       "      <th>7</th>\n",
       "      <td>закусочная</td>\n",
       "      <td>0</td>\n",
       "    </tr>\n",
       "    <tr>\n",
       "      <th>8</th>\n",
       "      <td>магазин (отдел кулинарии)</td>\n",
       "      <td>0</td>\n",
       "    </tr>\n",
       "  </tbody>\n",
       "</table>\n",
       "</div>"
      ],
      "text/plain": [
       "                         object_type  number\n",
       "0                           столовая     103\n",
       "1                           ресторан      80\n",
       "2                                бар      35\n",
       "3                              буфет      32\n",
       "4                               кафе      32\n",
       "5                          кафетерий       6\n",
       "6  предприятие быстрого обслуживания       6\n",
       "7                         закусочная       0\n",
       "8          магазин (отдел кулинарии)       0"
      ]
     },
     "execution_count": 34,
     "metadata": {},
     "output_type": "execute_result"
    }
   ],
   "source": [
    "#найдем медианные значения числа посадочных мест\n",
    "seats_by_object = df.groupby('object_type').agg({'number':'median'}).sort_values(by='number', ascending=False).reset_index()\n",
    "seats_by_object"
   ]
  },
  {
   "cell_type": "code",
   "execution_count": 35,
   "metadata": {},
   "outputs": [
    {
     "data": {
      "text/html": [
       "<div>\n",
       "<style scoped>\n",
       "    .dataframe tbody tr th:only-of-type {\n",
       "        vertical-align: middle;\n",
       "    }\n",
       "\n",
       "    .dataframe tbody tr th {\n",
       "        vertical-align: top;\n",
       "    }\n",
       "\n",
       "    .dataframe thead th {\n",
       "        text-align: right;\n",
       "    }\n",
       "</style>\n",
       "<table border=\"1\" class=\"dataframe\">\n",
       "  <thead>\n",
       "    <tr style=\"text-align: right;\">\n",
       "      <th></th>\n",
       "      <th>object_type</th>\n",
       "      <th>number</th>\n",
       "    </tr>\n",
       "  </thead>\n",
       "  <tbody>\n",
       "    <tr>\n",
       "      <th>0</th>\n",
       "      <td>столовая</td>\n",
       "      <td>128.669135</td>\n",
       "    </tr>\n",
       "    <tr>\n",
       "      <th>1</th>\n",
       "      <td>ресторан</td>\n",
       "      <td>93.031430</td>\n",
       "    </tr>\n",
       "    <tr>\n",
       "      <th>2</th>\n",
       "      <td>буфет</td>\n",
       "      <td>51.660177</td>\n",
       "    </tr>\n",
       "    <tr>\n",
       "      <th>3</th>\n",
       "      <td>бар</td>\n",
       "      <td>41.707547</td>\n",
       "    </tr>\n",
       "    <tr>\n",
       "      <th>4</th>\n",
       "      <td>кафе</td>\n",
       "      <td>39.915707</td>\n",
       "    </tr>\n",
       "    <tr>\n",
       "      <th>5</th>\n",
       "      <td>предприятие быстрого обслуживания</td>\n",
       "      <td>20.743767</td>\n",
       "    </tr>\n",
       "    <tr>\n",
       "      <th>6</th>\n",
       "      <td>кафетерий</td>\n",
       "      <td>9.155612</td>\n",
       "    </tr>\n",
       "    <tr>\n",
       "      <th>7</th>\n",
       "      <td>закусочная</td>\n",
       "      <td>6.904070</td>\n",
       "    </tr>\n",
       "    <tr>\n",
       "      <th>8</th>\n",
       "      <td>магазин (отдел кулинарии)</td>\n",
       "      <td>5.610294</td>\n",
       "    </tr>\n",
       "  </tbody>\n",
       "</table>\n",
       "</div>"
      ],
      "text/plain": [
       "                         object_type      number\n",
       "0                           столовая  128.669135\n",
       "1                           ресторан   93.031430\n",
       "2                              буфет   51.660177\n",
       "3                                бар   41.707547\n",
       "4                               кафе   39.915707\n",
       "5  предприятие быстрого обслуживания   20.743767\n",
       "6                          кафетерий    9.155612\n",
       "7                         закусочная    6.904070\n",
       "8          магазин (отдел кулинарии)    5.610294"
      ]
     },
     "execution_count": 35,
     "metadata": {},
     "output_type": "execute_result"
    }
   ],
   "source": [
    "#найдем средние значения числа посадочных мест\n",
    "seats_mean = df.groupby('object_type').agg({'number':'mean'}).sort_values(by='number', ascending=False).reset_index()\n",
    "seats_mean"
   ]
  },
  {
   "cell_type": "code",
   "execution_count": 36,
   "metadata": {},
   "outputs": [
    {
     "data": {
      "image/png": "[encoded data removed]",
      "text/plain": [
       "<Figure size 1656x720 with 1 Axes>"
      ]
     },
     "metadata": {
      "needs_background": "light"
     },
     "output_type": "display_data"
    }
   ],
   "source": [
    "plt.figure(figsize=(23,10))\n",
    "ax = sns.barplot(y='number', x='object_type', data=seats_mean, palette=\"hls\")\n",
    "ax.set_ylim(0,160)\n",
    "ax.set_ylabel('Тип объекта')\n",
    "ax.set_xlabel('Среднее количество мест')\n",
    "ax.set_title('Среднее количествово мест на объектах общественного питания');"
   ]
  },
  {
   "cell_type": "code",
   "execution_count": 37,
   "metadata": {
    "scrolled": true
   },
   "outputs": [],
   "source": [
    "#ax = sns.boxplot(x='number', y='object_type', data=df, palette=\"hls\")\n",
    "#ax.set_xlim(-50,1000)\n",
    "#ax.set_xlabel('Количество посадочных мест');\n",
    "#ax.set_title('Распределение количества посадочных мест');"
   ]
  },
  {
   "cell_type": "markdown",
   "metadata": {},
   "source": [
    "*Столовые и рестораны обладают наибольшим числом посадочным мест*"
   ]
  },
  {
   "cell_type": "markdown",
   "metadata": {},
   "source": [
    "### Выделите в отдельный столбец информацию об улице из столбца *address* ."
   ]
  },
  {
   "cell_type": "code",
   "execution_count": 38,
   "metadata": {},
   "outputs": [],
   "source": [
    "df_street = df\n",
    "df_street['street'] = df_street['address'].apply(lambda x: x.split(', ')[1])"
   ]
  },
  {
   "cell_type": "code",
   "execution_count": 39,
   "metadata": {},
   "outputs": [
    {
     "data": {
      "text/html": [
       "<div>\n",
       "<style scoped>\n",
       "    .dataframe tbody tr th:only-of-type {\n",
       "        vertical-align: middle;\n",
       "    }\n",
       "\n",
       "    .dataframe tbody tr th {\n",
       "        vertical-align: top;\n",
       "    }\n",
       "\n",
       "    .dataframe thead th {\n",
       "        text-align: right;\n",
       "    }\n",
       "</style>\n",
       "<table border=\"1\" class=\"dataframe\">\n",
       "  <thead>\n",
       "    <tr style=\"text-align: right;\">\n",
       "      <th></th>\n",
       "      <th>id</th>\n",
       "      <th>object_name</th>\n",
       "      <th>chain</th>\n",
       "      <th>object_type</th>\n",
       "      <th>address</th>\n",
       "      <th>number</th>\n",
       "      <th>street</th>\n",
       "    </tr>\n",
       "  </thead>\n",
       "  <tbody>\n",
       "    <tr>\n",
       "      <th>9002</th>\n",
       "      <td>163125</td>\n",
       "      <td>sushi love</td>\n",
       "      <td>нет</td>\n",
       "      <td>кафе</td>\n",
       "      <td>город москва, улица декабристов, дом 20, корпус 1</td>\n",
       "      <td>4</td>\n",
       "      <td>улица декабристов</td>\n",
       "    </tr>\n",
       "    <tr>\n",
       "      <th>15078</th>\n",
       "      <td>221050</td>\n",
       "      <td>прайм стар</td>\n",
       "      <td>да</td>\n",
       "      <td>кафе</td>\n",
       "      <td>город москва, мясницкая улица, дом 24/7, строе...</td>\n",
       "      <td>38</td>\n",
       "      <td>мясницкая улица</td>\n",
       "    </tr>\n",
       "    <tr>\n",
       "      <th>6215</th>\n",
       "      <td>29099</td>\n",
       "      <td>школьно-базовая столовая</td>\n",
       "      <td>нет</td>\n",
       "      <td>столовая</td>\n",
       "      <td>город москва, бартеневская улица, дом 49, корп...</td>\n",
       "      <td>120</td>\n",
       "      <td>бартеневская улица</td>\n",
       "    </tr>\n",
       "    <tr>\n",
       "      <th>15030</th>\n",
       "      <td>214323</td>\n",
       "      <td>osteria mario</td>\n",
       "      <td>да</td>\n",
       "      <td>ресторан</td>\n",
       "      <td>город москва, проспект вернадского, дом 6</td>\n",
       "      <td>50</td>\n",
       "      <td>проспект вернадского</td>\n",
       "    </tr>\n",
       "    <tr>\n",
       "      <th>7976</th>\n",
       "      <td>124196</td>\n",
       "      <td>мама-карло</td>\n",
       "      <td>нет</td>\n",
       "      <td>ресторан</td>\n",
       "      <td>город москва, улица земляной вал, дом 33</td>\n",
       "      <td>61</td>\n",
       "      <td>улица земляной вал</td>\n",
       "    </tr>\n",
       "  </tbody>\n",
       "</table>\n",
       "</div>"
      ],
      "text/plain": [
       "           id               object_name chain object_type  \\\n",
       "9002   163125                sushi love   нет        кафе   \n",
       "15078  221050                прайм стар    да        кафе   \n",
       "6215    29099  школьно-базовая столовая   нет    столовая   \n",
       "15030  214323             osteria mario    да    ресторан   \n",
       "7976   124196                мама-карло   нет    ресторан   \n",
       "\n",
       "                                                 address  number  \\\n",
       "9002   город москва, улица декабристов, дом 20, корпус 1       4   \n",
       "15078  город москва, мясницкая улица, дом 24/7, строе...      38   \n",
       "6215   город москва, бартеневская улица, дом 49, корп...     120   \n",
       "15030          город москва, проспект вернадского, дом 6      50   \n",
       "7976            город москва, улица земляной вал, дом 33      61   \n",
       "\n",
       "                     street  \n",
       "9002      улица декабристов  \n",
       "15078       мясницкая улица  \n",
       "6215     бартеневская улица  \n",
       "15030  проспект вернадского  \n",
       "7976     улица земляной вал  "
      ]
     },
     "execution_count": 39,
     "metadata": {},
     "output_type": "execute_result"
    }
   ],
   "source": [
    "df_street_add = df\n",
    "words = ['улица','ул','переулок','шоссе','проспект','площадь','проезд',\n",
    "         'село','аллея','бульвар','набережная','тупик','линия']\n",
    "str_pat = r\".*,\\s*\\b([^,]*?(?:{})\\b[^,]*)[,$]+\".format(\"|\".join(words))\n",
    "df_street_add[\"street\"] = df_street_add[\"address\"].str.extract(str_pat, flags=re.I)\n",
    "df_street_add.sample(5)"
   ]
  },
  {
   "cell_type": "code",
   "execution_count": 40,
   "metadata": {},
   "outputs": [
    {
     "data": {
      "text/plain": [
       "0"
      ]
     },
     "execution_count": 40,
     "metadata": {},
     "output_type": "execute_result"
    }
   ],
   "source": [
    "# проверяем на образование пропусков\n",
    "df_street['street'][df_street['street'].isnull() == 'True'].count()"
   ]
  },
  {
   "cell_type": "code",
   "execution_count": 41,
   "metadata": {
    "scrolled": true
   },
   "outputs": [
    {
     "data": {
      "text/plain": [
       "проспект мира              196\n",
       "профсоюзная улица          179\n",
       "ленинградский проспект     168\n",
       "пресненская набережная     165\n",
       "варшавское шоссе           162\n",
       "ленинский проспект         147\n",
       "проспект вернадского       125\n",
       "кутузовский проспект       110\n",
       "каширское шоссе            109\n",
       "кировоградская улица       106\n",
       "ходынский бульвар          101\n",
       "ленинградское шоссе        100\n",
       "дмитровское шоссе          100\n",
       "улица новый арбат           92\n",
       "улица ленинская слобода     85\n",
       "алтуфьевское шоссе          81\n",
       "пятницкая улица             80\n",
       "проспект андропова          79\n",
       "улица покровка              77\n",
       "улица земляной вал          77\n",
       "Name: street, dtype: int64"
      ]
     },
     "execution_count": 41,
     "metadata": {},
     "output_type": "execute_result"
    }
   ],
   "source": [
    "df_street['street'].value_counts().head(20)"
   ]
  },
  {
   "cell_type": "markdown",
   "metadata": {},
   "source": [
    "Можем заметить, что мы получили не только улицы - 'город зеленоград ', 'поселение сосенское'. Для дальнейшего анализа эти строки стоит удалить"
   ]
  },
  {
   "cell_type": "code",
   "execution_count": 42,
   "metadata": {},
   "outputs": [],
   "source": [
    "df_street = df_street.drop(df_street[df_street['street'] == 'поселение сосенское'].index)\n",
    "df_street = df_street.drop(df_street[df_street['street'] == 'город зеленоград'].index)"
   ]
  },
  {
   "cell_type": "code",
   "execution_count": 43,
   "metadata": {},
   "outputs": [
    {
     "data": {
      "text/html": [
       "<div>\n",
       "<style scoped>\n",
       "    .dataframe tbody tr th:only-of-type {\n",
       "        vertical-align: middle;\n",
       "    }\n",
       "\n",
       "    .dataframe tbody tr th {\n",
       "        vertical-align: top;\n",
       "    }\n",
       "\n",
       "    .dataframe thead th {\n",
       "        text-align: right;\n",
       "    }\n",
       "</style>\n",
       "<table border=\"1\" class=\"dataframe\">\n",
       "  <thead>\n",
       "    <tr style=\"text-align: right;\">\n",
       "      <th></th>\n",
       "      <th>id</th>\n",
       "      <th>object_name</th>\n",
       "      <th>chain</th>\n",
       "      <th>object_type</th>\n",
       "      <th>address</th>\n",
       "      <th>number</th>\n",
       "      <th>street</th>\n",
       "    </tr>\n",
       "  </thead>\n",
       "  <tbody>\n",
       "    <tr>\n",
       "      <th>5993</th>\n",
       "      <td>29264</td>\n",
       "      <td>столовая 1420-1</td>\n",
       "      <td>нет</td>\n",
       "      <td>столовая</td>\n",
       "      <td>город москва, ташкентская улица, дом 21, корпу...</td>\n",
       "      <td>200</td>\n",
       "      <td>ташкентская улица</td>\n",
       "    </tr>\n",
       "  </tbody>\n",
       "</table>\n",
       "</div>"
      ],
      "text/plain": [
       "         id      object_name chain object_type  \\\n",
       "5993  29264  столовая 1420-1   нет    столовая   \n",
       "\n",
       "                                                address  number  \\\n",
       "5993  город москва, ташкентская улица, дом 21, корпу...     200   \n",
       "\n",
       "                 street  \n",
       "5993  ташкентская улица  "
      ]
     },
     "execution_count": 43,
     "metadata": {},
     "output_type": "execute_result"
    }
   ],
   "source": [
    "df_street.sample()"
   ]
  },
  {
   "cell_type": "markdown",
   "metadata": {},
   "source": [
    "*Столбец с улицами создан*"
   ]
  },
  {
   "cell_type": "markdown",
   "metadata": {},
   "source": [
    "### Постройте график топ-10 улиц по количеству объектов общественного питания. Воспользуйтесь внешней информацией и ответьте на вопрос — в каких районах Москвы находятся эти улицы?"
   ]
  },
  {
   "cell_type": "code",
   "execution_count": 44,
   "metadata": {},
   "outputs": [
    {
     "data": {
      "text/html": [
       "<div>\n",
       "<style scoped>\n",
       "    .dataframe tbody tr th:only-of-type {\n",
       "        vertical-align: middle;\n",
       "    }\n",
       "\n",
       "    .dataframe tbody tr th {\n",
       "        vertical-align: top;\n",
       "    }\n",
       "\n",
       "    .dataframe thead th {\n",
       "        text-align: right;\n",
       "    }\n",
       "</style>\n",
       "<table border=\"1\" class=\"dataframe\">\n",
       "  <thead>\n",
       "    <tr style=\"text-align: right;\">\n",
       "      <th></th>\n",
       "      <th>Unnamed: 0</th>\n",
       "      <th>streetname</th>\n",
       "      <th>areaid</th>\n",
       "      <th>okrug</th>\n",
       "      <th>area</th>\n",
       "    </tr>\n",
       "  </thead>\n",
       "  <tbody>\n",
       "    <tr>\n",
       "      <th>0</th>\n",
       "      <td>NaN</td>\n",
       "      <td>Выставочный переулок</td>\n",
       "      <td>17</td>\n",
       "      <td>ЦАО</td>\n",
       "      <td>Пресненский район</td>\n",
       "    </tr>\n",
       "    <tr>\n",
       "      <th>1</th>\n",
       "      <td>NaN</td>\n",
       "      <td>улица Гашека</td>\n",
       "      <td>17</td>\n",
       "      <td>ЦАО</td>\n",
       "      <td>Пресненский район</td>\n",
       "    </tr>\n",
       "    <tr>\n",
       "      <th>2</th>\n",
       "      <td>NaN</td>\n",
       "      <td>Большая Никитская улица</td>\n",
       "      <td>17</td>\n",
       "      <td>ЦАО</td>\n",
       "      <td>Пресненский район</td>\n",
       "    </tr>\n",
       "    <tr>\n",
       "      <th>3</th>\n",
       "      <td>NaN</td>\n",
       "      <td>Глубокий переулок</td>\n",
       "      <td>17</td>\n",
       "      <td>ЦАО</td>\n",
       "      <td>Пресненский район</td>\n",
       "    </tr>\n",
       "    <tr>\n",
       "      <th>4</th>\n",
       "      <td>NaN</td>\n",
       "      <td>Большой Гнездниковский переулок</td>\n",
       "      <td>17</td>\n",
       "      <td>ЦАО</td>\n",
       "      <td>Пресненский район</td>\n",
       "    </tr>\n",
       "    <tr>\n",
       "      <th>...</th>\n",
       "      <td>...</td>\n",
       "      <td>...</td>\n",
       "      <td>...</td>\n",
       "      <td>...</td>\n",
       "      <td>...</td>\n",
       "    </tr>\n",
       "    <tr>\n",
       "      <th>4393</th>\n",
       "      <td>NaN</td>\n",
       "      <td>Вознесенский проезд</td>\n",
       "      <td>17</td>\n",
       "      <td>ЦАО</td>\n",
       "      <td>Пресненский район</td>\n",
       "    </tr>\n",
       "    <tr>\n",
       "      <th>4394</th>\n",
       "      <td>NaN</td>\n",
       "      <td>Волков переулок</td>\n",
       "      <td>17</td>\n",
       "      <td>ЦАО</td>\n",
       "      <td>Пресненский район</td>\n",
       "    </tr>\n",
       "    <tr>\n",
       "      <th>4395</th>\n",
       "      <td>NaN</td>\n",
       "      <td>Поварская улица</td>\n",
       "      <td>17</td>\n",
       "      <td>ЦАО</td>\n",
       "      <td>Пресненский район</td>\n",
       "    </tr>\n",
       "    <tr>\n",
       "      <th>4396</th>\n",
       "      <td>NaN</td>\n",
       "      <td>Кудринская площадь</td>\n",
       "      <td>17</td>\n",
       "      <td>ЦАО</td>\n",
       "      <td>Пресненский район</td>\n",
       "    </tr>\n",
       "    <tr>\n",
       "      <th>4397</th>\n",
       "      <td>NaN</td>\n",
       "      <td>Вспольный переулок</td>\n",
       "      <td>17</td>\n",
       "      <td>ЦАО</td>\n",
       "      <td>Пресненский район</td>\n",
       "    </tr>\n",
       "  </tbody>\n",
       "</table>\n",
       "<p>4398 rows × 5 columns</p>\n",
       "</div>"
      ],
      "text/plain": [
       "      Unnamed: 0                       streetname  areaid okrug  \\\n",
       "0            NaN             Выставочный переулок      17   ЦАО   \n",
       "1            NaN                     улица Гашека      17   ЦАО   \n",
       "2            NaN          Большая Никитская улица      17   ЦАО   \n",
       "3            NaN                Глубокий переулок      17   ЦАО   \n",
       "4            NaN  Большой Гнездниковский переулок      17   ЦАО   \n",
       "...          ...                              ...     ...   ...   \n",
       "4393         NaN              Вознесенский проезд      17   ЦАО   \n",
       "4394         NaN                  Волков переулок      17   ЦАО   \n",
       "4395         NaN                  Поварская улица      17   ЦАО   \n",
       "4396         NaN               Кудринская площадь      17   ЦАО   \n",
       "4397         NaN               Вспольный переулок      17   ЦАО   \n",
       "\n",
       "                   area  \n",
       "0     Пресненский район  \n",
       "1     Пресненский район  \n",
       "2     Пресненский район  \n",
       "3     Пресненский район  \n",
       "4     Пресненский район  \n",
       "...                 ...  \n",
       "4393  Пресненский район  \n",
       "4394  Пресненский район  \n",
       "4395  Пресненский район  \n",
       "4396  Пресненский район  \n",
       "4397  Пресненский район  \n",
       "\n",
       "[4398 rows x 5 columns]"
      ]
     },
     "execution_count": 44,
     "metadata": {},
     "output_type": "execute_result"
    }
   ],
   "source": [
    "#прочитаем таблицу с перечнем улиц Москвы и их соотвествием районам\n",
    "url = 'https://github.com/492122/data_streets/blob/main/mosgaz-streets.csv'  \n",
    "foreign_data = pd.read_html(url)[0] \n",
    "foreign_data"
   ]
  },
  {
   "cell_type": "code",
   "execution_count": 45,
   "metadata": {},
   "outputs": [
    {
     "data": {
      "text/html": [
       "<div>\n",
       "<style scoped>\n",
       "    .dataframe tbody tr th:only-of-type {\n",
       "        vertical-align: middle;\n",
       "    }\n",
       "\n",
       "    .dataframe tbody tr th {\n",
       "        vertical-align: top;\n",
       "    }\n",
       "\n",
       "    .dataframe thead th {\n",
       "        text-align: right;\n",
       "    }\n",
       "</style>\n",
       "<table border=\"1\" class=\"dataframe\">\n",
       "  <thead>\n",
       "    <tr style=\"text-align: right;\">\n",
       "      <th></th>\n",
       "      <th>street</th>\n",
       "      <th>object_count</th>\n",
       "    </tr>\n",
       "  </thead>\n",
       "  <tbody>\n",
       "    <tr>\n",
       "      <th>0</th>\n",
       "      <td>проспект мира</td>\n",
       "      <td>196</td>\n",
       "    </tr>\n",
       "    <tr>\n",
       "      <th>1</th>\n",
       "      <td>профсоюзная улица</td>\n",
       "      <td>179</td>\n",
       "    </tr>\n",
       "    <tr>\n",
       "      <th>2</th>\n",
       "      <td>ленинградский проспект</td>\n",
       "      <td>168</td>\n",
       "    </tr>\n",
       "    <tr>\n",
       "      <th>3</th>\n",
       "      <td>пресненская набережная</td>\n",
       "      <td>165</td>\n",
       "    </tr>\n",
       "    <tr>\n",
       "      <th>4</th>\n",
       "      <td>варшавское шоссе</td>\n",
       "      <td>162</td>\n",
       "    </tr>\n",
       "    <tr>\n",
       "      <th>5</th>\n",
       "      <td>ленинский проспект</td>\n",
       "      <td>147</td>\n",
       "    </tr>\n",
       "    <tr>\n",
       "      <th>6</th>\n",
       "      <td>проспект вернадского</td>\n",
       "      <td>125</td>\n",
       "    </tr>\n",
       "    <tr>\n",
       "      <th>7</th>\n",
       "      <td>кутузовский проспект</td>\n",
       "      <td>110</td>\n",
       "    </tr>\n",
       "    <tr>\n",
       "      <th>8</th>\n",
       "      <td>каширское шоссе</td>\n",
       "      <td>109</td>\n",
       "    </tr>\n",
       "    <tr>\n",
       "      <th>9</th>\n",
       "      <td>кировоградская улица</td>\n",
       "      <td>106</td>\n",
       "    </tr>\n",
       "  </tbody>\n",
       "</table>\n",
       "</div>"
      ],
      "text/plain": [
       "                   street  object_count\n",
       "0           проспект мира           196\n",
       "1       профсоюзная улица           179\n",
       "2  ленинградский проспект           168\n",
       "3  пресненская набережная           165\n",
       "4        варшавское шоссе           162\n",
       "5      ленинский проспект           147\n",
       "6    проспект вернадского           125\n",
       "7    кутузовский проспект           110\n",
       "8         каширское шоссе           109\n",
       "9    кировоградская улица           106"
      ]
     },
     "execution_count": 45,
     "metadata": {},
     "output_type": "execute_result"
    }
   ],
   "source": [
    "top10_street = df_street['street'].value_counts().head(10).reset_index()\n",
    "top10_street.columns = ['street', 'object_count']\n",
    "top10_street.head(10)"
   ]
  },
  {
   "cell_type": "markdown",
   "metadata": {},
   "source": [
    "*10 улиц на которых больше всего находится объектов общественного питания*"
   ]
  },
  {
   "cell_type": "code",
   "execution_count": 46,
   "metadata": {},
   "outputs": [],
   "source": [
    "#удалим ненужные столбцы\n",
    "foreign_data.drop(['Unnamed: 0', 'areaid', 'okrug'], axis='columns', inplace=True)"
   ]
  },
  {
   "cell_type": "code",
   "execution_count": 47,
   "metadata": {},
   "outputs": [],
   "source": [
    "#переведем текст в нижний регистр\n",
    "foreign_data['streetname'] = foreign_data['streetname'].str.lower()\n",
    "foreign_data['area'] = foreign_data['area'].str.lower()"
   ]
  },
  {
   "cell_type": "code",
   "execution_count": 48,
   "metadata": {},
   "outputs": [],
   "source": [
    "foreign_data = foreign_data.rename(columns={'streetname':'street_name'})"
   ]
  },
  {
   "cell_type": "code",
   "execution_count": 49,
   "metadata": {
    "scrolled": true
   },
   "outputs": [
    {
     "data": {
      "text/html": [
       "<div>\n",
       "<style scoped>\n",
       "    .dataframe tbody tr th:only-of-type {\n",
       "        vertical-align: middle;\n",
       "    }\n",
       "\n",
       "    .dataframe tbody tr th {\n",
       "        vertical-align: top;\n",
       "    }\n",
       "\n",
       "    .dataframe thead th {\n",
       "        text-align: right;\n",
       "    }\n",
       "</style>\n",
       "<table border=\"1\" class=\"dataframe\">\n",
       "  <thead>\n",
       "    <tr style=\"text-align: right;\">\n",
       "      <th></th>\n",
       "      <th>street</th>\n",
       "      <th>object_count</th>\n",
       "      <th>street_name</th>\n",
       "      <th>area</th>\n",
       "    </tr>\n",
       "  </thead>\n",
       "  <tbody>\n",
       "    <tr>\n",
       "      <th>37</th>\n",
       "      <td>проспект вернадского</td>\n",
       "      <td>125</td>\n",
       "      <td>проспект вернадского</td>\n",
       "      <td>район гагаринский</td>\n",
       "    </tr>\n",
       "    <tr>\n",
       "      <th>2</th>\n",
       "      <td>проспект мира</td>\n",
       "      <td>196</td>\n",
       "      <td>проспект мира</td>\n",
       "      <td>район марьина роща</td>\n",
       "    </tr>\n",
       "    <tr>\n",
       "      <th>9</th>\n",
       "      <td>профсоюзная улица</td>\n",
       "      <td>179</td>\n",
       "      <td>профсоюзная улица</td>\n",
       "      <td>район ясенево</td>\n",
       "    </tr>\n",
       "    <tr>\n",
       "      <th>42</th>\n",
       "      <td>каширское шоссе</td>\n",
       "      <td>109</td>\n",
       "      <td>каширское шоссе</td>\n",
       "      <td>район нагатино-садовники</td>\n",
       "    </tr>\n",
       "    <tr>\n",
       "      <th>41</th>\n",
       "      <td>каширское шоссе</td>\n",
       "      <td>109</td>\n",
       "      <td>каширское шоссе</td>\n",
       "      <td>район москворечье-сабурово</td>\n",
       "    </tr>\n",
       "  </tbody>\n",
       "</table>\n",
       "</div>"
      ],
      "text/plain": [
       "                  street  object_count           street_name  \\\n",
       "37  проспект вернадского           125  проспект вернадского   \n",
       "2          проспект мира           196         проспект мира   \n",
       "9      профсоюзная улица           179     профсоюзная улица   \n",
       "42       каширское шоссе           109       каширское шоссе   \n",
       "41       каширское шоссе           109       каширское шоссе   \n",
       "\n",
       "                          area  \n",
       "37           район гагаринский  \n",
       "2           район марьина роща  \n",
       "9                район ясенево  \n",
       "42    район нагатино-садовники  \n",
       "41  район москворечье-сабурово  "
      ]
     },
     "execution_count": 49,
     "metadata": {},
     "output_type": "execute_result"
    }
   ],
   "source": [
    "street_name = pd.merge(top10_street, foreign_data, left_on='street', right_on='street_name', how='left')\n",
    "street_name.sample(5)"
   ]
  },
  {
   "cell_type": "code",
   "execution_count": 50,
   "metadata": {},
   "outputs": [
    {
     "data": {
      "text/plain": [
       "street          0\n",
       "object_count    0\n",
       "street_name     0\n",
       "area            0\n",
       "dtype: int64"
      ]
     },
     "execution_count": 50,
     "metadata": {},
     "output_type": "execute_result"
    }
   ],
   "source": [
    "street_name.isna().sum()"
   ]
  },
  {
   "cell_type": "markdown",
   "metadata": {},
   "source": [
    "При склеивании пропусков не появилось"
   ]
  },
  {
   "cell_type": "code",
   "execution_count": 51,
   "metadata": {},
   "outputs": [],
   "source": [
    "street_name.drop(['street_name'], axis='columns', inplace=True)"
   ]
  },
  {
   "cell_type": "code",
   "execution_count": 52,
   "metadata": {},
   "outputs": [
    {
     "data": {
      "text/html": [
       "<div>\n",
       "<style scoped>\n",
       "    .dataframe tbody tr th:only-of-type {\n",
       "        vertical-align: middle;\n",
       "    }\n",
       "\n",
       "    .dataframe tbody tr th {\n",
       "        vertical-align: top;\n",
       "    }\n",
       "\n",
       "    .dataframe thead th {\n",
       "        text-align: right;\n",
       "    }\n",
       "</style>\n",
       "<table border=\"1\" class=\"dataframe\">\n",
       "  <thead>\n",
       "    <tr style=\"text-align: right;\">\n",
       "      <th></th>\n",
       "      <th></th>\n",
       "      <th>area</th>\n",
       "    </tr>\n",
       "    <tr>\n",
       "      <th>street</th>\n",
       "      <th>area</th>\n",
       "      <th></th>\n",
       "    </tr>\n",
       "  </thead>\n",
       "  <tbody>\n",
       "    <tr>\n",
       "      <th rowspan=\"8\" valign=\"top\">варшавское шоссе</th>\n",
       "      <th>донской район</th>\n",
       "      <td>1</td>\n",
       "    </tr>\n",
       "    <tr>\n",
       "      <th>нагорный район</th>\n",
       "      <td>1</td>\n",
       "    </tr>\n",
       "    <tr>\n",
       "      <th>район нагатино-садовники</th>\n",
       "      <td>1</td>\n",
       "    </tr>\n",
       "    <tr>\n",
       "      <th>район северное бутово</th>\n",
       "      <td>1</td>\n",
       "    </tr>\n",
       "    <tr>\n",
       "      <th>район чертаново северное</th>\n",
       "      <td>1</td>\n",
       "    </tr>\n",
       "    <tr>\n",
       "      <th>район чертаново центральное</th>\n",
       "      <td>1</td>\n",
       "    </tr>\n",
       "    <tr>\n",
       "      <th>район чертаново южное</th>\n",
       "      <td>1</td>\n",
       "    </tr>\n",
       "    <tr>\n",
       "      <th>район южное бутово</th>\n",
       "      <td>1</td>\n",
       "    </tr>\n",
       "    <tr>\n",
       "      <th rowspan=\"4\" valign=\"top\">каширское шоссе</th>\n",
       "      <th>район москворечье-сабурово</th>\n",
       "      <td>1</td>\n",
       "    </tr>\n",
       "    <tr>\n",
       "      <th>район нагатино-садовники</th>\n",
       "      <td>1</td>\n",
       "    </tr>\n",
       "    <tr>\n",
       "      <th>район орехово-борисово северное</th>\n",
       "      <td>1</td>\n",
       "    </tr>\n",
       "    <tr>\n",
       "      <th>район орехово-борисово южное</th>\n",
       "      <td>1</td>\n",
       "    </tr>\n",
       "    <tr>\n",
       "      <th rowspan=\"3\" valign=\"top\">кировоградская улица</th>\n",
       "      <th>район чертаново северное</th>\n",
       "      <td>1</td>\n",
       "    </tr>\n",
       "    <tr>\n",
       "      <th>район чертаново центральное</th>\n",
       "      <td>1</td>\n",
       "    </tr>\n",
       "    <tr>\n",
       "      <th>район чертаново южное</th>\n",
       "      <td>1</td>\n",
       "    </tr>\n",
       "    <tr>\n",
       "      <th rowspan=\"2\" valign=\"top\">кутузовский проспект</th>\n",
       "      <th>район дорогомилово</th>\n",
       "      <td>1</td>\n",
       "    </tr>\n",
       "    <tr>\n",
       "      <th>район фили-давыдково</th>\n",
       "      <td>1</td>\n",
       "    </tr>\n",
       "    <tr>\n",
       "      <th rowspan=\"4\" valign=\"top\">ленинградский проспект</th>\n",
       "      <th>район аэропорт</th>\n",
       "      <td>1</td>\n",
       "    </tr>\n",
       "    <tr>\n",
       "      <th>район беговой</th>\n",
       "      <td>1</td>\n",
       "    </tr>\n",
       "    <tr>\n",
       "      <th>район сокол</th>\n",
       "      <td>1</td>\n",
       "    </tr>\n",
       "    <tr>\n",
       "      <th>хорошевский район</th>\n",
       "      <td>1</td>\n",
       "    </tr>\n",
       "    <tr>\n",
       "      <th rowspan=\"8\" valign=\"top\">ленинский проспект</th>\n",
       "      <th>донской район</th>\n",
       "      <td>1</td>\n",
       "    </tr>\n",
       "    <tr>\n",
       "      <th>ломоносовский район</th>\n",
       "      <td>1</td>\n",
       "    </tr>\n",
       "    <tr>\n",
       "      <th>обручевский район</th>\n",
       "      <td>1</td>\n",
       "    </tr>\n",
       "    <tr>\n",
       "      <th>район гагаринский</th>\n",
       "      <td>1</td>\n",
       "    </tr>\n",
       "    <tr>\n",
       "      <th>район проспект вернадского</th>\n",
       "      <td>1</td>\n",
       "    </tr>\n",
       "    <tr>\n",
       "      <th>район теплый стан</th>\n",
       "      <td>1</td>\n",
       "    </tr>\n",
       "    <tr>\n",
       "      <th>район тропарево-никулино</th>\n",
       "      <td>1</td>\n",
       "    </tr>\n",
       "    <tr>\n",
       "      <th>район якиманка</th>\n",
       "      <td>1</td>\n",
       "    </tr>\n",
       "    <tr>\n",
       "      <th>пресненская набережная</th>\n",
       "      <th>пресненский район</th>\n",
       "      <td>1</td>\n",
       "    </tr>\n",
       "    <tr>\n",
       "      <th rowspan=\"5\" valign=\"top\">проспект вернадского</th>\n",
       "      <th>ломоносовский район</th>\n",
       "      <td>1</td>\n",
       "    </tr>\n",
       "    <tr>\n",
       "      <th>район гагаринский</th>\n",
       "      <td>1</td>\n",
       "    </tr>\n",
       "    <tr>\n",
       "      <th>район проспект вернадского</th>\n",
       "      <td>1</td>\n",
       "    </tr>\n",
       "    <tr>\n",
       "      <th>район раменки</th>\n",
       "      <td>1</td>\n",
       "    </tr>\n",
       "    <tr>\n",
       "      <th>район тропарево-никулино</th>\n",
       "      <td>1</td>\n",
       "    </tr>\n",
       "    <tr>\n",
       "      <th rowspan=\"7\" valign=\"top\">проспект мира</th>\n",
       "      <th>алексеевский район</th>\n",
       "      <td>1</td>\n",
       "    </tr>\n",
       "    <tr>\n",
       "      <th>мещанский район</th>\n",
       "      <td>1</td>\n",
       "    </tr>\n",
       "    <tr>\n",
       "      <th>останкинский район</th>\n",
       "      <td>1</td>\n",
       "    </tr>\n",
       "    <tr>\n",
       "      <th>район марьина роща</th>\n",
       "      <td>1</td>\n",
       "    </tr>\n",
       "    <tr>\n",
       "      <th>район ростокино</th>\n",
       "      <td>1</td>\n",
       "    </tr>\n",
       "    <tr>\n",
       "      <th>район свиблово</th>\n",
       "      <td>1</td>\n",
       "    </tr>\n",
       "    <tr>\n",
       "      <th>ярославский район</th>\n",
       "      <td>1</td>\n",
       "    </tr>\n",
       "    <tr>\n",
       "      <th rowspan=\"6\" valign=\"top\">профсоюзная улица</th>\n",
       "      <th>академический район</th>\n",
       "      <td>1</td>\n",
       "    </tr>\n",
       "    <tr>\n",
       "      <th>обручевский район</th>\n",
       "      <td>1</td>\n",
       "    </tr>\n",
       "    <tr>\n",
       "      <th>район коньково</th>\n",
       "      <td>1</td>\n",
       "    </tr>\n",
       "    <tr>\n",
       "      <th>район теплый стан</th>\n",
       "      <td>1</td>\n",
       "    </tr>\n",
       "    <tr>\n",
       "      <th>район черемушки</th>\n",
       "      <td>1</td>\n",
       "    </tr>\n",
       "    <tr>\n",
       "      <th>район ясенево</th>\n",
       "      <td>1</td>\n",
       "    </tr>\n",
       "  </tbody>\n",
       "</table>\n",
       "</div>"
      ],
      "text/plain": [
       "                                                        area\n",
       "street                 area                                 \n",
       "варшавское шоссе       донской район                       1\n",
       "                       нагорный район                      1\n",
       "                       район нагатино-садовники            1\n",
       "                       район северное бутово               1\n",
       "                       район чертаново северное            1\n",
       "                       район чертаново центральное         1\n",
       "                       район чертаново южное               1\n",
       "                       район южное бутово                  1\n",
       "каширское шоссе        район москворечье-сабурово          1\n",
       "                       район нагатино-садовники            1\n",
       "                       район орехово-борисово северное     1\n",
       "                       район орехово-борисово южное        1\n",
       "кировоградская улица   район чертаново северное            1\n",
       "                       район чертаново центральное         1\n",
       "                       район чертаново южное               1\n",
       "кутузовский проспект   район дорогомилово                  1\n",
       "                       район фили-давыдково                1\n",
       "ленинградский проспект район аэропорт                      1\n",
       "                       район беговой                       1\n",
       "                       район сокол                         1\n",
       "                       хорошевский район                   1\n",
       "ленинский проспект     донской район                       1\n",
       "                       ломоносовский район                 1\n",
       "                       обручевский район                   1\n",
       "                       район гагаринский                   1\n",
       "                       район проспект вернадского          1\n",
       "                       район теплый стан                   1\n",
       "                       район тропарево-никулино            1\n",
       "                       район якиманка                      1\n",
       "пресненская набережная пресненский район                   1\n",
       "проспект вернадского   ломоносовский район                 1\n",
       "                       район гагаринский                   1\n",
       "                       район проспект вернадского          1\n",
       "                       район раменки                       1\n",
       "                       район тропарево-никулино            1\n",
       "проспект мира          алексеевский район                  1\n",
       "                       мещанский район                     1\n",
       "                       останкинский район                  1\n",
       "                       район марьина роща                  1\n",
       "                       район ростокино                     1\n",
       "                       район свиблово                      1\n",
       "                       ярославский район                   1\n",
       "профсоюзная улица      академический район                 1\n",
       "                       обручевский район                   1\n",
       "                       район коньково                      1\n",
       "                       район теплый стан                   1\n",
       "                       район черемушки                     1\n",
       "                       район ясенево                       1"
      ]
     },
     "execution_count": 52,
     "metadata": {},
     "output_type": "execute_result"
    }
   ],
   "source": [
    "distr = street_name.groupby('street')['area'].value_counts().to_frame()\n",
    "distr"
   ]
  },
  {
   "cell_type": "markdown",
   "metadata": {},
   "source": [
    "*Общая сводка улиц по районам Москвы*"
   ]
  },
  {
   "cell_type": "markdown",
   "metadata": {},
   "source": [
    "### Найдите число улиц с одним объектом общественного питания. Воспользуйтесь внешней информацией и ответьте на вопрос — в каких районах Москвы находятся эти улицы?"
   ]
  },
  {
   "cell_type": "code",
   "execution_count": 53,
   "metadata": {},
   "outputs": [
    {
     "data": {
      "text/html": [
       "<div>\n",
       "<style scoped>\n",
       "    .dataframe tbody tr th:only-of-type {\n",
       "        vertical-align: middle;\n",
       "    }\n",
       "\n",
       "    .dataframe tbody tr th {\n",
       "        vertical-align: top;\n",
       "    }\n",
       "\n",
       "    .dataframe thead th {\n",
       "        text-align: right;\n",
       "    }\n",
       "</style>\n",
       "<table border=\"1\" class=\"dataframe\">\n",
       "  <thead>\n",
       "    <tr style=\"text-align: right;\">\n",
       "      <th></th>\n",
       "      <th>street</th>\n",
       "      <th>object_count</th>\n",
       "    </tr>\n",
       "  </thead>\n",
       "  <tbody>\n",
       "    <tr>\n",
       "      <th>1347</th>\n",
       "      <td>большой предтеченский переулок</td>\n",
       "      <td>1</td>\n",
       "    </tr>\n",
       "    <tr>\n",
       "      <th>1348</th>\n",
       "      <td>боровский проезд</td>\n",
       "      <td>1</td>\n",
       "    </tr>\n",
       "    <tr>\n",
       "      <th>1349</th>\n",
       "      <td>зюзинская улица</td>\n",
       "      <td>1</td>\n",
       "    </tr>\n",
       "    <tr>\n",
       "      <th>1350</th>\n",
       "      <td>большой строченовский переулок</td>\n",
       "      <td>1</td>\n",
       "    </tr>\n",
       "    <tr>\n",
       "      <th>1351</th>\n",
       "      <td>докучаев переулок</td>\n",
       "      <td>1</td>\n",
       "    </tr>\n",
       "    <tr>\n",
       "      <th>...</th>\n",
       "      <td>...</td>\n",
       "      <td>...</td>\n",
       "    </tr>\n",
       "    <tr>\n",
       "      <th>1894</th>\n",
       "      <td>улица школа-интернат</td>\n",
       "      <td>1</td>\n",
       "    </tr>\n",
       "    <tr>\n",
       "      <th>1895</th>\n",
       "      <td>будайская улица</td>\n",
       "      <td>1</td>\n",
       "    </tr>\n",
       "    <tr>\n",
       "      <th>1896</th>\n",
       "      <td>новопресненский переулок</td>\n",
       "      <td>1</td>\n",
       "    </tr>\n",
       "    <tr>\n",
       "      <th>1897</th>\n",
       "      <td>парковая улица</td>\n",
       "      <td>1</td>\n",
       "    </tr>\n",
       "    <tr>\n",
       "      <th>1898</th>\n",
       "      <td>подольская улица</td>\n",
       "      <td>1</td>\n",
       "    </tr>\n",
       "  </tbody>\n",
       "</table>\n",
       "<p>552 rows × 2 columns</p>\n",
       "</div>"
      ],
      "text/plain": [
       "                              street  object_count\n",
       "1347  большой предтеченский переулок             1\n",
       "1348                боровский проезд             1\n",
       "1349                 зюзинская улица             1\n",
       "1350  большой строченовский переулок             1\n",
       "1351               докучаев переулок             1\n",
       "...                              ...           ...\n",
       "1894            улица школа-интернат             1\n",
       "1895                 будайская улица             1\n",
       "1896        новопресненский переулок             1\n",
       "1897                  парковая улица             1\n",
       "1898                подольская улица             1\n",
       "\n",
       "[552 rows x 2 columns]"
      ]
     },
     "execution_count": 53,
     "metadata": {},
     "output_type": "execute_result"
    }
   ],
   "source": [
    "one_object = df_street['street'].value_counts().reset_index()\n",
    "one_object = one_object[one_object['street'] == 1]\n",
    "one_object.columns = ['street', 'object_count']\n",
    "one_object"
   ]
  },
  {
   "cell_type": "code",
   "execution_count": 54,
   "metadata": {},
   "outputs": [
    {
     "data": {
      "text/plain": [
       "Series([], Name: street, dtype: object)"
      ]
     },
     "execution_count": 54,
     "metadata": {},
     "output_type": "execute_result"
    }
   ],
   "source": [
    "one_object['street'][one_object['street'].duplicated()]"
   ]
  },
  {
   "cell_type": "markdown",
   "metadata": {},
   "source": [
    "*Всего 579 улиц где всего 1 объект*"
   ]
  },
  {
   "cell_type": "code",
   "execution_count": 55,
   "metadata": {},
   "outputs": [],
   "source": [
    "only_one_street = pd.merge(one_object, foreign_data, left_on='street', right_on='street_name', how='left')"
   ]
  },
  {
   "cell_type": "code",
   "execution_count": 56,
   "metadata": {},
   "outputs": [
    {
     "data": {
      "text/html": [
       "<div>\n",
       "<style scoped>\n",
       "    .dataframe tbody tr th:only-of-type {\n",
       "        vertical-align: middle;\n",
       "    }\n",
       "\n",
       "    .dataframe tbody tr th {\n",
       "        vertical-align: top;\n",
       "    }\n",
       "\n",
       "    .dataframe thead th {\n",
       "        text-align: right;\n",
       "    }\n",
       "</style>\n",
       "<table border=\"1\" class=\"dataframe\">\n",
       "  <thead>\n",
       "    <tr style=\"text-align: right;\">\n",
       "      <th></th>\n",
       "      <th>street</th>\n",
       "      <th>object_count</th>\n",
       "      <th>street_name</th>\n",
       "      <th>area</th>\n",
       "    </tr>\n",
       "  </thead>\n",
       "  <tbody>\n",
       "    <tr>\n",
       "      <th>131</th>\n",
       "      <td>большая бутовская улица</td>\n",
       "      <td>1</td>\n",
       "      <td>большая бутовская улица</td>\n",
       "      <td>район южное бутово</td>\n",
       "    </tr>\n",
       "  </tbody>\n",
       "</table>\n",
       "</div>"
      ],
      "text/plain": [
       "                      street  object_count              street_name  \\\n",
       "131  большая бутовская улица             1  большая бутовская улица   \n",
       "\n",
       "                   area  \n",
       "131  район южное бутово  "
      ]
     },
     "execution_count": 56,
     "metadata": {},
     "output_type": "execute_result"
    }
   ],
   "source": [
    "only_one_street.sample(1)"
   ]
  },
  {
   "cell_type": "code",
   "execution_count": 57,
   "metadata": {},
   "outputs": [],
   "source": [
    "only_one_street.drop(['street_name'], axis='columns', inplace=True)"
   ]
  },
  {
   "cell_type": "code",
   "execution_count": 58,
   "metadata": {},
   "outputs": [
    {
     "data": {
      "text/html": [
       "<div>\n",
       "<style scoped>\n",
       "    .dataframe tbody tr th:only-of-type {\n",
       "        vertical-align: middle;\n",
       "    }\n",
       "\n",
       "    .dataframe tbody tr th {\n",
       "        vertical-align: top;\n",
       "    }\n",
       "\n",
       "    .dataframe thead th {\n",
       "        text-align: right;\n",
       "    }\n",
       "</style>\n",
       "<table border=\"1\" class=\"dataframe\">\n",
       "  <thead>\n",
       "    <tr style=\"text-align: right;\">\n",
       "      <th></th>\n",
       "      <th>area</th>\n",
       "      <th>street</th>\n",
       "    </tr>\n",
       "  </thead>\n",
       "  <tbody>\n",
       "    <tr>\n",
       "      <th>0</th>\n",
       "      <td>таганский район</td>\n",
       "      <td>27</td>\n",
       "    </tr>\n",
       "    <tr>\n",
       "      <th>1</th>\n",
       "      <td>район хамовники</td>\n",
       "      <td>26</td>\n",
       "    </tr>\n",
       "    <tr>\n",
       "      <th>2</th>\n",
       "      <td>басманный район</td>\n",
       "      <td>26</td>\n",
       "    </tr>\n",
       "    <tr>\n",
       "      <th>3</th>\n",
       "      <td>тверской район</td>\n",
       "      <td>20</td>\n",
       "    </tr>\n",
       "    <tr>\n",
       "      <th>4</th>\n",
       "      <td>пресненский район</td>\n",
       "      <td>19</td>\n",
       "    </tr>\n",
       "    <tr>\n",
       "      <th>...</th>\n",
       "      <td>...</td>\n",
       "      <td>...</td>\n",
       "    </tr>\n",
       "    <tr>\n",
       "      <th>95</th>\n",
       "      <td>алтуфьевский район</td>\n",
       "      <td>1</td>\n",
       "    </tr>\n",
       "    <tr>\n",
       "      <th>96</th>\n",
       "      <td>район марьино</td>\n",
       "      <td>1</td>\n",
       "    </tr>\n",
       "    <tr>\n",
       "      <th>97</th>\n",
       "      <td>район метрогородок</td>\n",
       "      <td>1</td>\n",
       "    </tr>\n",
       "    <tr>\n",
       "      <th>98</th>\n",
       "      <td>район москворечье-сабурово</td>\n",
       "      <td>1</td>\n",
       "    </tr>\n",
       "    <tr>\n",
       "      <th>99</th>\n",
       "      <td>район марфино</td>\n",
       "      <td>1</td>\n",
       "    </tr>\n",
       "  </tbody>\n",
       "</table>\n",
       "<p>100 rows × 2 columns</p>\n",
       "</div>"
      ],
      "text/plain": [
       "                          area  street\n",
       "0              таганский район      27\n",
       "1              район хамовники      26\n",
       "2              басманный район      26\n",
       "3               тверской район      20\n",
       "4            пресненский район      19\n",
       "..                         ...     ...\n",
       "95          алтуфьевский район       1\n",
       "96               район марьино       1\n",
       "97          район метрогородок       1\n",
       "98  район москворечье-сабурово       1\n",
       "99               район марфино       1\n",
       "\n",
       "[100 rows x 2 columns]"
      ]
     },
     "execution_count": 58,
     "metadata": {},
     "output_type": "execute_result"
    }
   ],
   "source": [
    "final_one_street = only_one_street.groupby('area').count().sort_values(by='street', ascending=False).reset_index()\n",
    "final_one_street.drop(['object_count'], axis='columns', inplace=True)\n",
    "final_one_street"
   ]
  },
  {
   "cell_type": "code",
   "execution_count": 59,
   "metadata": {},
   "outputs": [
    {
     "data": {
      "text/html": [
       "<div>\n",
       "<style scoped>\n",
       "    .dataframe tbody tr th:only-of-type {\n",
       "        vertical-align: middle;\n",
       "    }\n",
       "\n",
       "    .dataframe tbody tr th {\n",
       "        vertical-align: top;\n",
       "    }\n",
       "\n",
       "    .dataframe thead th {\n",
       "        text-align: right;\n",
       "    }\n",
       "</style>\n",
       "<table border=\"1\" class=\"dataframe\">\n",
       "  <thead>\n",
       "    <tr style=\"text-align: right;\">\n",
       "      <th></th>\n",
       "      <th>area</th>\n",
       "      <th>street</th>\n",
       "    </tr>\n",
       "  </thead>\n",
       "  <tbody>\n",
       "    <tr>\n",
       "      <th>6</th>\n",
       "      <td>мещанский район</td>\n",
       "      <td>17</td>\n",
       "    </tr>\n",
       "  </tbody>\n",
       "</table>\n",
       "</div>"
      ],
      "text/plain": [
       "              area  street\n",
       "6  мещанский район      17"
      ]
     },
     "execution_count": 59,
     "metadata": {},
     "output_type": "execute_result"
    }
   ],
   "source": [
    "final_one_street_12 = final_one_street.head(12)\n",
    "final_one_street_12.sample()"
   ]
  },
  {
   "cell_type": "code",
   "execution_count": 60,
   "metadata": {},
   "outputs": [
    {
     "data": {
      "image/png": "[encoded data removed]",
      "text/plain": [
       "<Figure size 1800x720 with 1 Axes>"
      ]
     },
     "metadata": {
      "needs_background": "light"
     },
     "output_type": "display_data"
    }
   ],
   "source": [
    "plt.figure(figsize=(25,10))\n",
    "plt.bar(final_one_street_12['area'], final_one_street_12['street'], color=['cornflowerblue'])\n",
    "plt.title('Количество улиц с 1 заведением на район')\n",
    "plt.xlabel('Район')\n",
    "plt.ylabel('Количество улиц');\n",
    "#plt.legend() "
   ]
  },
  {
   "cell_type": "markdown",
   "metadata": {},
   "source": [
    "*Отображены районы в которых наибольшее количество улиц с одним заведением*\n",
    "\n",
    "*579 улиц*\n",
    "\n",
    "*99 районов*"
   ]
  },
  {
   "cell_type": "markdown",
   "metadata": {},
   "source": [
    "### Посмотрите на распределение количества посадочных мест для улиц с большим количеством объектов общественного питания. Какие закономерности можно выявить?"
   ]
  },
  {
   "cell_type": "code",
   "execution_count": 61,
   "metadata": {},
   "outputs": [
    {
     "data": {
      "text/html": [
       "<div>\n",
       "<style scoped>\n",
       "    .dataframe tbody tr th:only-of-type {\n",
       "        vertical-align: middle;\n",
       "    }\n",
       "\n",
       "    .dataframe tbody tr th {\n",
       "        vertical-align: top;\n",
       "    }\n",
       "\n",
       "    .dataframe thead th {\n",
       "        text-align: right;\n",
       "    }\n",
       "</style>\n",
       "<table border=\"1\" class=\"dataframe\">\n",
       "  <thead>\n",
       "    <tr style=\"text-align: right;\">\n",
       "      <th></th>\n",
       "      <th>street</th>\n",
       "      <th>number</th>\n",
       "    </tr>\n",
       "  </thead>\n",
       "  <tbody>\n",
       "    <tr>\n",
       "      <th>0</th>\n",
       "      <td>проспект мира</td>\n",
       "      <td>196</td>\n",
       "    </tr>\n",
       "    <tr>\n",
       "      <th>1</th>\n",
       "      <td>профсоюзная улица</td>\n",
       "      <td>179</td>\n",
       "    </tr>\n",
       "    <tr>\n",
       "      <th>2</th>\n",
       "      <td>ленинградский проспект</td>\n",
       "      <td>168</td>\n",
       "    </tr>\n",
       "    <tr>\n",
       "      <th>3</th>\n",
       "      <td>пресненская набережная</td>\n",
       "      <td>165</td>\n",
       "    </tr>\n",
       "    <tr>\n",
       "      <th>4</th>\n",
       "      <td>варшавское шоссе</td>\n",
       "      <td>162</td>\n",
       "    </tr>\n",
       "    <tr>\n",
       "      <th>5</th>\n",
       "      <td>ленинский проспект</td>\n",
       "      <td>147</td>\n",
       "    </tr>\n",
       "    <tr>\n",
       "      <th>6</th>\n",
       "      <td>проспект вернадского</td>\n",
       "      <td>125</td>\n",
       "    </tr>\n",
       "    <tr>\n",
       "      <th>7</th>\n",
       "      <td>кутузовский проспект</td>\n",
       "      <td>110</td>\n",
       "    </tr>\n",
       "    <tr>\n",
       "      <th>8</th>\n",
       "      <td>каширское шоссе</td>\n",
       "      <td>109</td>\n",
       "    </tr>\n",
       "    <tr>\n",
       "      <th>9</th>\n",
       "      <td>кировоградская улица</td>\n",
       "      <td>106</td>\n",
       "    </tr>\n",
       "    <tr>\n",
       "      <th>10</th>\n",
       "      <td>ходынский бульвар</td>\n",
       "      <td>101</td>\n",
       "    </tr>\n",
       "    <tr>\n",
       "      <th>11</th>\n",
       "      <td>ленинградское шоссе</td>\n",
       "      <td>100</td>\n",
       "    </tr>\n",
       "  </tbody>\n",
       "</table>\n",
       "</div>"
      ],
      "text/plain": [
       "                    street  number\n",
       "0            проспект мира     196\n",
       "1        профсоюзная улица     179\n",
       "2   ленинградский проспект     168\n",
       "3   пресненская набережная     165\n",
       "4         варшавское шоссе     162\n",
       "5       ленинский проспект     147\n",
       "6     проспект вернадского     125\n",
       "7     кутузовский проспект     110\n",
       "8          каширское шоссе     109\n",
       "9     кировоградская улица     106\n",
       "10       ходынский бульвар     101\n",
       "11     ленинградское шоссе     100"
      ]
     },
     "execution_count": 61,
     "metadata": {},
     "output_type": "execute_result"
    }
   ],
   "source": [
    "street_number_top = df_street.groupby('street').count().sort_values(by='object_type', ascending=False).head(12).reset_index()\n",
    "street_number_top = street_number_top[['street', 'number']]#.to_list()\n",
    "street_list = street_number_top['street'].to_list()\n",
    "street_number_top"
   ]
  },
  {
   "cell_type": "code",
   "execution_count": 62,
   "metadata": {},
   "outputs": [
    {
     "data": {
      "image/png": "[encoded data removed]",
      "text/plain": [
       "<Figure size 2160x1080 with 1 Axes>"
      ]
     },
     "metadata": {
      "needs_background": "light"
     },
     "output_type": "display_data"
    }
   ],
   "source": [
    "plt.figure(figsize=(30,15))\n",
    "plt.bar(street_number_top['street'], street_number_top['number'], color=['cornflowerblue'])\n",
    "plt.title('Улицы с самым большим количеством объектов')\n",
    "plt.xlabel('улицы')\n",
    "plt.ylabel('Количество объектов');"
   ]
  },
  {
   "cell_type": "code",
   "execution_count": 63,
   "metadata": {},
   "outputs": [],
   "source": [
    "df_query = df_street.query('street == @street_list')"
   ]
  },
  {
   "cell_type": "code",
   "execution_count": 64,
   "metadata": {},
   "outputs": [
    {
     "data": {
      "image/png": "[encoded data removed]",
      "text/plain": [
       "<Figure size 1440x720 with 1 Axes>"
      ]
     },
     "metadata": {
      "needs_background": "light"
     },
     "output_type": "display_data"
    }
   ],
   "source": [
    "plt.figure(figsize=(20,10))\n",
    "df_query['number'].hist(bins=30,color='cornflowerblue')\n",
    "plt.title('Количество мест на объект')\n",
    "plt.xlabel('Количество мест')\n",
    "plt.ylabel('Количество улиц')\n",
    "plt.show()"
   ]
  },
  {
   "cell_type": "code",
   "execution_count": 65,
   "metadata": {},
   "outputs": [
    {
     "data": {
      "text/plain": [
       "count     12.000000\n",
       "mean     139.000000\n",
       "std       34.311408\n",
       "min      100.000000\n",
       "25%      108.250000\n",
       "50%      136.000000\n",
       "75%      165.750000\n",
       "max      196.000000\n",
       "Name: number, dtype: float64"
      ]
     },
     "execution_count": 65,
     "metadata": {},
     "output_type": "execute_result"
    }
   ],
   "source": [
    "street_number_top['number'].describe()"
   ]
  },
  {
   "cell_type": "markdown",
   "metadata": {},
   "source": [
    "*На улицах где большое количество посадочных мест находятся по большей части объекты с небольшой вместительностью. Скорее всего эти улицы находятся близко к центру города, потому что это самое удобное расположение для объектов общественного питания. Малая вместительность может говорить о том, что стоимость аренды на этих улицах высокая.*"
   ]
  },
  {
   "cell_type": "markdown",
   "metadata": {},
   "source": [
    "### Презентация\n",
    "\n",
    "Ссылка на презентацию: https://docs.google.com/presentation/d/1aM4PKAdH9l0UifgmuYGhNaaZ_VNj4B6bXhddvr1BoYQ/edit?usp=sharing"
   ]
  },
  {
   "cell_type": "markdown",
   "metadata": {},
   "source": [
    "### Общий вывод"
   ]
  },
  {
   "cell_type": "markdown",
   "metadata": {},
   "source": [
    "* Самый распространённый тип заведений - кафе. Потом идут столовая, ресторан, предприятие быстрого обслуживания\n",
    "* 80% рынка занимают несетевые заведения\n",
    "* В столовых, в кафе и в ресторанах самое большое количество посадочных мест\n",
    "* Сетевое распространение больше всего у кафе и предприятий быстрого обслуживания\n",
    "* Определили 12 улиц на которых самое большое количество объектов. Выяснили, что улицы находятся в центре города\n",
    "* Определили список районов, в которых располагаются улицы с самым большим количеством объектов общественного питания"
   ]
  },
  {
   "cell_type": "markdown",
   "metadata": {},
   "source": [
    "### Рекомендации"
   ]
  },
  {
   "cell_type": "markdown",
   "metadata": {},
   "source": [
    "Планируется открытие небольшого кафе с конкурентным преимуществом в виде роботизации. Среди кафе в Москве самая высокая конкуренция в связи с этим часто закрываются старые кафе и открываются на их месте новые, поэтому рекомендуется выкупить бизнес конкурента и уже на готовом месте перестраивать кафе. Это сильно снизит затраты чем строить кафе с 0. Рекомендуется выбирать место ближе к центру, потому что там располагаются по большей части небольшие кафе. Кафе будет пользоваться спросом в деловых районах столицы, потому что роботы будут гарантировать некую анонимность приходящих гостей"
   ]
  }
 ],
 "metadata": {
  "ExecuteTimeLog": [
   {
    "duration": 2290,
    "start_time": "2022-05-05T17:37:31.962Z"
   },
   {
    "duration": 66,
    "start_time": "2022-05-05T17:37:34.254Z"
   },
   {
    "duration": 15,
    "start_time": "2022-05-05T17:37:34.322Z"
   },
   {
    "duration": 24,
    "start_time": "2022-05-05T17:37:34.338Z"
   },
   {
    "duration": 27,
    "start_time": "2022-05-05T17:37:34.364Z"
   },
   {
    "duration": 25,
    "start_time": "2022-05-05T17:37:34.393Z"
   },
   {
    "duration": 49,
    "start_time": "2022-05-05T17:37:34.420Z"
   },
   {
    "duration": 18,
    "start_time": "2022-05-05T17:37:34.471Z"
   },
   {
    "duration": 13,
    "start_time": "2022-05-05T17:37:34.491Z"
   },
   {
    "duration": 10,
    "start_time": "2022-05-05T17:37:34.506Z"
   },
   {
    "duration": 400,
    "start_time": "2022-05-05T17:37:34.517Z"
   },
   {
    "duration": 7,
    "start_time": "2022-05-05T17:37:34.919Z"
   },
   {
    "duration": 423,
    "start_time": "2022-05-05T17:37:34.928Z"
   },
   {
    "duration": 9,
    "start_time": "2022-05-05T17:37:35.354Z"
   },
   {
    "duration": 234,
    "start_time": "2022-05-05T17:37:35.365Z"
   },
   {
    "duration": 17,
    "start_time": "2022-05-05T17:37:35.601Z"
   },
   {
    "duration": 6,
    "start_time": "2022-05-05T17:37:35.620Z"
   },
   {
    "duration": 418,
    "start_time": "2022-05-05T17:37:35.648Z"
   },
   {
    "duration": 396,
    "start_time": "2022-05-05T17:37:36.068Z"
   },
   {
    "duration": 15,
    "start_time": "2022-05-05T17:37:36.466Z"
   },
   {
    "duration": 309,
    "start_time": "2022-05-05T17:37:36.482Z"
   },
   {
    "duration": 16,
    "start_time": "2022-05-05T17:37:36.792Z"
   },
   {
    "duration": 7,
    "start_time": "2022-05-05T17:37:36.810Z"
   },
   {
    "duration": 34,
    "start_time": "2022-05-05T17:37:36.818Z"
   },
   {
    "duration": 12,
    "start_time": "2022-05-05T17:37:36.854Z"
   },
   {
    "duration": 9,
    "start_time": "2022-05-05T17:37:36.868Z"
   },
   {
    "duration": 1428,
    "start_time": "2022-05-05T17:37:36.879Z"
   },
   {
    "duration": 11,
    "start_time": "2022-05-05T17:37:38.309Z"
   },
   {
    "duration": 8,
    "start_time": "2022-05-05T17:37:38.321Z"
   },
   {
    "duration": 24,
    "start_time": "2022-05-05T17:37:38.330Z"
   },
   {
    "duration": 5,
    "start_time": "2022-05-05T17:37:38.356Z"
   },
   {
    "duration": 12,
    "start_time": "2022-05-05T17:37:38.363Z"
   },
   {
    "duration": 5,
    "start_time": "2022-05-05T17:37:38.377Z"
   },
   {
    "duration": 5,
    "start_time": "2022-05-05T17:37:38.383Z"
   },
   {
    "duration": 14,
    "start_time": "2022-05-05T17:37:38.390Z"
   },
   {
    "duration": 42,
    "start_time": "2022-05-05T17:37:38.406Z"
   },
   {
    "duration": 5,
    "start_time": "2022-05-05T17:37:38.450Z"
   },
   {
    "duration": 8,
    "start_time": "2022-05-05T17:37:38.456Z"
   },
   {
    "duration": 8,
    "start_time": "2022-05-05T17:37:38.465Z"
   },
   {
    "duration": 5,
    "start_time": "2022-05-05T17:37:38.474Z"
   },
   {
    "duration": 10,
    "start_time": "2022-05-05T17:37:38.483Z"
   },
   {
    "duration": 8,
    "start_time": "2022-05-05T17:37:38.495Z"
   },
   {
    "duration": 254,
    "start_time": "2022-05-05T17:37:38.504Z"
   },
   {
    "duration": 20,
    "start_time": "2022-05-05T17:37:38.760Z"
   },
   {
    "duration": 299,
    "start_time": "2022-05-05T17:37:38.781Z"
   },
   {
    "duration": 7,
    "start_time": "2022-05-05T17:37:39.081Z"
   },
   {
    "duration": 224,
    "start_time": "2022-05-05T17:37:39.090Z"
   },
   {
    "duration": 7,
    "start_time": "2022-05-05T17:37:39.316Z"
   }
  ],
  "kernelspec": {
   "display_name": "Python 3",
   "language": "python",
   "name": "python3"
  },
  "language_info": {
   "codemirror_mode": {
    "name": "ipython",
    "version": 3
   },
   "file_extension": ".py",
   "mimetype": "text/x-python",
   "name": "python",
   "nbconvert_exporter": "python",
   "pygments_lexer": "ipython3",
   "version": "3.8.5"
  },
  "toc": {
   "base_numbering": 1,
   "nav_menu": {},
   "number_sections": true,
   "sideBar": true,
   "skip_h1_title": true,
   "title_cell": "Table of Contents",
   "title_sidebar": "Contents",
   "toc_cell": false,
   "toc_position": {},
   "toc_section_display": true,
   "toc_window_display": false
  }
 },
 "nbformat": 4,
 "nbformat_minor": 4
}
